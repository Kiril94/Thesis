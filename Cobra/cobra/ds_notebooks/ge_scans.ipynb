{
 "cells": [
  {
   "cell_type": "code",
   "execution_count": 1,
   "id": "14ed7631",
   "metadata": {},
   "outputs": [],
   "source": [
    "import sys\n",
    "base_dir = \"D:/Thesis/Cobra/cobra/\"\n",
    "if base_dir not in sys.path:\n",
    "    sys.path.append(base_dir)\n",
    "from os.path import join\n",
    "import pandas as pd\n",
    "from utilities import basic, utils, mri_stats, stats\n",
    "import numpy as np"
   ]
  },
  {
   "cell_type": "code",
   "execution_count": 2,
   "id": "72dd9643",
   "metadata": {},
   "outputs": [
    {
     "name": "stderr",
     "output_type": "stream",
     "text": [
      "C:\\Users\\klein\\AppData\\Roaming\\Python\\Python37\\site-packages\\ipykernel_launcher.py:2: DtypeWarning: Columns (0,2) have mixed types.Specify dtype option on import or set low_memory=False.\n",
      "  \n"
     ]
    }
   ],
   "source": [
    "table_dir = join(base_dir, 'data/tables')\n",
    "df = utils.load_scan_csv(join(table_dir, 'neg_pos.csv'))"
   ]
  },
  {
   "cell_type": "markdown",
   "id": "545661c2",
   "metadata": {},
   "source": [
    "### Select Manufacturer and B0 "
   ]
  },
  {
   "cell_type": "code",
   "execution_count": 31,
   "id": "a2983903",
   "metadata": {},
   "outputs": [
    {
     "data": {
      "text/plain": [
       "4070"
      ]
     },
     "execution_count": 31,
     "metadata": {},
     "output_type": "execute_result"
    }
   ],
   "source": [
    "df = df[df.Manufacturer=='GE MEDICAL SYSTEMS']\n",
    "df = df.dropna(subset=['MagneticFieldStrength'])"
   ]
  },
  {
   "cell_type": "markdown",
   "id": "01001b1b",
   "metadata": {},
   "source": [
    "### Get patients with DWI AND T2*GRE"
   ]
  },
  {
   "cell_type": "code",
   "execution_count": 36,
   "id": "94b4e67d",
   "metadata": {},
   "outputs": [],
   "source": [
    "mask_dict, tag_dict = mri_stats.get_masks_dict(df)"
   ]
  },
  {
   "cell_type": "markdown",
   "id": "ff9fd59a",
   "metadata": {},
   "source": [
    "#### Lets use only the Series Description, not the predicted image) "
   ]
  },
  {
   "cell_type": "code",
   "execution_count": 93,
   "id": "964b8132",
   "metadata": {},
   "outputs": [],
   "source": [
    "dwi_tags = ['DWI', 'DTI']\n",
    "df_dwi = df[stats.check_tags(df, dwi_tags)]\n",
    "df_t2s_gre = df[mask_dict['t2s'] & mask_dict['gre']]\n",
    "dwi_pat = set(df_dwi.PatientID.unique())\n",
    "t2s_gre_pat = set(df_t2s_gre.PatientID.unique())\n",
    "pat_t2s_dwi = np.array(list(dwi_pat.intersection(t2s_gre_pat)))"
   ]
  },
  {
   "cell_type": "markdown",
   "id": "b53bb2a2",
   "metadata": {},
   "source": [
    "#### Save the patient list "
   ]
  },
  {
   "cell_type": "code",
   "execution_count": 95,
   "id": "4bb03228",
   "metadata": {},
   "outputs": [],
   "source": [
    "np.savetxt(\"D:\\\\Thesis\\\\Cobra\\\\cobra\\\\data\\\\share\\\\Cerebriu\\\\download_patients\\\\ge_dwi_t2s_gre.txt\",\n",
    "          pat_t2s_dwi,delimiter=\" \", fmt=\"%s\")"
   ]
  },
  {
   "cell_type": "code",
   "execution_count": 75,
   "id": "6f9d3062",
   "metadata": {},
   "outputs": [],
   "source": [
    "df_comb = df[df.PatientID.isin(pat_t2s_dwi)]"
   ]
  },
  {
   "cell_type": "code",
   "execution_count": 96,
   "id": "c404f6f3",
   "metadata": {},
   "outputs": [
    {
     "data": {
      "text/plain": [
       "152733                                      Sag 3D FIESTA-C\n",
       "152734                                               Ax DWI\n",
       "152735                                           Ax T2* GRE\n",
       "152736    ADC (10^-6 mmÃÂÃÂÃÂÃÂÃÂÃÂÃÂÃÂÃ...\n",
       "152737                                SAG T2 512 FSE (Flow)\n",
       "152738                                      Ax T2 PROPELLER\n",
       "152739                                      Cor T2 FLAIR FS\n",
       "152740                                         Sag T1 FLAIR\n",
       "Name: SeriesDescription, dtype: object"
      ]
     },
     "execution_count": 96,
     "metadata": {},
     "output_type": "execute_result"
    }
   ],
   "source": [
    "df_comb[df_comb.PatientID==pat_t2s_dwi[4]].SeriesDescription"
   ]
  },
  {
   "cell_type": "code",
   "execution_count": 80,
   "id": "6183ce22",
   "metadata": {},
   "outputs": [
    {
     "data": {
      "text/plain": [
       "1.5    375\n",
       "3.0     26\n",
       "Name: MagneticFieldStrength, dtype: int64"
      ]
     },
     "execution_count": 80,
     "metadata": {},
     "output_type": "execute_result"
    }
   ],
   "source": [
    "df_comb.MagneticFieldStrength.value_counts()"
   ]
  }
 ],
 "metadata": {
  "interpreter": {
   "hash": "fd64557248a61079a8b01b27957eac8e3bd9d72e2f60908e3e6321fba2096ec7"
  },
  "kernelspec": {
   "display_name": "Python 3.7.11 64-bit ('cobra': conda)",
   "name": "python3"
  },
  "language_info": {
   "codemirror_mode": {
    "name": "ipython",
    "version": 3
   },
   "file_extension": ".py",
   "mimetype": "text/x-python",
   "name": "python",
   "nbconvert_exporter": "python",
   "pygments_lexer": "ipython3",
   "version": "3.7.11"
  },
  "latex_envs": {
   "LaTeX_envs_menu_present": true,
   "autoclose": false,
   "autocomplete": true,
   "bibliofile": "biblio.bib",
   "cite_by": "apalike",
   "current_citInitial": 1,
   "eqLabelWithNumbers": true,
   "eqNumInitial": 1,
   "hotkeys": {
    "equation": "Ctrl-E",
    "itemize": "Ctrl-I"
   },
   "labels_anchors": false,
   "latex_user_defs": false,
   "report_style_numbering": false,
   "user_envs_cfg": false
  },
  "toc": {
   "base_numbering": 1,
   "nav_menu": {},
   "number_sections": true,
   "sideBar": true,
   "skip_h1_title": false,
   "title_cell": "Table of Contents",
   "title_sidebar": "Contents",
   "toc_cell": false,
   "toc_position": {},
   "toc_section_display": true,
   "toc_window_display": false
  },
  "varInspector": {
   "cols": {
    "lenName": 16,
    "lenType": 16,
    "lenVar": 40
   },
   "kernels_config": {
    "python": {
     "delete_cmd_postfix": "",
     "delete_cmd_prefix": "del ",
     "library": "var_list.py",
     "varRefreshCmd": "print(var_dic_list())"
    },
    "r": {
     "delete_cmd_postfix": ") ",
     "delete_cmd_prefix": "rm(",
     "library": "var_list.r",
     "varRefreshCmd": "cat(var_dic_list()) "
    }
   },
   "types_to_exclude": [
    "module",
    "function",
    "builtin_function_or_method",
    "instance",
    "_Feature"
   ],
   "window_display": false
  }
 },
 "nbformat": 4,
 "nbformat_minor": 5
}
