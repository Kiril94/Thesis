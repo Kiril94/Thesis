{
 "cells": [
  {
   "cell_type": "code",
   "execution_count": 18,
   "metadata": {},
   "outputs": [],
   "source": [
    "import sys\n",
    "base_dir = \"D:/Thesis/Cobra/cobra/\"\n",
    "if base_dir not in sys.path:\n",
    "    sys.path.append(base_dir)\n",
    "from os.path import join\n",
    "import pandas as pd\n",
    "from utilities import basic, utils, mri_stats, stats\n",
    "from datetime import datetime as dt"
   ]
  },
  {
   "cell_type": "code",
   "execution_count": 50,
   "metadata": {},
   "outputs": [
    {
     "name": "stderr",
     "output_type": "stream",
     "text": [
      "C:\\Users\\klein\\AppData\\Roaming\\Python\\Python37\\site-packages\\ipykernel_launcher.py:3: DtypeWarning: Columns (0,2) have mixed types.Specify dtype option on import or set low_memory=False.\n",
      "  This is separate from the ipykernel package so we can avoid doing imports until\n"
     ]
    }
   ],
   "source": [
    "table_dir = join(base_dir, 'data/tables')\n",
    "df = utils.load_scan_csv(join(table_dir, 'neg_pos.csv'))"
   ]
  },
  {
   "cell_type": "code",
   "execution_count": 65,
   "metadata": {},
   "outputs": [],
   "source": [
    "D_k = 'InstanceCreationDate'\n",
    "T_k = 'InstanceCreationTime'\n",
    "def convert_to_date(x):\n",
    "    try:\n",
    "        return dt.strptime(x, \"%Y-%m-%d\").date()\n",
    "    except:\n",
    "        return pd.NaT\n",
    "def convert_to_time(x):\n",
    "    try:\n",
    "        return dt.strptime(x, \"%H:%M:%S\").time()\n",
    "    except:\n",
    "        return pd.NaT\n",
    "df.InstanceCreationDate = df.InstanceCreationDate.map(lambda x: convert_to_date(x))\n",
    "df.InstanceCreationTime = df.InstanceCreationTime.map(lambda x: convert_to_time(x))"
   ]
  },
  {
   "cell_type": "code",
   "execution_count": 68,
   "metadata": {},
   "outputs": [
    {
     "data": {
      "text/plain": [
       "0         2019-10-17\n",
       "1         2019-10-17\n",
       "2                NaT\n",
       "3                NaT\n",
       "4                NaT\n",
       "             ...    \n",
       "315922    2019-09-20\n",
       "315923           NaT\n",
       "315924           NaT\n",
       "315925    2019-09-20\n",
       "315926    2019-09-20\n",
       "Name: InstanceCreationDate, Length: 314430, dtype: object"
      ]
     },
     "execution_count": 68,
     "metadata": {},
     "output_type": "execute_result"
    }
   ],
   "source": [
    "df[df.Pos==0].InstanceCreationDate"
   ]
  },
  {
   "cell_type": "code",
   "execution_count": 71,
   "metadata": {},
   "outputs": [
    {
     "data": {
      "text/plain": [
       "0         11:31:44\n",
       "1         11:32:24\n",
       "2              NaT\n",
       "3              NaT\n",
       "4              NaT\n",
       "            ...   \n",
       "315922    11:15:43\n",
       "315923         NaT\n",
       "315924         NaT\n",
       "315925    11:29:14\n",
       "315926    11:21:28\n",
       "Name: InstanceCreationTime, Length: 314430, dtype: object"
      ]
     },
     "execution_count": 71,
     "metadata": {},
     "output_type": "execute_result"
    }
   ],
   "source": [
    "df[df.Pos==0].InstanceCreationTime"
   ]
  },
  {
   "cell_type": "code",
   "execution_count": 95,
   "metadata": {},
   "outputs": [],
   "source": [
    "def combine_date_time(a, b):\n",
    "    try:\n",
    "        return dt.combine(a, b)\n",
    "    except:\n",
    "        return pd.NaT\n",
    "    \n",
    "s = df.apply(lambda x: combine_date_time(a = x[D_k], b = x[T_k]), axis=1).values"
   ]
  },
  {
   "cell_type": "code",
   "execution_count": 97,
   "metadata": {},
   "outputs": [
    {
     "data": {
      "text/plain": [
       "numpy.datetime64('2019-10-17T11:31:44.000000000')"
      ]
     },
     "execution_count": 97,
     "metadata": {},
     "output_type": "execute_result"
    }
   ],
   "source": []
  },
  {
   "cell_type": "code",
   "execution_count": 73,
   "metadata": {},
   "outputs": [
    {
     "data": {
      "text/plain": [
       "2019"
      ]
     },
     "execution_count": 73,
     "metadata": {},
     "output_type": "execute_result"
    }
   ],
   "source": [
    "dt.combine(df[df.Pos==0].InstanceCreationDate[0], df[df.Pos==0].InstanceCreationTime[0])"
   ]
  },
  {
   "cell_type": "code",
   "execution_count": 88,
   "metadata": {},
   "outputs": [
    {
     "data": {
      "text/plain": [
       "0         2019-10-17\n",
       "1         2019-10-17\n",
       "2                NaT\n",
       "3                NaT\n",
       "4                NaT\n",
       "             ...    \n",
       "315922    2019-09-20\n",
       "315923           NaT\n",
       "315924           NaT\n",
       "315925    2019-09-20\n",
       "315926    2019-09-20\n",
       "Name: InstanceCreationDate, Length: 314430, dtype: object"
      ]
     },
     "execution_count": 88,
     "metadata": {},
     "output_type": "execute_result"
    }
   ],
   "source": [
    "df[df.Pos==0].InstanceCreationDate"
   ]
  },
  {
   "cell_type": "code",
   "execution_count": null,
   "metadata": {},
   "outputs": [],
   "source": []
  },
  {
   "cell_type": "code",
   "execution_count": 92,
   "metadata": {},
   "outputs": [
    {
     "data": {
      "text/plain": [
       "0        NaT\n",
       "1        NaT\n",
       "2        NaT\n",
       "3        NaT\n",
       "4        NaT\n",
       "          ..\n",
       "315922   NaT\n",
       "315923   NaT\n",
       "315924   NaT\n",
       "315925   NaT\n",
       "315926   NaT\n",
       "Name: DateTime, Length: 314430, dtype: datetime64[ns]"
      ]
     },
     "execution_count": 92,
     "metadata": {},
     "output_type": "execute_result"
    }
   ],
   "source": [
    "df[df.Pos==0].DateTime"
   ]
  },
  {
   "cell_type": "code",
   "execution_count": 28,
   "metadata": {},
   "outputs": [
    {
     "data": {
      "text/plain": [
       "datetime.date(2019, 10, 17)"
      ]
     },
     "execution_count": 28,
     "metadata": {},
     "output_type": "execute_result"
    }
   ],
   "source": [
    "dt.strptime(df_n.InstanceCreationDate[0], \"%Y-%m-%d\").date()"
   ]
  },
  {
   "cell_type": "code",
   "execution_count": 17,
   "metadata": {},
   "outputs": [
    {
     "data": {
      "text/plain": [
       "nan"
      ]
     },
     "execution_count": 17,
     "metadata": {},
     "output_type": "execute_result"
    }
   ],
   "source": [
    "datetime.datetime.combine(datetime.date(2011, 1, 1), \n",
    "                          datetime.time(10, 23))"
   ]
  }
 ],
 "metadata": {
  "interpreter": {
   "hash": "fd64557248a61079a8b01b27957eac8e3bd9d72e2f60908e3e6321fba2096ec7"
  },
  "kernelspec": {
   "display_name": "Python 3.7.11 64-bit ('cobra': conda)",
   "name": "python3"
  },
  "language_info": {
   "codemirror_mode": {
    "name": "ipython",
    "version": 3
   },
   "file_extension": ".py",
   "mimetype": "text/x-python",
   "name": "python",
   "nbconvert_exporter": "python",
   "pygments_lexer": "ipython3",
   "version": "3.7.11"
  },
  "orig_nbformat": 4
 },
 "nbformat": 4,
 "nbformat_minor": 2
}
