{
 "cells": [
  {
   "cell_type": "code",
   "execution_count": 1,
   "metadata": {},
   "outputs": [],
   "source": [
    "import sys\n",
    "base_dir = \"D:/Thesis/Cobra/cobra/\"\n",
    "if base_dir not in sys.path:\n",
    "    sys.path.append(base_dir)\n",
    "from os.path import join\n",
    "import pandas as pd\n",
    "from utilities import utils\n",
    "from stats_tools import vis as svis\n",
    "from datetime import datetime as dt\n",
    "import numpy as np"
   ]
  },
  {
   "cell_type": "code",
   "execution_count": 2,
   "metadata": {},
   "outputs": [
    {
     "name": "stderr",
     "output_type": "stream",
     "text": [
      "C:\\Users\\klein\\AppData\\Roaming\\Python\\Python37\\site-packages\\ipykernel_launcher.py:2: DtypeWarning: Columns (0,2) have mixed types.Specify dtype option on import or set low_memory=False.\n",
      "  \n"
     ]
    }
   ],
   "source": [
    "table_dir = join(base_dir, 'data/tables')\n",
    "df = utils.load_scan_csv(join(table_dir, 'neg_pos.csv'))\n",
    "D_k = 'InstanceCreationDate'\n",
    "T_k = 'InstanceCreationTime'\n",
    "def convert_to_date(x):\n",
    "    try:\n",
    "        return dt.strptime(x, \"%Y-%m-%d\").date()\n",
    "    except:\n",
    "        return pd.NaT\n",
    "def convert_to_time(x):\n",
    "    try:\n",
    "        return dt.strptime(x, \"%H:%M:%S\").time()\n",
    "    except:\n",
    "        return pd.NaT\n",
    "df.InstanceCreationDate = df.InstanceCreationDate.map(lambda x: convert_to_date(x))\n",
    "df.InstanceCreationTime = df.InstanceCreationTime.map(lambda x: convert_to_time(x))"
   ]
  },
  {
   "cell_type": "code",
   "execution_count": 3,
   "metadata": {},
   "outputs": [],
   "source": [
    "df_n = df[df.Pos==0]"
   ]
  },
  {
   "cell_type": "code",
   "execution_count": 15,
   "metadata": {},
   "outputs": [
    {
     "name": "stdout",
     "output_type": "stream",
     "text": [
      "negative entries:  328489\n",
      "date not given:  54325\n"
     ]
    }
   ],
   "source": [
    "print(\"negative entries: \",len(df))\n",
    "print(\"date not given: \", df.InstanceCreationDate.isnull().sum())"
   ]
  },
  {
   "cell_type": "markdown",
   "metadata": {},
   "source": [
    "# Check if scans from same study can have different dates"
   ]
  },
  {
   "cell_type": "markdown",
   "metadata": {},
   "source": [
    "## Plot difference in days distribution for each study"
   ]
  },
  {
   "cell_type": "code",
   "execution_count": 5,
   "metadata": {},
   "outputs": [],
   "source": [
    "study_date_count = df_n.dropna(subset=['InstanceCreationDate']).groupby('StudyInstanceUID')['InstanceCreationDate'].nunique()\n",
    "mask_diff_days = study_date_count[study_date_count>1]\n",
    "df_different_dates = df_n[df_n.StudyInstanceUID.isin(mask_diff_days.index)]\n",
    "df_different_dates = df_different_dates.dropna(subset=['InstanceCreationDate'])\n",
    "gb_sid = df_different_dates.groupby('StudyInstanceUID')\n",
    "first_day = gb_sid['InstanceCreationDate'].min()"
   ]
  },
  {
   "cell_type": "code",
   "execution_count": 6,
   "metadata": {},
   "outputs": [],
   "source": [
    "differences = []\n",
    "for index, row in df_different_dates.iterrows():\n",
    "    differences.append((row['InstanceCreationDate'] - first_day[row['StudyInstanceUID']]).days)\n",
    "differences = np.array(differences)"
   ]
  },
  {
   "cell_type": "code",
   "execution_count": 17,
   "metadata": {},
   "outputs": [
    {
     "data": {
      "image/png": "[encoded data removed]",
      "text/plain": [
       "<Figure size 864x432 with 1 Axes>"
      ]
     },
     "metadata": {},
     "output_type": "display_data"
    }
   ],
   "source": [
    "_ = svis.hist(differences, np.arange(0,200,10), kwargs={'ylogscale':True})"
   ]
  },
  {
   "cell_type": "markdown",
   "metadata": {},
   "source": [
    "## -> because of the date differences within a study folder, we cannot replace missing values by the other dates in the study"
   ]
  },
  {
   "cell_type": "code",
   "execution_count": 30,
   "metadata": {},
   "outputs": [
    {
     "data": {
      "text/plain": [
       "193585           NaN\n",
       "193586    2019-05-29\n",
       "193587    2019-05-29\n",
       "193588    2019-05-29\n",
       "193589           NaN\n",
       "193590    2020-11-04\n",
       "193591    2019-05-29\n",
       "193592    2019-05-29\n",
       "193593           NaN\n",
       "193594    2019-05-29\n",
       "193595    2019-05-29\n",
       "193596    2019-05-29\n",
       "193597    2019-06-04\n",
       "193598           NaN\n",
       "193599    2019-05-29\n",
       "193600    2019-06-05\n",
       "193601    2019-05-29\n",
       "193602    2019-05-29\n",
       "193603    2019-05-29\n",
       "193604    2019-05-29\n",
       "193605    2019-05-29\n",
       "193606    2019-05-29\n",
       "193607    2019-06-05\n",
       "193608    2019-05-29\n",
       "Name: InstanceCreationDate, dtype: object"
      ]
     },
     "execution_count": 30,
     "metadata": {},
     "output_type": "execute_result"
    }
   ],
   "source": [
    "study_date_count = df.groupby('StudyInstanceUID')['InstanceCreationDate'].nunique()\n",
    "not_unique = study_date_count[study_date_count==4]\n",
    "#len(df.groupby('StudyInstanceUID')['InstanceCreationDate'].nunique())\n",
    "#print(df.groupby('StudyInstanceUID')['InstanceCreationDate'].nunique().sum())\n",
    "index5 = not_unique.index[0]\n",
    "df[df.StudyInstanceUID==index5].InstanceCreationDate"
   ]
  },
  {
   "cell_type": "code",
   "execution_count": 5,
   "metadata": {},
   "outputs": [],
   "source": [
    "D_k = 'InstanceCreationDate'\n",
    "T_k = 'InstanceCreationTime'\n",
    "def convert_to_date(x):\n",
    "    try:\n",
    "        return dt.strptime(x, \"%Y-%m-%d\").date()\n",
    "    except:\n",
    "        return pd.NaT\n",
    "def convert_to_time(x):\n",
    "    try:\n",
    "        return dt.strptime(x, \"%H:%M:%S\").time()\n",
    "    except:\n",
    "        return pd.NaT\n",
    "df.InstanceCreationDate = df.InstanceCreationDate.map(lambda x: convert_to_date(x))\n",
    "df.InstanceCreationTime = df.InstanceCreationTime.map(lambda x: convert_to_time(x))"
   ]
  },
  {
   "cell_type": "code",
   "execution_count": 6,
   "metadata": {},
   "outputs": [],
   "source": [
    "df_n = df[df.Pos==0]"
   ]
  },
  {
   "cell_type": "code",
   "execution_count": 7,
   "metadata": {},
   "outputs": [
    {
     "data": {
      "text/plain": [
       "0        NaT\n",
       "1        NaT\n",
       "2        NaT\n",
       "3        NaT\n",
       "4        NaT\n",
       "          ..\n",
       "315922   NaT\n",
       "315923   NaT\n",
       "315924   NaT\n",
       "315925   NaT\n",
       "315926   NaT\n",
       "Name: InstanceCreationDate, Length: 314430, dtype: datetime64[ns]"
      ]
     },
     "execution_count": 7,
     "metadata": {},
     "output_type": "execute_result"
    }
   ],
   "source": [
    "df_n.InstanceCreationDate"
   ]
  },
  {
   "cell_type": "code",
   "execution_count": 8,
   "metadata": {},
   "outputs": [
    {
     "data": {
      "text/plain": [
       "0        NaT\n",
       "1        NaT\n",
       "2        NaT\n",
       "3        NaT\n",
       "4        NaT\n",
       "          ..\n",
       "315922   NaT\n",
       "315923   NaT\n",
       "315924   NaT\n",
       "315925   NaT\n",
       "315926   NaT\n",
       "Name: InstanceCreationTime, Length: 314430, dtype: datetime64[ns]"
      ]
     },
     "execution_count": 8,
     "metadata": {},
     "output_type": "execute_result"
    }
   ],
   "source": [
    "df_n.InstanceCreationTime"
   ]
  },
  {
   "cell_type": "code",
   "execution_count": 95,
   "metadata": {},
   "outputs": [],
   "source": [
    "def combine_date_time(a, b):\n",
    "    try:\n",
    "        return dt.combine(a, b)\n",
    "    except:\n",
    "        return pd.NaT\n",
    "    \n",
    "s = df.apply(lambda x: combine_date_time(a = x[D_k], b = x[T_k]), axis=1).values"
   ]
  },
  {
   "cell_type": "code",
   "execution_count": 97,
   "metadata": {},
   "outputs": [
    {
     "data": {
      "text/plain": [
       "numpy.datetime64('2019-10-17T11:31:44.000000000')"
      ]
     },
     "execution_count": 97,
     "metadata": {},
     "output_type": "execute_result"
    }
   ],
   "source": []
  },
  {
   "cell_type": "code",
   "execution_count": 3,
   "metadata": {},
   "outputs": [
    {
     "ename": "TypeError",
     "evalue": "combine() argument 1 must be datetime.date, not str",
     "output_type": "error",
     "traceback": [
      "\u001b[1;31m---------------------------------------------------------------------------\u001b[0m",
      "\u001b[1;31mTypeError\u001b[0m                                 Traceback (most recent call last)",
      "\u001b[1;32m<ipython-input-3-91ca1133eabf>\u001b[0m in \u001b[0;36m<module>\u001b[1;34m\u001b[0m\n\u001b[1;32m----> 1\u001b[1;33m \u001b[0mdt\u001b[0m\u001b[1;33m.\u001b[0m\u001b[0mcombine\u001b[0m\u001b[1;33m(\u001b[0m\u001b[0mdf\u001b[0m\u001b[1;33m[\u001b[0m\u001b[0mdf\u001b[0m\u001b[1;33m.\u001b[0m\u001b[0mPos\u001b[0m\u001b[1;33m==\u001b[0m\u001b[1;36m0\u001b[0m\u001b[1;33m]\u001b[0m\u001b[1;33m.\u001b[0m\u001b[0mInstanceCreationDate\u001b[0m\u001b[1;33m[\u001b[0m\u001b[1;36m0\u001b[0m\u001b[1;33m]\u001b[0m\u001b[1;33m,\u001b[0m \u001b[0mdf\u001b[0m\u001b[1;33m[\u001b[0m\u001b[0mdf\u001b[0m\u001b[1;33m.\u001b[0m\u001b[0mPos\u001b[0m\u001b[1;33m==\u001b[0m\u001b[1;36m0\u001b[0m\u001b[1;33m]\u001b[0m\u001b[1;33m.\u001b[0m\u001b[0mInstanceCreationTime\u001b[0m\u001b[1;33m[\u001b[0m\u001b[1;36m0\u001b[0m\u001b[1;33m]\u001b[0m\u001b[1;33m)\u001b[0m\u001b[1;33m\u001b[0m\u001b[1;33m\u001b[0m\u001b[0m\n\u001b[0m",
      "\u001b[1;31mTypeError\u001b[0m: combine() argument 1 must be datetime.date, not str"
     ]
    }
   ],
   "source": [
    "dt.combine(df[df.Pos==0].InstanceCreationDate[0], df[df.Pos==0].InstanceCreationTime[0])"
   ]
  },
  {
   "cell_type": "code",
   "execution_count": 88,
   "metadata": {},
   "outputs": [
    {
     "data": {
      "text/plain": [
       "0         2019-10-17\n",
       "1         2019-10-17\n",
       "2                NaT\n",
       "3                NaT\n",
       "4                NaT\n",
       "             ...    \n",
       "315922    2019-09-20\n",
       "315923           NaT\n",
       "315924           NaT\n",
       "315925    2019-09-20\n",
       "315926    2019-09-20\n",
       "Name: InstanceCreationDate, Length: 314430, dtype: object"
      ]
     },
     "execution_count": 88,
     "metadata": {},
     "output_type": "execute_result"
    }
   ],
   "source": [
    "df[df.Pos==0].InstanceCreationDate"
   ]
  },
  {
   "cell_type": "code",
   "execution_count": null,
   "metadata": {},
   "outputs": [],
   "source": []
  },
  {
   "cell_type": "code",
   "execution_count": 92,
   "metadata": {},
   "outputs": [
    {
     "data": {
      "text/plain": [
       "0        NaT\n",
       "1        NaT\n",
       "2        NaT\n",
       "3        NaT\n",
       "4        NaT\n",
       "          ..\n",
       "315922   NaT\n",
       "315923   NaT\n",
       "315924   NaT\n",
       "315925   NaT\n",
       "315926   NaT\n",
       "Name: DateTime, Length: 314430, dtype: datetime64[ns]"
      ]
     },
     "execution_count": 92,
     "metadata": {},
     "output_type": "execute_result"
    }
   ],
   "source": [
    "df[df.Pos==0].DateTime"
   ]
  },
  {
   "cell_type": "code",
   "execution_count": 28,
   "metadata": {},
   "outputs": [
    {
     "data": {
      "text/plain": [
       "datetime.date(2019, 10, 17)"
      ]
     },
     "execution_count": 28,
     "metadata": {},
     "output_type": "execute_result"
    }
   ],
   "source": [
    "dt.strptime(df_n.InstanceCreationDate[0], \"%Y-%m-%d\").date()"
   ]
  },
  {
   "cell_type": "code",
   "execution_count": 17,
   "metadata": {},
   "outputs": [
    {
     "data": {
      "text/plain": [
       "nan"
      ]
     },
     "execution_count": 17,
     "metadata": {},
     "output_type": "execute_result"
    }
   ],
   "source": [
    "datetime.datetime.combine(datetime.date(2011, 1, 1), \n",
    "                          datetime.time(10, 23))"
   ]
  }
 ],
 "metadata": {
  "interpreter": {
   "hash": "fd64557248a61079a8b01b27957eac8e3bd9d72e2f60908e3e6321fba2096ec7"
  },
  "kernelspec": {
   "display_name": "Python 3.7.11 64-bit ('cobra': conda)",
   "name": "python3"
  },
  "language_info": {
   "codemirror_mode": {
    "name": "ipython",
    "version": 3
   },
   "file_extension": ".py",
   "mimetype": "text/x-python",
   "name": "python",
   "nbconvert_exporter": "python",
   "pygments_lexer": "ipython3",
   "version": "3.7.11"
  },
  "orig_nbformat": 4
 },
 "nbformat": 4,
 "nbformat_minor": 2
}
