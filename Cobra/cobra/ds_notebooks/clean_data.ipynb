{
 "cells": [
  {
   "cell_type": "code",
   "execution_count": 77,
   "metadata": {},
   "outputs": [],
   "source": [
    "import sys\n",
    "base_dir = \"D:/Thesis/Cobra/cobra/\"\n",
    "if base_dir not in sys.path:\n",
    "    sys.path.append(base_dir)\n",
    "from os.path import join\n",
    "import os\n",
    "import pandas as pd\n",
    "from utilities import utils, stats\n",
    "from access_sif_data import load_data_tools as ld\n",
    "import importlib\n",
    "importlib.reload(utils)\n",
    "from stats_tools import vis as svis\n",
    "from datetime import datetime as dt\n",
    "import numpy as np\n",
    "import matplotlib.pyplot as plt\n",
    "# Changes resolution and size of the figs\n",
    "plt.rcParams[\"figure.dpi\"] = 40\n",
    "plt.style.use('ggplot')"
   ]
  },
  {
   "cell_type": "markdown",
   "metadata": {},
   "source": [
    "# Check DateTime"
   ]
  },
  {
   "cell_type": "markdown",
   "metadata": {},
   "source": [
    "## Load df and convert string to date and time"
   ]
  },
  {
   "cell_type": "code",
   "execution_count": 67,
   "metadata": {},
   "outputs": [
    {
     "name": "stderr",
     "output_type": "stream",
     "text": [
      "ipykernel_launcher:2: FutureWarning: The error_bad_lines argument has been deprecated and will be removed in a future version.\n",
      "\n",
      "\n",
      "ipykernel_launcher:2: DtypeWarning: Columns (4,5) have mixed types.Specify dtype option on import or set low_memory=False.\n"
     ]
    }
   ],
   "source": [
    "table_dir = join(base_dir, 'data','tables')\n",
    "df = utils.load_scan_csv(join(table_dir, 'neg_pos.csv'))"
   ]
  },
  {
   "cell_type": "code",
   "execution_count": 78,
   "metadata": {},
   "outputs": [],
   "source": [
    "df_p = utils.load_scan_csv(join(table_dir, 'pos.csv'))"
   ]
  },
  {
   "cell_type": "code",
   "execution_count": 83,
   "metadata": {},
   "outputs": [],
   "source": [
    "df_p = pd.read_csv(join(table_dir, 'pos.csv'))"
   ]
  },
  {
   "cell_type": "code",
   "execution_count": 84,
   "metadata": {},
   "outputs": [
    {
     "data": {
      "text/plain": [
       "1890"
      ]
     },
     "execution_count": 84,
     "metadata": {},
     "output_type": "execute_result"
    }
   ],
   "source": [
    "df_p.InstanceCreationDate.isnull().sum()"
   ]
  },
  {
   "cell_type": "markdown",
   "metadata": {},
   "source": [
    "### Drop all 'other' sequences"
   ]
  },
  {
   "cell_type": "code",
   "execution_count": 61,
   "metadata": {},
   "outputs": [],
   "source": [
    "df_clean = df[~(df.Sequence=='other')]"
   ]
  },
  {
   "cell_type": "code",
   "execution_count": 66,
   "metadata": {},
   "outputs": [
    {
     "data": {
      "text/plain": [
       "207023"
      ]
     },
     "execution_count": 66,
     "metadata": {},
     "output_type": "execute_result"
    }
   ],
   "source": [
    "df_clean.InstanceCreationDate.isnull().sum()"
   ]
  },
  {
   "cell_type": "code",
   "execution_count": 59,
   "metadata": {},
   "outputs": [],
   "source": [
    "df_clean = df_clean[~df_clean.InstanceCreationDate.isnull()]"
   ]
  },
  {
   "cell_type": "code",
   "execution_count": 60,
   "metadata": {},
   "outputs": [
    {
     "data": {
      "text/plain": [
       "Series([], Name: InstanceCreationDate, dtype: datetime64[ns])"
      ]
     },
     "execution_count": 60,
     "metadata": {},
     "output_type": "execute_result"
    }
   ],
   "source": [
    "df_clean.InstanceCreationDate"
   ]
  },
  {
   "cell_type": "markdown",
   "metadata": {},
   "source": [
    "## Search for dates in Series Description"
   ]
  },
  {
   "cell_type": "code",
   "execution_count": 5,
   "metadata": {},
   "outputs": [
    {
     "name": "stdout",
     "output_type": "stream",
     "text": [
      "54325 volumes out of 328489 have no date given\n",
      "274164 volumes have a date\n"
     ]
    }
   ],
   "source": [
    "mask_missing_dates = df.InstanceCreationDate.isnull()\n",
    "df_missing_date = df[mask_missing_dates]\n",
    "print(len(df_missing_date), f'volumes out of {len(df)} have no date given')\n",
    "print(f'{len(df)-len(df_missing_date)} volumes have a date')"
   ]
  },
  {
   "cell_type": "code",
   "execution_count": 6,
   "metadata": {},
   "outputs": [
    {
     "name": "stdout",
     "output_type": "stream",
     "text": [
      "0\n",
      "0\n"
     ]
    }
   ],
   "source": [
    "print(len(df_missing_date[stats.check_tags(df_missing_date, ['\\d\\d-'])].SeriesDescription))\n",
    "print(len(df_missing_date[stats.check_tags(df_missing_date, ['\\d\\d:\\dd'])].SeriesDescription))"
   ]
  },
  {
   "cell_type": "markdown",
   "metadata": {},
   "source": [
    "No volumes for which the series description matches the pattern of a date or time"
   ]
  },
  {
   "cell_type": "markdown",
   "metadata": {},
   "source": [
    "## Check if scans from same study can have different dates"
   ]
  },
  {
   "cell_type": "code",
   "execution_count": 88,
   "metadata": {},
   "outputs": [
    {
     "name": "stderr",
     "output_type": "stream",
     "text": [
      "D:\\Programme\\Anaconda\\envs\\cobra\\lib\\site-packages\\pandas\\core\\generic.py:5516: SettingWithCopyWarning: \n",
      "A value is trying to be set on a copy of a slice from a DataFrame.\n",
      "Try using .loc[row_indexer,col_indexer] = value instead\n",
      "\n",
      "See the caveats in the documentation: https://pandas.pydata.org/pandas-docs/stable/user_guide/indexing.html#returning-a-view-versus-a-copy\n",
      "  self[name] = value\n"
     ]
    }
   ],
   "source": [
    "df_dir_miss = df_dir[df_dir.SeriesInstanceUID.isin(df_missing_date.SeriesInstanceUID)]\n",
    "df_dir_miss.Directory = df_dir_miss.Directory.map(lambda x: 'Y:\\\\'+x)\n",
    "dir_dic = dict(df_dir_miss.values)"
   ]
  },
  {
   "cell_type": "code",
   "execution_count": null,
   "metadata": {},
   "outputs": [],
   "source": [
    "dir_list = list(dir_dic.values())\n",
    "for dir_ in dir_list[200:201]:\n",
    "    dir_ = dir_list[0]\n",
    "    for slice in range(len(os.listdir(dir_))):\n",
    "        date = ld.get_scan_date(dir_,  slice=slice)\n",
    "        if date is not None:\n",
    "            with open(join(base_dir, 'date_log.txt'), 'w') as f:\n",
    "                f.write(f'{dir_}, {slice}, {date}\\n')"
   ]
  },
  {
   "cell_type": "markdown",
   "metadata": {},
   "source": [
    "### ->It seems that either all the scans have date given or none"
   ]
  },
  {
   "cell_type": "markdown",
   "metadata": {},
   "source": [
    "## Plot difference in days distribution for each study"
   ]
  },
  {
   "cell_type": "code",
   "execution_count": 26,
   "metadata": {},
   "outputs": [
    {
     "data": {
      "image/png": "[encoded data removed]",
      "text/plain": [
       "<Figure size 480x240 with 1 Axes>"
      ]
     },
     "metadata": {},
     "output_type": "display_data"
    }
   ],
   "source": [
    "study_date_count = df.dropna(subset=['InstanceCreationDate']).groupby('StudyInstanceUID')['InstanceCreationDate'].nunique()\n",
    "mask_diff_days = study_date_count[study_date_count>1]\n",
    "df_different_dates = df[df.StudyInstanceUID.isin(mask_diff_days.index)]\n",
    "df_different_dates = df_different_dates.dropna(subset=['InstanceCreationDate'])\n",
    "gb_sid = df_different_dates.groupby('StudyInstanceUID')\n",
    "first_day = gb_sid['InstanceCreationDate'].min()\n",
    "\n",
    "differences = []\n",
    "for index, row in df_different_dates.iterrows():\n",
    "    differences.append((row['InstanceCreationDate'] - first_day[row['StudyInstanceUID']]).days)\n",
    "differences = np.array(differences)\n",
    "\n",
    "_ = svis.hist(differences, np.arange(0,200,10), kwargs={'ylogscale':True})"
   ]
  },
  {
   "cell_type": "markdown",
   "metadata": {},
   "source": [
    "## -> because of the date differences within a study folder, we cannot replace missing values by the other dates in the study"
   ]
  },
  {
   "cell_type": "markdown",
   "metadata": {},
   "source": [
    "## Plot scan dates"
   ]
  },
  {
   "cell_type": "code",
   "execution_count": 25,
   "metadata": {},
   "outputs": [
    {
     "name": "stderr",
     "output_type": "stream",
     "text": [
      "C:\\Users\\klein\\AppData\\Roaming\\Python\\Python37\\site-packages\\ipykernel_launcher.py:2: UserWarning: Boolean Series key will be reindexed to match DataFrame index.\n",
      "  \n"
     ]
    },
    {
     "data": {
      "image/png": "[encoded data removed]",
      "text/plain": [
       "<Figure size 600x320 with 1 Axes>"
      ]
     },
     "metadata": {},
     "output_type": "display_data"
    }
   ],
   "source": [
    "#Now remove all the missing dates\n",
    "df = df[~mask_missing_dates]\n",
    "df[\"InstanceCreationDate\"] = df[\"InstanceCreationDate\"].astype(\"datetime64\")\n",
    "df_p = df[df.Pos==1]\n",
    "df_n = df[df.Pos==0]\n",
    "\n",
    "fig, ax = svis.plot_decorator(df_n.groupby([df_n[\"InstanceCreationDate\"].dt.year, \\\n",
    "    df_n[\"InstanceCreationDate\"].dt.month]).Rows.count().plot, \n",
    "    figsize=(15,8),\n",
    "    plot_func_kwargs={'kind':'bar','label':'Neg', \n",
    "        'color':svis.Color_palette(0)[1],} ,\n",
    "    kwargs={'xtickparams_rot':80, 'ylabel':'Volume Count','ylogscale':False,\n",
    "    })\n",
    "ax = df_p.groupby([df_p[\"InstanceCreationDate\"].dt.year, \\\n",
    "    df_p[\"InstanceCreationDate\"].dt.month]).Rows.count().plot(kind=\"bar\", \n",
    "    color=svis.Color_palette(0)[0], ax=ax, label='Pos')\n",
    "ax.tick_params(axis='x', which='major', labelsize=20, rotation=70)\n",
    "ax.set_xlabel('Date (Year, Month)', fontsize=20)\n",
    "ax.legend(fontsize=20)\n",
    "for label in ax.xaxis.get_ticklabels()[::2]:\n",
    "    label.set_visible(False)"
   ]
  },
  {
   "cell_type": "code",
   "execution_count": 95,
   "metadata": {},
   "outputs": [],
   "source": [
    "def combine_date_time(a, b):\n",
    "    try:\n",
    "        return dt.combine(a, b)\n",
    "    except:\n",
    "        return pd.NaT\n",
    "    \n",
    "s = df.apply(lambda x: combine_date_time(a = x[D_k], b = x[T_k]), axis=1).values"
   ]
  }
 ],
 "metadata": {
  "interpreter": {
   "hash": "fd64557248a61079a8b01b27957eac8e3bd9d72e2f60908e3e6321fba2096ec7"
  },
  "kernelspec": {
   "display_name": "Python 3.7.11 64-bit ('cobra': conda)",
   "name": "python3"
  },
  "language_info": {
   "codemirror_mode": {
    "name": "ipython",
    "version": 3
   },
   "file_extension": ".py",
   "mimetype": "text/x-python",
   "name": "python",
   "nbconvert_exporter": "python",
   "pygments_lexer": "ipython3",
   "version": "3.7.11"
  },
  "orig_nbformat": 4
 },
 "nbformat": 4,
 "nbformat_minor": 2
}
