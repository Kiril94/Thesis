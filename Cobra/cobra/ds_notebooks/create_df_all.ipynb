{
 "cells": [
  {
   "cell_type": "code",
   "execution_count": 1,
   "metadata": {},
   "outputs": [
    {
     "data": {
      "text/plain": [
       "<module 'utilities.utils' from 'D:/Thesis/Cobra/cobra\\\\utilities\\\\utils.py'>"
      ]
     },
     "execution_count": 1,
     "metadata": {},
     "output_type": "execute_result"
    }
   ],
   "source": [
    "from os.path import join\n",
    "import os\n",
    "import pandas as pd\n",
    "import sys\n",
    "base_dir = \"D:/Thesis/Cobra/cobra/\"\n",
    "if base_dir not in sys.path:\n",
    "    sys.path.append(base_dir)\n",
    "from utilities import utils\n",
    "import importlib\n",
    "importlib.reload(utils)"
   ]
  },
  {
   "cell_type": "markdown",
   "metadata": {},
   "source": [
    "# Merge all negatives"
   ]
  },
  {
   "cell_type": "code",
   "execution_count": 3,
   "metadata": {},
   "outputs": [
    {
     "name": "stderr",
     "output_type": "stream",
     "text": [
      "ipykernel_launcher:7: DtypeWarning: Columns (5) have mixed types.Specify dtype option on import or set low_memory=False.\n"
     ]
    }
   ],
   "source": [
    "base_dir = \"D:/Thesis/Cobra/cobra/\"\n",
    "csv_folder = join(base_dir, 'data', 'tables')\n",
    "neg_tab_dirs = sorted([f\"{csv_folder}/{x}\" for x\n",
    "                       in os.listdir(csv_folder) \\\n",
    "                           if x.startswith('healthy')])\n",
    "df_neg_list = [pd.read_csv(csv_path, encoding= 'unicode_escape') for csv_path in\n",
    "               neg_tab_dirs]\n",
    "df_all_neg_2019 = pd.concat(df_neg_list, axis=0, join=\"outer\")\n",
    "# In[Write it to a csv]\n",
    "df_all_neg_2019.to_csv(f\"{csv_folder}/neg_all.csv\", index=False,\n",
    " header=True)"
   ]
  },
  {
   "cell_type": "markdown",
   "metadata": {},
   "source": [
    "# Merge negatives and positives"
   ]
  },
  {
   "cell_type": "code",
   "execution_count": 9,
   "metadata": {},
   "outputs": [],
   "source": [
    "df_pos = utils.load_scan_csv(join(csv_folder, 'pos.csv'))"
   ]
  },
  {
   "cell_type": "code",
   "execution_count": 12,
   "metadata": {},
   "outputs": [],
   "source": [
    "df_all = pd.concat([df_all_neg_2019, df_pos], axis=0, join=\"outer\")\n",
    "df_all.to_csv(f\"{csv_folder}/neg_pos.csv\", index=False,\n",
    " header=True)"
   ]
  },
  {
   "cell_type": "code",
   "execution_count": 13,
   "metadata": {},
   "outputs": [
    {
     "data": {
      "text/plain": [
       "Index(['SeriesInstanceUID', 'StudyInstanceUID', 'PatientID', 'AngioFlag',\n",
       "       'AcquisitionMatrix', 'AcquisitionContrast', 'AcquisitionDuration',\n",
       "       'dBdt', 'EchoTime', 'EchoTrainLength', 'EchoNumbers', 'FlipAngle',\n",
       "       'FrameOfReferenceUID', 'ImagingFrequency', 'ImagedNuclues',\n",
       "       'InstanceCreationDate', 'InstanceCreationTime', 'InversionTime',\n",
       "       'ImagesInAcquisition', 'ImageType', 'MagneticFieldStrength',\n",
       "       'Manufacturer', 'ManufacturerModelName', 'MRAcquisitionType',\n",
       "       'NumberofAverages', 'NumberOfEchoes', 'NumberofPhaseEncodingSteps',\n",
       "       'PatientPosition', 'PixelBandwith', 'PixelPresentation', 'PixelSpacing',\n",
       "       'PhotometricInterpretation', 'PulseSequenceName', 'RepetitionTime',\n",
       "       'Rows', 'Columns', 'ScanningSequence', 'SequenceVariant',\n",
       "       'SequenceName', 'ScanOptions', 'SeriesDescription', 'SoftwareVersions',\n",
       "       'SliceThickness', 'StudyPriorityID', 'PatientPosition.1',\n",
       "       'SpacingBetweenSlices', 'SecondEcho', 'VariableFlipAngleFlag',\n",
       "       'DateTime'],\n",
       "      dtype='object')"
      ]
     },
     "execution_count": 13,
     "metadata": {},
     "output_type": "execute_result"
    }
   ],
   "source": [
    "df_all.keys()"
   ]
  },
  {
   "cell_type": "code",
   "execution_count": 14,
   "metadata": {},
   "outputs": [],
   "source": [
    "df_pred = pd.read_csv(f\"{csv_folder}/pred_seq.csv\")"
   ]
  },
  {
   "cell_type": "markdown",
   "metadata": {},
   "source": [
    "# Add Sequence Prediction"
   ]
  },
  {
   "cell_type": "code",
   "execution_count": 17,
   "metadata": {},
   "outputs": [],
   "source": [
    "df_all = df_all.merge(df_pred.drop(labels=['PatientID', 'InstanceCreationDate'], axis=1), on='SeriesInstanceUID', how='inner')"
   ]
  },
  {
   "cell_type": "code",
   "execution_count": 20,
   "metadata": {},
   "outputs": [
    {
     "data": {
      "text/plain": [
       "Index(['SeriesInstanceUID', 'StudyInstanceUID', 'PatientID', 'AngioFlag',\n",
       "       'AcquisitionMatrix', 'AcquisitionContrast', 'AcquisitionDuration',\n",
       "       'dBdt', 'EchoTime', 'EchoTrainLength', 'EchoNumbers', 'FlipAngle',\n",
       "       'FrameOfReferenceUID', 'ImagingFrequency', 'ImagedNuclues',\n",
       "       'InstanceCreationDate', 'InstanceCreationTime', 'InversionTime',\n",
       "       'ImagesInAcquisition', 'ImageType', 'MagneticFieldStrength',\n",
       "       'Manufacturer', 'ManufacturerModelName', 'MRAcquisitionType',\n",
       "       'NumberofAverages', 'NumberOfEchoes', 'NumberofPhaseEncodingSteps',\n",
       "       'PatientPosition', 'PixelBandwith', 'PixelPresentation', 'PixelSpacing',\n",
       "       'PhotometricInterpretation', 'PulseSequenceName', 'RepetitionTime',\n",
       "       'Rows', 'Columns', 'ScanningSequence', 'SequenceVariant',\n",
       "       'SequenceName', 'ScanOptions', 'SeriesDescription', 'SoftwareVersions',\n",
       "       'SliceThickness', 'StudyPriorityID', 'PatientPosition.1',\n",
       "       'SpacingBetweenSlices', 'SecondEcho', 'VariableFlipAngleFlag',\n",
       "       'DateTime', 'Sequence', 'TrueSequenceType', 'Directory'],\n",
       "      dtype='object')"
      ]
     },
     "execution_count": 20,
     "metadata": {},
     "output_type": "execute_result"
    }
   ],
   "source": [
    "df_directory = pd.read_csv(f\"{csv_folder}/series_directories_sif.csv\")\n",
    "df_all_final = df_all.merge(df_directory, on='SeriesInstanceUID', how='inner')\n",
    "df_all_final.keys()"
   ]
  },
  {
   "cell_type": "code",
   "execution_count": 21,
   "metadata": {},
   "outputs": [],
   "source": [
    "df_all_final = df_all_final.rename(columns={'Directory': 'DirectorySIF'})"
   ]
  },
  {
   "cell_type": "markdown",
   "metadata": {},
   "source": [
    "## Remember to add Positive column and DateTime"
   ]
  },
  {
   "cell_type": "code",
   "execution_count": 22,
   "metadata": {},
   "outputs": [],
   "source": [
    "df_all.to_csv(f\"{csv_folder}/neg_pos.csv\", index=False, header=True)"
   ]
  },
  {
   "cell_type": "markdown",
   "metadata": {},
   "source": [
    "## Clean"
   ]
  },
  {
   "cell_type": "code",
   "execution_count": 26,
   "metadata": {},
   "outputs": [
    {
     "name": "stdout",
     "output_type": "stream",
     "text": [
      "after removing other sequences there are 207027 volumes\n"
     ]
    }
   ],
   "source": [
    "df_clean = df_all[~(df_all.Sequence=='other')]\n",
    "print(f\"after removing other sequences there are {len(df_clean)} volumes\")"
   ]
  },
  {
   "cell_type": "code",
   "execution_count": 27,
   "metadata": {},
   "outputs": [
    {
     "name": "stdout",
     "output_type": "stream",
     "text": [
      "after removing sequences with no date there are 178578 volumes\n"
     ]
    }
   ],
   "source": [
    "df_cclean = df_clean[~df_clean.InstanceCreationDate.isnull()]\n",
    "print(f\"after removing sequences with no date there are {len(df_cclean)} volumes\")"
   ]
  },
  {
   "cell_type": "code",
   "execution_count": 28,
   "metadata": {},
   "outputs": [],
   "source": [
    "df_cclean.to_csv(f\"{csv_folder}/neg_pos_clean.csv\", index=False, header=True)"
   ]
  }
 ],
 "metadata": {
  "interpreter": {
   "hash": "fd64557248a61079a8b01b27957eac8e3bd9d72e2f60908e3e6321fba2096ec7"
  },
  "kernelspec": {
   "display_name": "Python 3.7.11 64-bit ('cobra': conda)",
   "name": "python3"
  },
  "language_info": {
   "codemirror_mode": {
    "name": "ipython",
    "version": 3
   },
   "file_extension": ".py",
   "mimetype": "text/x-python",
   "name": "python",
   "nbconvert_exporter": "python",
   "pygments_lexer": "ipython3",
   "version": "3.7.11"
  },
  "orig_nbformat": 4
 },
 "nbformat": 4,
 "nbformat_minor": 2
}
