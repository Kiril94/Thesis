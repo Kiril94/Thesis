{
 "cells": [
  {
   "cell_type": "code",
   "execution_count": 42,
   "metadata": {},
   "outputs": [
    {
     "data": {
      "text/html": [
       "        <script type=\"text/javascript\">\n",
       "        window.PlotlyConfig = {MathJaxConfig: 'local'};\n",
       "        if (window.MathJax) {MathJax.Hub.Config({SVG: {font: \"STIX-Web\"}});}\n",
       "        if (typeof require !== 'undefined') {\n",
       "        require.undef(\"plotly\");\n",
       "        requirejs.config({\n",
       "            paths: {\n",
       "                'plotly': ['https://cdn.plot.ly/plotly-2.2.0.min']\n",
       "            }\n",
       "        });\n",
       "        require(['plotly'], function(Plotly) {\n",
       "            window._Plotly = Plotly;\n",
       "        });\n",
       "        }\n",
       "        </script>\n",
       "        "
      ]
     },
     "metadata": {},
     "output_type": "display_data"
    },
    {
     "data": {
      "text/html": [
       "        <script type=\"text/javascript\">\n",
       "        window.PlotlyConfig = {MathJaxConfig: 'local'};\n",
       "        if (window.MathJax) {MathJax.Hub.Config({SVG: {font: \"STIX-Web\"}});}\n",
       "        if (typeof require !== 'undefined') {\n",
       "        require.undef(\"plotly\");\n",
       "        requirejs.config({\n",
       "            paths: {\n",
       "                'plotly': ['https://cdn.plot.ly/plotly-2.2.0.min']\n",
       "            }\n",
       "        });\n",
       "        require(['plotly'], function(Plotly) {\n",
       "            window._Plotly = Plotly;\n",
       "        });\n",
       "        }\n",
       "        </script>\n",
       "        "
      ]
     },
     "metadata": {},
     "output_type": "display_data"
    }
   ],
   "source": [
    "import sys\n",
    "base_dir = \"D:/Thesis/Cobra/cobra/\"\n",
    "if base_dir not in sys.path:\n",
    "    sys.path.append(base_dir)\n",
    "from os.path import join\n",
    "import pandas as pd\n",
    "from utilities import basic, utils, mri_stats, stats\n",
    "from stats_tools import vis as svis\n",
    "import numpy as np\n",
    "import chart_studio.plotly as py\n",
    "import plotly.express as px\n",
    "%matplotlib inline\n",
    "from plotly.offline import download_plotlyjs, init_notebook_mode, plot, iplot\n",
    "import cufflinks as cf\n",
    "init_notebook_mode(connected=True)\n",
    "cf.go_offline()\n",
    "fig_dir = join(base_dir, 'figs')\n",
    "import matplotlib.pyplot as plt\n",
    "from datetime import datetime as dt\n",
    "plt.rcParams[\"figure.dpi\"] = 40\n",
    "plt.style.use('ggplot')\n"
   ]
  },
  {
   "cell_type": "markdown",
   "metadata": {},
   "source": [
    "## AcquisitionContrast Column can be dropped"
   ]
  },
  {
   "cell_type": "code",
   "execution_count": 25,
   "metadata": {},
   "outputs": [
    {
     "name": "stderr",
     "output_type": "stream",
     "text": [
      "ipykernel_launcher:2: DtypeWarning:\n",
      "\n",
      "Columns (4,5) have mixed types.Specify dtype option on import or set low_memory=False.\n",
      "\n"
     ]
    }
   ],
   "source": [
    "table_dir = join(base_dir, 'data/tables')\n",
    "dfc = utils.load_scan_csv(join(table_dir, 'neg_pos_clean.csv'))"
   ]
  },
  {
   "cell_type": "code",
   "execution_count": 11,
   "metadata": {},
   "outputs": [],
   "source": [
    "keys = dfc.keys()\n",
    "TE_k = 'EchoTime'\n",
    "TR_k = 'RepetitionTime'\n",
    "TI_k = 'InversionTime'\n",
    "FA_k = 'FlipAngle'\n",
    "SD_k = 'SeriesDescription'\n",
    "PID_k = 'PatientID'\n",
    "time_k = 'InstanceCreationTime'\n",
    "date_k = 'InstanceCreationDate'\n",
    "DT_k = 'DateTime'\n",
    "SID_k = 'SeriesInstanceUID'\n",
    "SS_k = 'ScanningSequence'\n",
    "SV_k = 'SequenceVariant'\n",
    "SN_k = 'SequenceName'\n",
    "SO_k = 'ScanOptions'\n",
    "ETL_k = 'EchoTrainLength'\n",
    "MFS_k = 'MagneticFieldStrength'"
   ]
  },
  {
   "cell_type": "markdown",
   "metadata": {},
   "source": [
    "# Acquisition date"
   ]
  },
  {
   "cell_type": "markdown",
   "metadata": {},
   "source": [
    "## For each volume"
   ]
  },
  {
   "cell_type": "code",
   "execution_count": 40,
   "metadata": {},
   "outputs": [
    {
     "data": {
      "image/png": "[encoded data removed]",
      "text/plain": [
       "<Figure size 600x320 with 1 Axes>"
      ]
     },
     "metadata": {},
     "output_type": "display_data"
    }
   ],
   "source": [
    "#Now remove all the missing dates\n",
    "dfc[\"InstanceCreationDate\"] = dfc[\"InstanceCreationDate\"].astype(\"datetime64\")\n",
    "df_p = dfc[dfc.Positive==1]\n",
    "df_n = dfc[dfc.Positive==0]\n",
    "\n",
    "fig, ax = svis.plot_decorator(df_n.groupby([df_n[\"InstanceCreationDate\"].dt.year, \\\n",
    "    df_n[\"InstanceCreationDate\"].dt.month]).Rows.count().plot, \n",
    "    figsize=(15,8),\n",
    "    plot_func_kwargs={'kind':'bar','label':'Neg', \n",
    "        'color':svis.Color_palette(0)[1],} ,\n",
    "    kwargs={'xtickparams_rot':80, 'ylabel':'Volume Count','ylogscale':False,\n",
    "    })\n",
    "ax = df_p.groupby([df_p[\"InstanceCreationDate\"].dt.year, \\\n",
    "    df_p[\"InstanceCreationDate\"].dt.month]).Rows.count().plot(kind=\"bar\", \n",
    "    color=svis.Color_palette(0)[0], ax=ax, label='Pos')\n",
    "ax.tick_params(axis='x', which='major', labelsize=20, rotation=70)\n",
    "ax.set_xlabel('Date (Year, Month)', fontsize=20)\n",
    "ax.legend(fontsize=20)\n",
    "for label in ax.xaxis.get_ticklabels()[::2]:\n",
    "    label.set_visible(False)"
   ]
  },
  {
   "cell_type": "markdown",
   "metadata": {},
   "source": [
    "## For each study"
   ]
  },
  {
   "cell_type": "code",
   "execution_count": 75,
   "metadata": {},
   "outputs": [],
   "source": [
    "def get_studies_df(df, threshold=2):\n",
    "    \"\"\"Returns:\n",
    "        -list with the times between consecutive studies in a dataframe, \n",
    "        studies are considered separate if they are at least threshold (default 2) \n",
    "        hours apart\n",
    "        -list with study dates\n",
    "    \"\"\"\n",
    "    df_studies = pd.DataFrame(columns=['PatientID', 'StudyNum',\n",
    "                    'DateTimeStart', 'NumVolumes'])\n",
    "    df_sorted = df.groupby('PatientID').apply(\n",
    "        lambda x: (x.sort_values(by=['DateTime'], ascending=True)))\n",
    "    patient_ids = df_sorted['PatientID'].unique()\n",
    "    for patient in patient_ids[:2]:\n",
    "        print('|', end='')\n",
    "        study_num = 0\n",
    "        patient_mask = df_sorted['PatientID'] == patient\n",
    "        date_times = df_sorted[patient_mask]['DateTime']\n",
    "        date_time0 = date_times[0]\n",
    "        df_studies = df_studies.append({'PatientID':patient, \n",
    "                                        'StudyNum':study_num,\n",
    "                                            'DateTimeStart':date_time0}, \n",
    "                                        ignore_index=True)\n",
    "        for date_time in date_times[1:]:\n",
    "            print('.', end='')\n",
    "            time_diff = date_time-date_time0\n",
    "            if time_diff.total_seconds()/3600 > threshold:\n",
    "                study_num+=1\n",
    "                df_studies = df_studies.append({'PatientID':patient, \n",
    "                                        'StudyNum':study_num,\n",
    "                                        'DateTimeStart':date_time}, \n",
    "                                        ignore_index=True)\n",
    "                date_time0 = date_time\n",
    "    return df_studies"
   ]
  },
  {
   "cell_type": "code",
   "execution_count": 76,
   "metadata": {},
   "outputs": [],
   "source": [
    "df_studies = get_studies_df(dfc)"
   ]
  },
  {
   "cell_type": "code",
   "execution_count": 73,
   "metadata": {},
   "outputs": [
    {
     "data": {
      "text/html": [
       "<div>\n",
       "<style scoped>\n",
       "    .dataframe tbody tr th:only-of-type {\n",
       "        vertical-align: middle;\n",
       "    }\n",
       "\n",
       "    .dataframe tbody tr th {\n",
       "        vertical-align: top;\n",
       "    }\n",
       "\n",
       "    .dataframe thead th {\n",
       "        text-align: right;\n",
       "    }\n",
       "</style>\n",
       "<table border=\"1\" class=\"dataframe\">\n",
       "  <thead>\n",
       "    <tr style=\"text-align: right;\">\n",
       "      <th></th>\n",
       "      <th>PatientID</th>\n",
       "      <th>StudyNum</th>\n",
       "      <th>DateTimeStart</th>\n",
       "    </tr>\n",
       "  </thead>\n",
       "  <tbody>\n",
       "    <tr>\n",
       "      <th>0</th>\n",
       "      <td>0004c6f76c29c48fbdf035510d8633e8</td>\n",
       "      <td>0</td>\n",
       "      <td>2019-10-17 11:32:24</td>\n",
       "    </tr>\n",
       "  </tbody>\n",
       "</table>\n",
       "</div>"
      ],
      "text/plain": [
       "                          PatientID StudyNum       DateTimeStart\n",
       "0  0004c6f76c29c48fbdf035510d8633e8        0 2019-10-17 11:32:24"
      ]
     },
     "execution_count": 73,
     "metadata": {},
     "output_type": "execute_result"
    }
   ],
   "source": [
    "df_studies"
   ]
  },
  {
   "cell_type": "code",
   "execution_count": null,
   "metadata": {},
   "outputs": [],
   "source": []
  }
 ],
 "metadata": {
  "interpreter": {
   "hash": "fd64557248a61079a8b01b27957eac8e3bd9d72e2f60908e3e6321fba2096ec7"
  },
  "kernelspec": {
   "display_name": "Python 3.7.11 64-bit ('cobra': conda)",
   "name": "python3"
  },
  "language_info": {
   "codemirror_mode": {
    "name": "ipython",
    "version": 3
   },
   "file_extension": ".py",
   "mimetype": "text/x-python",
   "name": "python",
   "nbconvert_exporter": "python",
   "pygments_lexer": "ipython3",
   "version": "3.7.11"
  },
  "orig_nbformat": 4
 },
 "nbformat": 4,
 "nbformat_minor": 2
}
