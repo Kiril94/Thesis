{
 "cells": [
  {
   "cell_type": "code",
   "execution_count": 73,
   "metadata": {},
   "outputs": [
    {
     "data": {
      "text/plain": [
       "<module 'utilities.utils' from 'D:/Thesis/Cobra/cobra\\\\utilities\\\\utils.py'>"
      ]
     },
     "execution_count": 73,
     "metadata": {},
     "output_type": "execute_result"
    }
   ],
   "source": [
    "import sys\n",
    "base_dir = \"D:/Thesis/Cobra/cobra/\"\n",
    "if base_dir not in sys.path:\n",
    "    sys.path.append(base_dir)\n",
    "from os.path import join\n",
    "import pandas as pd\n",
    "from utilities import basic, utils, mri_stats, stats\n",
    "from stats_tools import vis as svis\n",
    "import numpy as np\n",
    "from access_sif_data import load_data_tools as ld\n",
    "import matplotlib.pyplot as plt\n",
    "from datetime import datetime as dt\n",
    "%matplotlib inline\n",
    "plt.rcParams[\"figure.dpi\"] = 40\n",
    "plt.style.use('ggplot')\n",
    "import importlib\n",
    "importlib.reload(utils)"
   ]
  },
  {
   "cell_type": "code",
   "execution_count": 74,
   "metadata": {},
   "outputs": [
    {
     "name": "stderr",
     "output_type": "stream",
     "text": [
      "ipykernel_launcher:4: DtypeWarning: Columns (5) have mixed types.Specify dtype option on import or set low_memory=False.\n"
     ]
    }
   ],
   "source": [
    "fig_dir = join(base_dir, 'figs')\n",
    "table_dir = join(base_dir, 'data/tables')\n",
    "\n",
    "dfc = utils.load_scan_csv(join(table_dir, 'neg_pos_clean.csv'))"
   ]
  },
  {
   "cell_type": "code",
   "execution_count": 83,
   "metadata": {},
   "outputs": [],
   "source": [
    "# Lists of relevant patients\n",
    "ls_t1_pp = np.loadtxt(\"D:\\Thesis\\Cobra\\cobra\\data\\patient_groups\\\\t1_pre_post.txt\", dtype=str)\n",
    "ls_t1_post = np.loadtxt(\"D:\\Thesis\\Cobra\\cobra\\data\\patient_groups\\\\t1_post.txt\", dtype=str)"
   ]
  },
  {
   "cell_type": "markdown",
   "metadata": {},
   "source": [
    "# Create Box plots"
   ]
  },
  {
   "cell_type": "code",
   "execution_count": 108,
   "metadata": {},
   "outputs": [],
   "source": [
    "df_pp = dfc[(dfc.PatientID.isin(ls_t1_pp)) & (dfc.Sequence=='t1')]"
   ]
  },
  {
   "cell_type": "code",
   "execution_count": 113,
   "metadata": {},
   "outputs": [
    {
     "ename": "TypeError",
     "evalue": "create_boxplot() missing 1 required positional argument: 'data'",
     "output_type": "error",
     "traceback": [
      "\u001b[1;31m---------------------------------------------------------------------------\u001b[0m",
      "\u001b[1;31mTypeError\u001b[0m                                 Traceback (most recent call last)",
      "\u001b[1;32m<ipython-input-113-39dd718391db>\u001b[0m in \u001b[0;36m<module>\u001b[1;34m\u001b[0m\n\u001b[0;32m     13\u001b[0m \u001b[0marr_pp_3dimensions\u001b[0m \u001b[1;33m=\u001b[0m \u001b[0mnp\u001b[0m\u001b[1;33m.\u001b[0m\u001b[0mzeros\u001b[0m\u001b[1;33m(\u001b[0m\u001b[1;33m(\u001b[0m\u001b[0mlen\u001b[0m\u001b[1;33m(\u001b[0m\u001b[0marr_pp_dimensions\u001b[0m\u001b[1;33m)\u001b[0m\u001b[1;33m,\u001b[0m\u001b[1;36m3\u001b[0m\u001b[1;33m)\u001b[0m\u001b[1;33m)\u001b[0m\u001b[1;33m\u001b[0m\u001b[1;33m\u001b[0m\u001b[0m\n\u001b[0;32m     14\u001b[0m \u001b[0marr_pp_3dimensions\u001b[0m\u001b[1;33m[\u001b[0m\u001b[1;33m:\u001b[0m\u001b[1;33m,\u001b[0m\u001b[1;33m:\u001b[0m\u001b[1;36m2\u001b[0m\u001b[1;33m]\u001b[0m \u001b[1;33m=\u001b[0m \u001b[0marr_pp_dimensions\u001b[0m\u001b[1;33m\u001b[0m\u001b[1;33m\u001b[0m\u001b[0m\n\u001b[1;32m---> 15\u001b[1;33m \u001b[0msvis\u001b[0m\u001b[1;33m.\u001b[0m\u001b[0mcreate_boxplot\u001b[0m\u001b[1;33m(\u001b[0m\u001b[0marr_pp_3dimensions\u001b[0m\u001b[1;33m)\u001b[0m\u001b[1;33m\u001b[0m\u001b[1;33m\u001b[0m\u001b[0m\n\u001b[0m",
      "\u001b[1;31mTypeError\u001b[0m: create_boxplot() missing 1 required positional argument: 'data'"
     ]
    },
    {
     "data": {
      "image/png": "[encoded data removed]",
      "text/plain": [
       "<Figure size 240x160 with 1 Axes>"
      ]
     },
     "metadata": {},
     "output_type": "display_data"
    }
   ],
   "source": [
    "fig, ax = plt.subplots()\n",
    "df_pp = df_pp.dropna(subset=['AcquisitionMatrix'])\n",
    "df_pp['AcquisitionMatrixNonZero'] = df_pp.AcquisitionMatrix.map(\n",
    "    lambda x: x[np.nonzero(x)])\n",
    "\n",
    "pp_dimension_data = []\n",
    "for index, row in df_pp.iterrows():\n",
    "    if len(row.AcquisitionMatrixNonZero)==2:\n",
    "        pp_dimension_data.append(row.AcquisitionMatrixNonZero)\n",
    "    else:\n",
    "        pass\n",
    "arr_pp_dimensions = np.stack(pp_dimension_data, axis=0)\n",
    "arr_pp_3dimensions = np.zeros((len(arr_pp_dimensions),3))\n",
    "arr_pp_3dimensions[:,:2] = arr_pp_dimensions\n",
    "svis.create_boxplot(arr_pp_3dimensions)"
   ]
  },
  {
   "cell_type": "code",
   "execution_count": null,
   "metadata": {},
   "outputs": [],
   "source": [
    "svis.create_boxplot()"
   ]
  },
  {
   "cell_type": "markdown",
   "metadata": {},
   "source": [
    "# Identify tumor patients"
   ]
  },
  {
   "cell_type": "code",
   "execution_count": 7,
   "metadata": {},
   "outputs": [],
   "source": [
    "tumor_patient_tag = ['82f44e', '06c4453', '244a7d', '85b117f',\n",
    "                        ]\n",
    "tumor_patient_list = []\n",
    "for tag in tumor_patient_tag:\n",
    "    tumor_patient_list.append(\n",
    "        dfc[dfc.PatientID.str.startswith(tag)].PatientID.unique()[0])\n"
   ]
  },
  {
   "cell_type": "code",
   "execution_count": 9,
   "metadata": {},
   "outputs": [],
   "source": [
    "df_t1_pc = dfc[dfc.PatientID.isin(tumor_patient_list)]"
   ]
  },
  {
   "cell_type": "code",
   "execution_count": 13,
   "metadata": {},
   "outputs": [],
   "source": [
    "df_t1_pc[df_t1_pc.Sequence=='t1'][['SeriesInstanceUID', 'PatientID']].to_csv(\n",
    "    'D:\\Thesis\\Cobra\\cobra\\\\figs\\sp\\T1\\cancer.csv')"
   ]
  },
  {
   "cell_type": "markdown",
   "metadata": {},
   "source": [
    "# Get list of t1 pos/control scans"
   ]
  },
  {
   "cell_type": "code",
   "execution_count": 10,
   "metadata": {},
   "outputs": [],
   "source": [
    "ls_t1_pos = dfc[(dfc.Sequence=='t1') & (dfc.Positive==1)].PatientID.unique()\n",
    "ls_t1_pos_rest = list((set(ls_t1_pos)-set(ls_t1_post))-set(ls_t1_pp))\n",
    "np.savetxt(\"D:\\Thesis\\Cobra\\cobra\\data\\patient_groups\\\\t1_pos_rest.txt\", np.array(ls_t1_pos_rest),\n",
    "    delimiter=\" \", fmt=\"%s\")"
   ]
  },
  {
   "cell_type": "code",
   "execution_count": 16,
   "metadata": {},
   "outputs": [],
   "source": [
    "arr_t1_pos_rest_suid = np.array(dfc[(dfc.Sequence=='t1') & (dfc.PatientID.isin(ls_t1_pos_rest))].SeriesInstanceUID.unique())\n",
    "np.savetxt(\"D:\\Thesis\\Cobra\\cobra\\data\\patient_groups\\\\t1_pos_rest_suid.txt\", arr_t1_pos_rest_suid,\n",
    "    delimiter=\" \", fmt=\"%s\")"
   ]
  }
 ],
 "metadata": {
  "interpreter": {
   "hash": "fd64557248a61079a8b01b27957eac8e3bd9d72e2f60908e3e6321fba2096ec7"
  },
  "kernelspec": {
   "display_name": "Python 3.7.11 64-bit ('cobra': conda)",
   "language": "python",
   "name": "python3"
  },
  "language_info": {
   "codemirror_mode": {
    "name": "ipython",
    "version": 3
   },
   "file_extension": ".py",
   "mimetype": "text/x-python",
   "name": "python",
   "nbconvert_exporter": "python",
   "pygments_lexer": "ipython3",
   "version": "3.7.11"
  },
  "orig_nbformat": 4
 },
 "nbformat": 4,
 "nbformat_minor": 2
}
