{
 "cells": [
  {
   "cell_type": "code",
   "execution_count": 202,
   "metadata": {},
   "outputs": [
    {
     "data": {
      "text/plain": [
       "<module 'stats_tools.vis' from 'D:/Thesis/Cobra/cobra\\\\stats_tools\\\\vis.py'>"
      ]
     },
     "execution_count": 202,
     "metadata": {},
     "output_type": "execute_result"
    }
   ],
   "source": [
    "import sys\n",
    "base_dir = \"D:/Thesis/Cobra/cobra/\"\n",
    "if base_dir not in sys.path:\n",
    "    sys.path.append(base_dir)\n",
    "from os.path import join\n",
    "import pandas as pd\n",
    "from utilities import basic, utils, mri_stats, stats\n",
    "from stats_tools import vis as svis\n",
    "import numpy as np\n",
    "import seaborn as sns\n",
    "from access_sif_data import load_data_tools as ld\n",
    "import matplotlib.pyplot as plt\n",
    "from datetime import datetime as dt\n",
    "%matplotlib inline\n",
    "plt.rcParams[\"figure.dpi\"] = 40\n",
    "plt.style.use('ggplot')\n",
    "import importlib\n",
    "importlib.reload(svis)"
   ]
  },
  {
   "cell_type": "code",
   "execution_count": 154,
   "metadata": {},
   "outputs": [
    {
     "name": "stderr",
     "output_type": "stream",
     "text": [
      "C:\\Users\\klein\\AppData\\Roaming\\Python\\Python37\\site-packages\\ipykernel_launcher.py:4: DtypeWarning: Columns (5) have mixed types.Specify dtype option on import or set low_memory=False.\n",
      "  after removing the cwd from sys.path.\n"
     ]
    }
   ],
   "source": [
    "fig_dir = join(base_dir, 'figs')\n",
    "table_dir = join(base_dir, 'data/tables')\n",
    "dfc = utils.load_scan_csv(join(table_dir, 'neg_pos_clean.csv'))"
   ]
  },
  {
   "cell_type": "code",
   "execution_count": 156,
   "metadata": {},
   "outputs": [],
   "source": [
    "# Lists of relevant patients\n",
    "ls_t1_pp = np.loadtxt(\"D:\\Thesis\\Cobra\\cobra\\data\\patient_groups\\\\t1_pre_post.txt\", dtype=str)\n",
    "ls_t1_post = np.loadtxt(\"D:\\Thesis\\Cobra\\cobra\\data\\patient_groups\\\\t1_post.txt\", dtype=str)\n",
    "ls_t1_pos = np.loadtxt(\"D:\\Thesis\\Cobra\\cobra\\data\\patient_groups\\\\t1_pos.txt\", dtype=str)\n",
    "ls_t1_neg = np.loadtxt(\"D:\\Thesis\\Cobra\\cobra\\data\\patient_groups\\\\t1_neg.txt\", dtype=str)\n",
    "ls_t1_ppp = list(set(ls_t1_pp).union(set(ls_t1_post)))"
   ]
  },
  {
   "cell_type": "markdown",
   "metadata": {},
   "source": [
    "# Create Box plots"
   ]
  },
  {
   "cell_type": "code",
   "execution_count": 169,
   "metadata": {},
   "outputs": [],
   "source": [
    "df_pp = dfc[(dfc.PatientID.isin(ls_t1_pp)) & (dfc.Sequence=='t1')]\n",
    "df_post = dfc[(dfc.PatientID.isin(ls_t1_post)) & (dfc.Sequence=='t1')]\n"
   ]
  },
  {
   "cell_type": "code",
   "execution_count": 212,
   "metadata": {},
   "outputs": [
    {
     "name": "stdout",
     "output_type": "stream",
     "text": [
      "||"
     ]
    }
   ],
   "source": [
    "df_t1_all = dfc[dfc.Sequence=='t1']\n",
    "utils.save_nscans(df_t1_all, join(table_dir, 't1','all.csv'), sif_path=\"Y:/\")"
   ]
  },
  {
   "cell_type": "code",
   "execution_count": 139,
   "metadata": {},
   "outputs": [],
   "source": [
    "#df_ppp = pd.read_csv(join(table_dir, 't1','ppp.csv'), index_col=0)\n",
    "#dfc = pd.merge(dfc, df_ppp[['SeriesInstanceUID', 'NumberOfSlices']], on='SeriesInstanceUID', how='left')\n",
    "#dfc.to_csv(f\"{table_dir}/neg_pos_clean.csv\", index=False, header=True)"
   ]
  },
  {
   "cell_type": "code",
   "execution_count": null,
   "metadata": {},
   "outputs": [
    {
     "data": {
      "image/png": "[encoded data removed]",
      "text/plain": [
       "<Figure size 880x320 with 2 Axes>"
      ]
     },
     "metadata": {},
     "output_type": "display_data"
    }
   ],
   "source": [
    "fig, ax = plt.subplots(1,2, figsize=(22,8))\n",
    "fig, _ = svis.create_boxplot(df_pp[['Rows', 'Columns', 'NumberOfSlices', ]], \n",
    "    data_labels=[\"#Rows\", \"#Columns\", \"#Slices\", ], \n",
    "    kwargs={'xlabel':'',},\n",
    "    fig=fig, ax=ax[0])\n",
    "svis.create_boxplot(df_pp[['xPixelSpacing', 'yPixelSpacing', 'SpacingBetweenSlices','SliceThickness' ]], \n",
    "    data_labels=[\"Rows \\nSpacing\", \"Columns \\nSpacing\", \"Slices\\nSpacing\",\"Slice\\nThickness\" ], \n",
    "    kwargs={'xlabel':'','ylabel':'mm'},\n",
    "    fig=fig, ax=ax[1])\n",
    "fig.suptitle(\"T1 pos. with control\", fontsize=25)\n",
    "fig.tight_layout()\n",
    "fig.savefig(join(fig_dir, 't1', 'dimension_box_plot_t1pp.png'))"
   ]
  },
  {
   "cell_type": "markdown",
   "metadata": {},
   "source": [
    "# Identify tumor patients"
   ]
  },
  {
   "cell_type": "code",
   "execution_count": 7,
   "metadata": {},
   "outputs": [],
   "source": [
    "tumor_patient_tag = ['82f44e', '06c4453', '244a7d', '85b117f',\n",
    "                        ]\n",
    "tumor_patient_list = []\n",
    "for tag in tumor_patient_tag:\n",
    "    tumor_patient_list.append(\n",
    "        dfc[dfc.PatientID.str.startswith(tag)].PatientID.unique()[0])"
   ]
  },
  {
   "cell_type": "code",
   "execution_count": 9,
   "metadata": {},
   "outputs": [],
   "source": [
    "df_t1_pc = dfc[dfc.PatientID.isin(tumor_patient_list)]"
   ]
  },
  {
   "cell_type": "code",
   "execution_count": 13,
   "metadata": {},
   "outputs": [],
   "source": [
    "df_t1_pc[df_t1_pc.Sequence=='t1'][['SeriesInstanceUID', 'PatientID']].to_csv(\n",
    "    'D:\\Thesis\\Cobra\\cobra\\\\figs\\sp\\T1\\cancer.csv')"
   ]
  },
  {
   "cell_type": "markdown",
   "metadata": {},
   "source": [
    "# Get list of t1 pos/control scans"
   ]
  },
  {
   "cell_type": "code",
   "execution_count": 189,
   "metadata": {},
   "outputs": [],
   "source": [
    "arr_t1_neg = dfc[(dfc.Sequence=='t1') & (dfc.Positive==0)].PatientID.unique()\n",
    "np.savetxt(\"D:\\Thesis\\Cobra\\cobra\\data\\patient_groups\\\\t1_neg.txt\", arr_t1_neg,\n",
    "        delimiter=\" \", fmt=\"%s\")"
   ]
  },
  {
   "cell_type": "code",
   "execution_count": 190,
   "metadata": {},
   "outputs": [],
   "source": [
    "arr_t1_all = dfc[dfc.Sequence=='t1'].PatientID.unique()\n",
    "np.savetxt(\"D:\\Thesis\\Cobra\\cobra\\data\\patient_groups\\\\t1_all.txt\", arr_t1_all,\n",
    "        delimiter=\" \", fmt=\"%s\")"
   ]
  },
  {
   "cell_type": "code",
   "execution_count": 10,
   "metadata": {},
   "outputs": [],
   "source": [
    "ls_t1_pos = dfc[(dfc.Sequence=='t1') & (dfc.Positive==1)].PatientID.unique()\n",
    "ls_t1_pos_rest = list((set(ls_t1_pos)-set(ls_t1_post))-set(ls_t1_pp))\n",
    "np.savetxt(\"D:\\Thesis\\Cobra\\cobra\\data\\patient_groups\\\\t1_pos_rest.txt\", np.array(ls_t1_pos_rest),\n",
    "    delimiter=\" \", fmt=\"%s\")"
   ]
  },
  {
   "cell_type": "code",
   "execution_count": 16,
   "metadata": {},
   "outputs": [],
   "source": [
    "arr_t1_pos_rest_suid = np.array(dfc[(dfc.Sequence=='t1') & (dfc.PatientID.isin(ls_t1_pos_rest))].SeriesInstanceUID.unique())\n",
    "np.savetxt(\"D:\\Thesis\\Cobra\\cobra\\data\\patient_groups\\\\t1_pos_rest_suid.txt\", arr_t1_pos_rest_suid,\n",
    "    delimiter=\" \", fmt=\"%s\")"
   ]
  }
 ],
 "metadata": {
  "interpreter": {
   "hash": "fd64557248a61079a8b01b27957eac8e3bd9d72e2f60908e3e6321fba2096ec7"
  },
  "kernelspec": {
   "display_name": "Python 3.7.11 64-bit ('cobra': conda)",
   "language": "python",
   "name": "python3"
  },
  "language_info": {
   "codemirror_mode": {
    "name": "ipython",
    "version": 3
   },
   "file_extension": ".py",
   "mimetype": "text/x-python",
   "name": "python",
   "nbconvert_exporter": "python",
   "pygments_lexer": "ipython3",
   "version": "3.7.11"
  },
  "orig_nbformat": 4
 },
 "nbformat": 4,
 "nbformat_minor": 2
}
