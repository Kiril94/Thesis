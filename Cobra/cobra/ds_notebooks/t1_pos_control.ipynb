{
 "cells": [
  {
   "cell_type": "code",
   "execution_count": 23,
   "metadata": {},
   "outputs": [
    {
     "data": {
      "text/plain": [
       "<module 'utilities.utils' from 'D:/Thesis/Cobra/cobra\\\\utilities\\\\utils.py'>"
      ]
     },
     "execution_count": 23,
     "metadata": {},
     "output_type": "execute_result"
    }
   ],
   "source": [
    "import sys\n",
    "base_dir = \"D:/Thesis/Cobra/cobra/\"\n",
    "if base_dir not in sys.path:\n",
    "    sys.path.append(base_dir)\n",
    "from os.path import join\n",
    "import pandas as pd\n",
    "from utilities import basic, utils, mri_stats, stats\n",
    "from stats_tools import vis as svis\n",
    "import numpy as np\n",
    "import seaborn as sns\n",
    "from access_sif_data import load_data_tools as ld\n",
    "import matplotlib.pyplot as plt\n",
    "from datetime import datetime as dt\n",
    "%matplotlib inline\n",
    "plt.rcParams[\"figure.dpi\"] = 40\n",
    "plt.style.use('ggplot')\n",
    "import importlib\n",
    "importlib.reload(utils)"
   ]
  },
  {
   "cell_type": "code",
   "execution_count": 2,
   "metadata": {},
   "outputs": [
    {
     "name": "stderr",
     "output_type": "stream",
     "text": [
      "C:\\Users\\klein\\AppData\\Roaming\\Python\\Python37\\site-packages\\ipykernel_launcher.py:3: DtypeWarning: Columns (5) have mixed types.Specify dtype option on import or set low_memory=False.\n",
      "  This is separate from the ipykernel package so we can avoid doing imports until\n"
     ]
    }
   ],
   "source": [
    "fig_dir = join(base_dir, 'figs')\n",
    "table_dir = join(base_dir, 'data/tables')\n",
    "dfc = utils.load_scan_csv(join(table_dir, 'neg_pos_clean.csv'))"
   ]
  },
  {
   "cell_type": "code",
   "execution_count": 12,
   "metadata": {},
   "outputs": [],
   "source": [
    "# Lists of relevant patients\n",
    "ls_t1_pp = np.loadtxt(\"D:\\Thesis\\Cobra\\cobra\\data\\patient_groups\\\\t1_pre_post.txt\", dtype=str)\n",
    "ls_t1_post = np.loadtxt(\"D:\\Thesis\\Cobra\\cobra\\data\\patient_groups\\\\t1_post.txt\", dtype=str)\n",
    "#ls_t1_pos = np.loadtxt(\"D:\\Thesis\\Cobra\\cobra\\data\\patient_groups\\\\t1_pos.txt\", dtype=str)\n",
    "ls_t1_neg = np.loadtxt(\"D:\\Thesis\\Cobra\\cobra\\data\\patient_groups\\\\t1_neg.txt\", dtype=str)\n",
    "ls_t1_ppp = list(set(ls_t1_pp).union(set(ls_t1_post)))"
   ]
  },
  {
   "cell_type": "markdown",
   "metadata": {},
   "source": [
    "# Create Box plots"
   ]
  },
  {
   "cell_type": "code",
   "execution_count": 13,
   "metadata": {},
   "outputs": [],
   "source": [
    "df_t1_all = dfc[dfc.Sequence=='t1']\n",
    "df_pp = dfc[(dfc.PatientID.isin(ls_t1_pp)) & (dfc.Sequence=='t1')]\n",
    "df_post = dfc[(dfc.PatientID.isin(ls_t1_post)) & (dfc.Sequence=='t1')]\n"
   ]
  },
  {
   "cell_type": "code",
   "execution_count": 247,
   "metadata": {},
   "outputs": [],
   "source": [
    "#utils.save_nscans(df_t1_all, join(table_dir, 't1','all.csv'), sif_path=\"Y:/\")"
   ]
  },
  {
   "cell_type": "code",
   "execution_count": 243,
   "metadata": {},
   "outputs": [],
   "source": [
    "#df_all = pd.read_csv(join(table_dir, 't1','all.csv'), index_col=0)\n",
    "#dfc = pd.merge(dfc, df_all[['SeriesInstanceUID', 'NumberOfSlices']], on='SeriesInstanceUID', how='left')\n",
    "#dfc = dfc.rename(columns={'xPixelSpacing':'RowSpacing','yPixelSpacing':'ColumnSpacing'})\n",
    "#dfc.to_csv(f\"{table_dir}/neg_pos_clean.csv\", index=False, header=True)"
   ]
  },
  {
   "cell_type": "markdown",
   "metadata": {},
   "source": [
    "# Get Box plot for FLAIR"
   ]
  },
  {
   "cell_type": "code",
   "execution_count": 16,
   "metadata": {},
   "outputs": [
    {
     "data": {
      "image/png": "[encoded data removed]",
      "text/plain": [
       "<Figure size 880x320 with 2 Axes>"
      ]
     },
     "metadata": {},
     "output_type": "display_data"
    }
   ],
   "source": [
    "fig, ax = plt.subplots(1,2, figsize=(22,8))\n",
    "df_flair_all = dfc[dfc.Sequence=='flair']\n",
    "fig, _ = svis.create_boxplot(df_flair_all[['Rows', 'Columns', 'NumberOfSlices', ]], \n",
    "    data_labels=[\"Height\", \"Width\", \"Depth\", ], \n",
    "    kwargs={'xlabel':'','yrange':(0,2500)},\n",
    "    fig=fig, ax=ax[0])\n",
    "svis.create_boxplot(df_flair_all[['RowSpacing', 'ColumnSpacing', 'SpacingBetweenSlices','SliceThickness' ]], \n",
    "    data_labels=[\"Pixel \\nSpacing x\", \"Pixel \\nSpacing y\", \n",
    "                \"Slices\\nSpacing\",\"Slice\\nThickness\" ], \n",
    "    kwargs={'xlabel':'','ylabel':'mm', 'yrange':(0,8)},\n",
    "    fig=fig, ax=ax[1])\n",
    "fig.suptitle(\"FLAIR\", fontsize=25)\n",
    "fig.tight_layout()\n",
    "fig.savefig(join(fig_dir, 'flair', 'dimension_box_plot_flair_all.png'))"
   ]
  },
  {
   "cell_type": "markdown",
   "metadata": {},
   "source": [
    "## Remove those that are already in the dfc file"
   ]
  },
  {
   "cell_type": "code",
   "execution_count": 21,
   "metadata": {},
   "outputs": [],
   "source": [
    "present_ids = dfc[~dfc.NumberOfSlices.isna()].SeriesInstanceUID.unique()\n",
    "df_flair_missing = df_flair_all[~df_flair_all.SeriesInstanceUID.isin(present_ids)]"
   ]
  },
  {
   "cell_type": "code",
   "execution_count": 71,
   "metadata": {},
   "outputs": [
    {
     "data": {
      "text/html": [
       "<div>\n",
       "<style scoped>\n",
       "    .dataframe tbody tr th:only-of-type {\n",
       "        vertical-align: middle;\n",
       "    }\n",
       "\n",
       "    .dataframe tbody tr th {\n",
       "        vertical-align: top;\n",
       "    }\n",
       "\n",
       "    .dataframe thead th {\n",
       "        text-align: right;\n",
       "    }\n",
       "</style>\n",
       "<table border=\"1\" class=\"dataframe\">\n",
       "  <thead>\n",
       "    <tr style=\"text-align: right;\">\n",
       "      <th></th>\n",
       "      <th>SeriesInstanceUID</th>\n",
       "      <th>NumberOfSlices</th>\n",
       "    </tr>\n",
       "  </thead>\n",
       "  <tbody>\n",
       "    <tr>\n",
       "      <th>0</th>\n",
       "      <td>81c81aa7ab3d012d3e381609a6ba8921</td>\n",
       "      <td>29</td>\n",
       "    </tr>\n",
       "    <tr>\n",
       "      <th>1</th>\n",
       "      <td>bb4990ee456e9f6548a8f9faec20be4c</td>\n",
       "      <td>29</td>\n",
       "    </tr>\n",
       "  </tbody>\n",
       "</table>\n",
       "</div>"
      ],
      "text/plain": [
       "                  SeriesInstanceUID  NumberOfSlices\n",
       "0  81c81aa7ab3d012d3e381609a6ba8921              29\n",
       "1  bb4990ee456e9f6548a8f9faec20be4c              29"
      ]
     },
     "execution_count": 71,
     "metadata": {},
     "output_type": "execute_result"
    }
   ],
   "source": [
    "pd.read_csv(f\"{base_dir}/data/temp/flair_n_slices.txt\", header=None, \n",
    "    names=['SeriesInstanceUID','NumberOfSlices'])"
   ]
  },
  {
   "cell_type": "code",
   "execution_count": 84,
   "metadata": {},
   "outputs": [
    {
     "data": {
      "text/plain": [
       "19685"
      ]
     },
     "execution_count": 84,
     "metadata": {},
     "output_type": "execute_result"
    }
   ],
   "source": [
    "importlib.reload(utils)\n",
    "len(df_flair_missing)"
   ]
  },
  {
   "cell_type": "code",
   "execution_count": 87,
   "metadata": {},
   "outputs": [],
   "source": [
    "utils.save_nscans_to_txt(df_flair_missing, \n",
    "        f\"{base_dir}/data/temp/flair_n_slices.txt\", 'Y:', 'G:\\\\')"
   ]
  },
  {
   "cell_type": "code",
   "execution_count": 9,
   "metadata": {},
   "outputs": [
    {
     "data": {
      "image/png": "[encoded data removed]",
      "text/plain": [
       "<Figure size 880x320 with 2 Axes>"
      ]
     },
     "metadata": {},
     "output_type": "display_data"
    }
   ],
   "source": [
    "fig, ax = plt.subplots(1,2, figsize=(22,8))\n",
    "fig, _ = svis.create_boxplot(df_t1_all[['Rows', 'Columns', 'NumberOfSlices', ]], \n",
    "    data_labels=[\"Height\", \"Width\", \"Depth\", ], \n",
    "    kwargs={'xlabel':'','yrange':(0,2500)},\n",
    "    fig=fig, ax=ax[0])\n",
    "svis.create_boxplot(df_t1_all[['RowSpacing', 'ColumnSpacing', 'SpacingBetweenSlices','SliceThickness' ]], \n",
    "    data_labels=[\"Pixel \\nSpacing x\", \"Pixel \\nSpacing y\", \n",
    "                \"Slices\\nSpacing\",\"Slice\\nThickness\" ], \n",
    "    kwargs={'xlabel':'','ylabel':'mm', 'yrange':(0,8)},\n",
    "    fig=fig, ax=ax[1])\n",
    "fig.suptitle(\"T1\", fontsize=25)\n",
    "fig.tight_layout()\n",
    "fig.savefig(join(fig_dir, 't1', 'dimension_box_plot_t1all.png'))"
   ]
  },
  {
   "cell_type": "code",
   "execution_count": 14,
   "metadata": {},
   "outputs": [
    {
     "data": {
      "image/png": "[encoded data removed]",
      "text/plain": [
       "<Figure size 880x320 with 2 Axes>"
      ]
     },
     "metadata": {},
     "output_type": "display_data"
    }
   ],
   "source": [
    "fig, ax = plt.subplots(1,2, figsize=(22,8))\n",
    "fig, _ = svis.create_boxplot(df_pp[['Rows', 'Columns', 'NumberOfSlices', ]], \n",
    "    data_labels=[\"Height\", \"Width\", \"Depth\", ], \n",
    "    kwargs={'xlabel':'',},\n",
    "    fig=fig, ax=ax[0])\n",
    "svis.create_boxplot(df_pp[['RowSpacing', 'ColumnSpacing', 'SpacingBetweenSlices','SliceThickness' ]], \n",
    "    data_labels=[\"Pixel \\nSpacing x\", \"Pixel \\nSpacing y\",\n",
    "                 \"Slices\\nSpacing\",\"Slice\\nThickness\" ], \n",
    "    kwargs={'xlabel':'','ylabel':'mm'},\n",
    "    fig=fig, ax=ax[1])\n",
    "fig.suptitle(\"T1 pos. with control\", fontsize=25)\n",
    "fig.tight_layout()\n",
    "fig.savefig(join(fig_dir, 't1', 'dimension_box_plot_t1pp.png'))"
   ]
  },
  {
   "cell_type": "markdown",
   "metadata": {},
   "source": [
    "# Identify tumor patients"
   ]
  },
  {
   "cell_type": "code",
   "execution_count": 7,
   "metadata": {},
   "outputs": [],
   "source": [
    "tumor_patient_tag = ['82f44e', '06c4453', '244a7d', '85b117f',\n",
    "                        ]\n",
    "tumor_patient_list = []\n",
    "for tag in tumor_patient_tag:\n",
    "    tumor_patient_list.append(\n",
    "        dfc[dfc.PatientID.str.startswith(tag)].PatientID.unique()[0])"
   ]
  },
  {
   "cell_type": "code",
   "execution_count": 9,
   "metadata": {},
   "outputs": [],
   "source": [
    "df_t1_pc = dfc[dfc.PatientID.isin(tumor_patient_list)]"
   ]
  },
  {
   "cell_type": "code",
   "execution_count": 13,
   "metadata": {},
   "outputs": [],
   "source": [
    "df_t1_pc[df_t1_pc.Sequence=='t1'][['SeriesInstanceUID', 'PatientID']].to_csv(\n",
    "    'D:\\Thesis\\Cobra\\cobra\\\\figs\\sp\\T1\\cancer.csv')"
   ]
  },
  {
   "cell_type": "markdown",
   "metadata": {},
   "source": [
    "# Get list of t1 pos/control scans"
   ]
  },
  {
   "cell_type": "code",
   "execution_count": 189,
   "metadata": {},
   "outputs": [],
   "source": [
    "arr_t1_neg = dfc[(dfc.Sequence=='t1') & (dfc.Positive==0)].PatientID.unique()\n",
    "np.savetxt(\"D:\\Thesis\\Cobra\\cobra\\data\\patient_groups\\\\t1_neg.txt\", arr_t1_neg,\n",
    "        delimiter=\" \", fmt=\"%s\")"
   ]
  },
  {
   "cell_type": "code",
   "execution_count": 190,
   "metadata": {},
   "outputs": [],
   "source": [
    "arr_t1_all = dfc[dfc.Sequence=='t1'].PatientID.unique()\n",
    "np.savetxt(\"D:\\Thesis\\Cobra\\cobra\\data\\patient_groups\\\\t1_all.txt\", arr_t1_all,\n",
    "        delimiter=\" \", fmt=\"%s\")"
   ]
  },
  {
   "cell_type": "code",
   "execution_count": 10,
   "metadata": {},
   "outputs": [],
   "source": [
    "ls_t1_pos = dfc[(dfc.Sequence=='t1') & (dfc.Positive==1)].PatientID.unique()\n",
    "ls_t1_pos_rest = list((set(ls_t1_pos)-set(ls_t1_post))-set(ls_t1_pp))\n",
    "np.savetxt(\"D:\\Thesis\\Cobra\\cobra\\data\\patient_groups\\\\t1_pos_rest.txt\", np.array(ls_t1_pos_rest),\n",
    "    delimiter=\" \", fmt=\"%s\")"
   ]
  },
  {
   "cell_type": "code",
   "execution_count": 16,
   "metadata": {},
   "outputs": [],
   "source": [
    "arr_t1_pos_rest_suid = np.array(dfc[(dfc.Sequence=='t1') & (dfc.PatientID.isin(ls_t1_pos_rest))].SeriesInstanceUID.unique())\n",
    "np.savetxt(\"D:\\Thesis\\Cobra\\cobra\\data\\patient_groups\\\\t1_pos_rest_suid.txt\", arr_t1_pos_rest_suid,\n",
    "    delimiter=\" \", fmt=\"%s\")"
   ]
  }
 ],
 "metadata": {
  "interpreter": {
   "hash": "fd64557248a61079a8b01b27957eac8e3bd9d72e2f60908e3e6321fba2096ec7"
  },
  "kernelspec": {
   "display_name": "Python 3.7.11 64-bit ('cobra': conda)",
   "language": "python",
   "name": "python3"
  },
  "language_info": {
   "codemirror_mode": {
    "name": "ipython",
    "version": 3
   },
   "file_extension": ".py",
   "mimetype": "text/x-python",
   "name": "python",
   "nbconvert_exporter": "python",
   "pygments_lexer": "ipython3",
   "version": "3.7.11"
  },
  "orig_nbformat": 4
 },
 "nbformat": 4,
 "nbformat_minor": 2
}
