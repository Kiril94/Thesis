{
 "cells": [
  {
   "cell_type": "code",
   "execution_count": 1,
   "id": "13a46cd0",
   "metadata": {},
   "outputs": [],
   "source": [
    "import numpy as np \n",
    "import nibabel as nib\n",
    "import itk\n",
    "import itkwidgets\n",
    "from ipywidgets import interact, interactive, IntSlider, ToggleButtons\n",
    "import matplotlib.pyplot as plt \n",
    "\n",
    "\n",
    "import seaborn as sns\n",
    "sns.set_style('darkgrid')"
   ]
  },
  {
   "cell_type": "code",
   "execution_count": 5,
   "id": "46cefef1",
   "metadata": {},
   "outputs": [
    {
     "name": "stdout",
     "output_type": "stream",
     "text": [
      "Type of the image <class 'nibabel.nifti1.Nifti1Image'>\n"
     ]
    }
   ],
   "source": [
    "image_path = '/home/neus/Documents/09.UCPH/MasterThesis/github/Thesis/Cobra/data/nii/orig/ef1c42bf52ccb1c28dacb0a50c8bc3a7_MPR_cor-T1_.nii.gz'\n",
    "#image_path = '../../data/nii/orig/ef1c42bf52ccb1c28dacb0a50c8bc3a7_MPR_cor-T1_.nii.gz'\n",
    "image_obj = nib.load(image_path)\n",
    "\n",
    "print(f'Type of the image {type(image_obj)}')"
   ]
  },
  {
   "cell_type": "code",
   "execution_count": 6,
   "id": "fb33b35d",
   "metadata": {},
   "outputs": [
    {
     "data": {
      "text/plain": [
       "numpy.ndarray"
      ]
     },
     "execution_count": 6,
     "metadata": {},
     "output_type": "execute_result"
    }
   ],
   "source": [
    "image_data = image_obj.get_fdata()\n",
    "type(image_data)"
   ]
  },
  {
   "cell_type": "code",
   "execution_count": 9,
   "id": "0282f749",
   "metadata": {},
   "outputs": [
    {
     "data": {
      "text/plain": [
       "(1024, 60, 1024)"
      ]
     },
     "execution_count": 9,
     "metadata": {},
     "output_type": "execute_result"
    }
   ],
   "source": [
    "height,width,depth = image_data.shape\n",
    "\n",
    "height,width,depth"
   ]
  },
  {
   "cell_type": "code",
   "execution_count": null,
   "id": "6ca60998",
   "metadata": {},
   "outputs": [],
   "source": [
    "maxval = 1023\n",
    "i = np.random.randing(0,maxval)"
   ]
  },
  {
   "cell_type": "code",
   "execution_count": null,
   "id": "8c29e111",
   "metadata": {},
   "outputs": [],
   "source": []
  }
 ],
 "metadata": {
  "kernelspec": {
   "display_name": "Python 3",
   "language": "python",
   "name": "python3"
  },
  "language_info": {
   "codemirror_mode": {
    "name": "ipython",
    "version": 3
   },
   "file_extension": ".py",
   "mimetype": "text/x-python",
   "name": "python",
   "nbconvert_exporter": "python",
   "pygments_lexer": "ipython3",
   "version": "3.8.8"
  }
 },
 "nbformat": 4,
 "nbformat_minor": 5
}
