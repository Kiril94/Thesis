{
 "cells": [
  {
   "cell_type": "code",
   "execution_count": 26,
   "metadata": {},
   "outputs": [],
   "source": [
    "from os.path import join, split\n",
    "import pickle\n",
    "from pathlib import Path\n",
    "import os, sys\n",
    "base_dir = split(os.getcwd())[0]\n",
    "if base_dir not in sys.path:\n",
    "    sys.path.append(base_dir)\n",
    "from utilities import utils\n",
    "import json\n",
    "from operator import itemgetter"
   ]
  },
  {
   "cell_type": "code",
   "execution_count": 18,
   "metadata": {},
   "outputs": [
    {
     "name": "stderr",
     "output_type": "stream",
     "text": [
      "c:\\Users\\kiril\\.conda\\envs\\cobra\\lib\\site-packages\\ipykernel_launcher.py:10: DtypeWarning: Columns (5) have mixed types.Specify dtype option on import or set low_memory=False.\n",
      "  # Remove the CWD from sys.path while we load stuff.\n"
     ]
    }
   ],
   "source": [
    "data_dir = join(base_dir,'cobra', 'data')\n",
    "table_dir = join(data_dir, 'tables')\n",
    "dwnld_dir = \"F:\\CoBra\\Data\\dcm\"\n",
    "\n",
    "with open(join(data_dir,'patient_groups', \"3dt1_sids.pkl\"), 'rb') as f:\n",
    "    sids_ls = pickle.load(f)\n",
    "df_clean = utils.load_scan_csv(join(table_dir, 'neg_pos_clean.csv')).dropna(how='all')"
   ]
  },
  {
   "cell_type": "code",
   "execution_count": 22,
   "metadata": {},
   "outputs": [],
   "source": [
    "with open(join(table_dir, 'disk_series_directories.json'), 'r') as f:\n",
    "    dir_dic = json.load(f)"
   ]
  },
  {
   "cell_type": "markdown",
   "metadata": {},
   "source": [
    "## Which 3D T1s have been downloaded"
   ]
  },
  {
   "cell_type": "code",
   "execution_count": 29,
   "metadata": {},
   "outputs": [
    {
     "name": "stdout",
     "output_type": "stream",
     "text": [
      "total 3d t1  45982\n"
     ]
    },
    {
     "data": {
      "text/plain": [
       "42688"
      ]
     },
     "execution_count": 29,
     "metadata": {},
     "output_type": "execute_result"
    }
   ],
   "source": [
    "print('total 3d t1 ', len(sids_ls))\n",
    "dwnld_sids = [sid for sid in sids_ls if sid in dir_dic.keys()]\n",
    "len(dwnld_sids)"
   ]
  },
  {
   "cell_type": "code",
   "execution_count": 31,
   "metadata": {},
   "outputs": [
    {
     "data": {
      "text/plain": [
       "39814"
      ]
     },
     "execution_count": 31,
     "metadata": {},
     "output_type": "execute_result"
    }
   ],
   "source": [
    "42688-2874 #second number are the new scans"
   ]
  },
  {
   "cell_type": "markdown",
   "metadata": {},
   "source": [
    "## How many of those have been converted?"
   ]
  },
  {
   "cell_type": "code",
   "execution_count": 39,
   "metadata": {},
   "outputs": [
    {
     "name": "stdout",
     "output_type": "stream",
     "text": [
      "32961\n",
      "scans were converted\n"
     ]
    }
   ],
   "source": [
    "conv_dirs = [\"F:\\\\CoBra\\\\Data\\\\volume_cross_nii\\\\input\\\\nii_files\\\\segmented\",\n",
    "        \"F:\\\\CoBra\\\\Data\\\\volume_longitudinal_nii\\\\input\\\\nii_files\\\\segmented\"]\n",
    "print(len(os.listdir(conv_dirs[0]))+len(os.listdir(conv_dirs[1])))\n",
    "print('scans were converted')"
   ]
  },
  {
   "cell_type": "code",
   "execution_count": 42,
   "metadata": {},
   "outputs": [
    {
     "name": "stdout",
     "output_type": "stream",
     "text": [
      "32905.66666666667 files segmented\n"
     ]
    }
   ],
   "source": [
    "print(7776+(84011/3)-2874, 'files segmented')"
   ]
  },
  {
   "cell_type": "code",
   "execution_count": 43,
   "metadata": {},
   "outputs": [
    {
     "data": {
      "text/plain": [
       "6853"
      ]
     },
     "execution_count": 43,
     "metadata": {},
     "output_type": "execute_result"
    }
   ],
   "source": [
    "39814-32961"
   ]
  }
 ],
 "metadata": {
  "kernelspec": {
   "display_name": "Python 3.7.11 ('cobra')",
   "language": "python",
   "name": "python3"
  },
  "language_info": {
   "codemirror_mode": {
    "name": "ipython",
    "version": 3
   },
   "file_extension": ".py",
   "mimetype": "text/x-python",
   "name": "python",
   "nbconvert_exporter": "python",
   "pygments_lexer": "ipython3",
   "version": "3.7.11 (default, Jul 27 2021, 09:42:29) [MSC v.1916 64 bit (AMD64)]"
  },
  "orig_nbformat": 4,
  "vscode": {
   "interpreter": {
    "hash": "8e7fd20fac0ee7966d14aaf31d560ddb89e4fee3c0c7314563846a42e8bbfe80"
   }
  }
 },
 "nbformat": 4,
 "nbformat_minor": 2
}
