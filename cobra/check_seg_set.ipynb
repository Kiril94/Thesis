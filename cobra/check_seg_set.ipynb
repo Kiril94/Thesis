{
 "cells": [
  {
   "cell_type": "code",
   "execution_count": 17,
   "metadata": {},
   "outputs": [],
   "source": [
    "import os\n",
    "from os.path import join, split"
   ]
  },
  {
   "cell_type": "code",
   "execution_count": 54,
   "metadata": {},
   "outputs": [],
   "source": [
    "with open(\"F:\\\\CoBra\\\\Data\\\\volume_cross_nii\\\\seg_failed.txt\", 'r') as f:\n",
    "    failed_seg = set([line.strip()[-13:-7] for line in f])"
   ]
  },
  {
   "cell_type": "code",
   "execution_count": 63,
   "metadata": {},
   "outputs": [
    {
     "name": "stdout",
     "output_type": "stream",
     "text": [
      "Some files are not in the segmentation folder because segmentation failes    but they should be moved in the segmented folder!\n"
     ]
    }
   ],
   "source": [
    "seg_dir = \"F:\\\\CoBra\\\\Data\\\\volume_cross_nii\\\\input\\\\nii_files\\\\segmented\"\n",
    "inp_dir = \"F:\\\\CoBra\\\\Data\\\\volume_cross_nii\\\\input\\\\nii_files\"\n",
    "failed_seg_dir = \"F:\\\\CoBra\\\\Data\\\\volume_cross_nii\\\\input\\\\seg_failed\"\n",
    "inp_ls = set([f[:6] for f in os.listdir(inp_dir) if f.endswith('.nii.gz')])\n",
    "seg_ls = set([f[:6] for f in os.listdir(seg_dir) if f.endswith('.nii.gz')])\n",
    "true_seg = set([f[:6] for f in \\\n",
    "    os.listdir(\"F:\\\\CoBra\\\\Data\\\\volume_cross_nii\\\\prediction\")\\\n",
    "        if f.endswith('_1mm.nii.gz')])\n",
    "\n",
    "# src_tgt = [(join(seg_dir, f+'.nii.gz'),join(inp_dir, f+'.nii.gz')) for \\\n",
    "    # f in seg_ls.difference(true_seg)]\n",
    "print(\"Some files are not in the segmentation folder because segmentation failes\\\n",
    "    but they should be moved in the segmented folder!\")"
   ]
  },
  {
   "cell_type": "code",
   "execution_count": 64,
   "metadata": {},
   "outputs": [],
   "source": [
    "src_tgt_pred = [(join(inp_dir, f+'.nii.gz'), join(seg_dir, f+'.nii.gz')) for \\\n",
    "    f in inp_ls.intersection(true_seg)]"
   ]
  },
  {
   "cell_type": "code",
   "execution_count": 65,
   "metadata": {},
   "outputs": [],
   "source": [
    "src_tgt_failed = [(join(inp_dir, f+'.nii.gz'), join(split(inp_dir)[0], 'seg_failed',f+'.nii.gz')) \\\n",
    "    for f in inp_ls.intersection(failed_seg)]"
   ]
  },
  {
   "cell_type": "code",
   "execution_count": 44,
   "metadata": {},
   "outputs": [],
   "source": [
    "failed_seg_fold = set([f[:6] for f in os.listdir(failed_seg_dir) if f.endswith('.nii.gz')])"
   ]
  },
  {
   "cell_type": "code",
   "execution_count": 48,
   "metadata": {},
   "outputs": [],
   "source": [
    "# src_tgt_not_failed = [(join(failed_seg_dir, f+'.nii.gz'),join(inp_dir, f+'.nii.gz'))\\\n",
    "    # for f in failed_seg_fold.difference(failed_seg)]"
   ]
  },
  {
   "cell_type": "code",
   "execution_count": 68,
   "metadata": {},
   "outputs": [],
   "source": [
    "for src, tgt in src_tgt_failed:\n",
    "    os.rename(src, tgt)\n",
    "for src, tgt in src_tgt_pred:\n",
    "    os.rename(src, tgt)\n",
    "    # try:\n",
    "        # os.rename(src, tgt)\n",
    "    # except FileExistsError:\n",
    "        # os.remove(src)"
   ]
  },
  {
   "cell_type": "code",
   "execution_count": 21,
   "metadata": {},
   "outputs": [],
   "source": [
    "for src, tgt in src_tgt_failed:\n",
    "    os.rename(src, tgt)"
   ]
  }
 ],
 "metadata": {
  "interpreter": {
   "hash": "b0a4e7c53876702b4a89fa263be312625f90a32415c93db3923bd26fa82850c2"
  },
  "kernelspec": {
   "display_name": "Python 3.7.11 ('cobra')",
   "language": "python",
   "name": "python3"
  },
  "language_info": {
   "codemirror_mode": {
    "name": "ipython",
    "version": 3
   },
   "file_extension": ".py",
   "mimetype": "text/x-python",
   "name": "python",
   "nbconvert_exporter": "python",
   "pygments_lexer": "ipython3",
   "version": "3.7.11"
  },
  "orig_nbformat": 4
 },
 "nbformat": 4,
 "nbformat_minor": 2
}
