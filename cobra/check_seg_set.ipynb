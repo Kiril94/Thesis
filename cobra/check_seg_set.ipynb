{
 "cells": [
  {
   "cell_type": "code",
   "execution_count": 2,
   "metadata": {},
   "outputs": [],
   "source": [
    "import os\n",
    "from os.path import join\n",
    "import gzip\n",
    "import shutil"
   ]
  },
  {
   "cell_type": "code",
   "execution_count": 13,
   "metadata": {},
   "outputs": [],
   "source": [
    "seg_dir = \"F:\\\\CoBra\\\\Data\\\\volume_cross_nii\\\\input\\\\nii_files\\\\segmented\"\n",
    "inp_dir = \"F:\\\\CoBra\\\\Data\\\\volume_cross_nii\\\\input\\\\nii_files\"\n",
    "inp_ls = set([f[:6] for f in os.listdir(inp_dir) if f.endswith('.nii.gz')])\n",
    "seg_ls = set([f[:6] for f in os.listdir(seg_dir) if f.endswith('.nii.gz')])\n",
    "true_seg = set([f[:6] for f in \\\n",
    "    os.listdir(\"F:\\\\CoBra\\\\Data\\\\volume_cross_nii\\\\prediction\")\\\n",
    "        if f.endswith('_1mm.nii.gz')])\n",
    "\n",
    "src_tgt = [(join(seg_dir, f+'.nii.gz'),join(inp_dir, f+'.nii.gz')) for \\\n",
    "    f in seg_ls.difference(true_seg)]"
   ]
  },
  {
   "cell_type": "code",
   "execution_count": 15,
   "metadata": {},
   "outputs": [
    {
     "data": {
      "text/plain": [
       "[]"
      ]
     },
     "execution_count": 15,
     "metadata": {},
     "output_type": "execute_result"
    }
   ],
   "source": [
    "src_tgt_pred = [(join(inp_dir, f+'.nii.gz'),join(seg_dir, f+'.nii.gz')) for \\\n",
    "    f in inp_ls.intersection(true_seg)]"
   ]
  },
  {
   "cell_type": "code",
   "execution_count": 10,
   "metadata": {},
   "outputs": [],
   "source": [
    "for src, tgt in src_tgt_pred:\n",
    "    try:\n",
    "        os.rename(src, tgt)\n",
    "    except FileExistsError:\n",
    "        os.remove(src)"
   ]
  },
  {
   "cell_type": "code",
   "execution_count": 19,
   "metadata": {},
   "outputs": [],
   "source": [
    "for src, tgt in src_tgt:\n",
    "    os.rename(src, tgt)"
   ]
  }
 ],
 "metadata": {
  "interpreter": {
   "hash": "b0a4e7c53876702b4a89fa263be312625f90a32415c93db3923bd26fa82850c2"
  },
  "kernelspec": {
   "display_name": "Python 3.7.11 ('cobra')",
   "language": "python",
   "name": "python3"
  },
  "language_info": {
   "codemirror_mode": {
    "name": "ipython",
    "version": 3
   },
   "file_extension": ".py",
   "mimetype": "text/x-python",
   "name": "python",
   "nbconvert_exporter": "python",
   "pygments_lexer": "ipython3",
   "version": "3.7.11"
  },
  "orig_nbformat": 4
 },
 "nbformat": 4,
 "nbformat_minor": 2
}
