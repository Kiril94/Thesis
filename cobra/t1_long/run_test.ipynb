{
 "cells": [
  {
   "cell_type": "code",
   "execution_count": 76,
   "metadata": {},
   "outputs": [],
   "source": [
    "import sys\n",
    "import os\n",
    "from os.path import split, join\n",
    "base_dir = split(os.getcwd())[0]\n",
    "if base_dir not in sys.path:\n",
    "    sys.path.append(base_dir)\n",
    "from utilities.basic import list_subdir\n",
    "from utilities import utils\n",
    "import matplotlib.pyplot as plt\n",
    "import numpy as np\n",
    "import pandas as pd\n",
    "import pickle\n",
    "import json\n",
    "from datetime import datetime\n",
    "dateparse = lambda x: datetime.strptime(x, '%Y-%m-%d')\n"
   ]
  },
  {
   "cell_type": "code",
   "execution_count": 77,
   "metadata": {},
   "outputs": [],
   "source": [
    "data_dir = join(base_dir, 'data')\n",
    "data_long_dir = join(data_dir, 't1_longitudinal')"
   ]
  },
  {
   "cell_type": "code",
   "execution_count": 79,
   "metadata": {},
   "outputs": [],
   "source": [
    "pred_df = pd.read_feather(join(data_long_dir, 'results', 'volume_prediction_results.feather'))\n",
    "pred_df.InstanceCreationDate = pd.to_datetime(pred_df.InstanceCreationDate, format='%Y-%m-%d')\n",
    "with open(join(data_long_dir, 'final', 'affected_brain_regions_dic.pkl'), 'rb') as f:\n",
    "    affected_br_dic = pickle.load(f)\n",
    "brain_regions_ls = [item for sublist in list(affected_br_dic.values()) for item in sublist]\n",
    "with open(join(data_long_dir, 'final', 'long_sids_pairs.pkl'), 'rb') as f:\n",
    "    long_sids_pairs = pickle.load(f)\n",
    "with open(join(data_long_dir, 'final', 'cc_dic_ps_optmatch_const10.pkl'), 'rb') as f:\n",
    "    cc_dic_ps10 = pickle.load(f)"
   ]
  },
  {
   "cell_type": "code",
   "execution_count": 91,
   "metadata": {},
   "outputs": [],
   "source": [
    "df = get_p_value(brain_regions_ls, long_sids_pairs, cc_dic_ps10, pred_df)"
   ]
  },
  {
   "cell_type": "code",
   "execution_count": 92,
   "metadata": {},
   "outputs": [
    {
     "data": {
      "text/plain": [
       "<pandas.core.groupby.generic.DataFrameGroupBy object at 0x0000023AD39CA788>"
      ]
     },
     "execution_count": 92,
     "metadata": {},
     "output_type": "execute_result"
    }
   ],
   "source": [
    "df"
   ]
  },
  {
   "cell_type": "code",
   "execution_count": 90,
   "metadata": {},
   "outputs": [],
   "source": [
    "def get_p_value(brain_regions_ls, sids, case_control_dic, pred_df):\n",
    "    all_patients = [item for sublist in list(case_control_dic.values()) for item in sublist]\\\n",
    "        + list(case_control_dic.keys())\n",
    "    pred_df = pred_df[pred_df.PatientID.isin(all_patients)]\n",
    "    pred_df = pred_df[pred_df.SeriesInstanceUID.isin(sids)]\n",
    "    pred_df['Date_diff'] = pred_df.groupby('PatientID')['InstanceCreationDate'].apply(lambda x: x.dt.date - x.min().date())# compute difference in dates\n",
    "    df_pat = pd.DataFrame(df.groupby('PatientID').Date_diff.max()).reset_index()\n",
    "    df_test = pred_df.sort_values(['Date_diff'],ascending=True).groupby('PatientID')\n",
    "    return df_test"
   ]
  }
 ],
 "metadata": {
  "interpreter": {
   "hash": "b0a4e7c53876702b4a89fa263be312625f90a32415c93db3923bd26fa82850c2"
  },
  "kernelspec": {
   "display_name": "Python 3.7.11 ('cobra')",
   "language": "python",
   "name": "python3"
  },
  "language_info": {
   "codemirror_mode": {
    "name": "ipython",
    "version": 3
   },
   "file_extension": ".py",
   "mimetype": "text/x-python",
   "name": "python",
   "nbconvert_exporter": "python",
   "pygments_lexer": "ipython3",
   "version": "3.7.11"
  },
  "orig_nbformat": 4
 },
 "nbformat": 4,
 "nbformat_minor": 2
}
