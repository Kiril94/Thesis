{
 "cells": [
  {
   "cell_type": "code",
   "execution_count": 2,
   "metadata": {},
   "outputs": [],
   "source": [
    "import sys\n",
    "import os\n",
    "from os.path import split, join\n",
    "base_dir = split(os.getcwd())[0]\n",
    "if base_dir not in sys.path:\n",
    "    sys.path.append(base_dir)\n",
    "from utilities.basic import list_subdir\n",
    "from utilities import utils\n",
    "import matplotlib.pyplot as plt\n",
    "import numpy as np\n",
    "import pandas as pd\n",
    "import seaborn as sns\n",
    "from scipy import stats\n",
    "import pickle\n",
    "import json"
   ]
  },
  {
   "cell_type": "code",
   "execution_count": 3,
   "metadata": {},
   "outputs": [
    {
     "name": "stderr",
     "output_type": "stream",
     "text": [
      "C:\\Users\\kiril\\.conda\\envs\\cobra\\lib\\site-packages\\ipykernel_launcher.py:8: DtypeWarning: Columns (5) have mixed types.Specify dtype option on import or set low_memory=False.\n",
      "  \n"
     ]
    }
   ],
   "source": [
    "data_dir = join(base_dir, 'data')\n",
    "tables_dir = join(data_dir, 'tables')\n",
    "data_long_dir = join(data_dir, 't1_longitudinal')\n",
    "disk_dir = \"F:\\\\\"\n",
    "fig_dir = join(base_dir, 't1_long','figs')\n",
    "br_df = pd.read_csv(join(disk_dir,\"CoBra\\\\Data\\\\volume_longitudinal_nii\\\\Brain_Regions.csv\"))\n",
    "pred_dir = join(disk_dir, \"CoBra\\\\Data\\\\volume_longitudinal_nii\\\\prediction\")\n",
    "df_pat = utils.load_scan_csv(join(tables_dir, 'neg_pos_clean.csv'))\n",
    "pred_df = pd.read_feather(join(data_long_dir, 'results', 'volume_prediction_results.feather'))\n",
    "with open(join(data_long_dir, \"sids_long_new.pkl\"), 'rb') as f:\n",
    "    long_sids_ls = pickle.load(f)\n",
    "with open(join(data_long_dir, \"sids_long_stroke.pkl\"), 'rb') as f:\n",
    "    stroke_sids_ls = pickle.load(f)\n",
    "with open(join(tables_dir, 'newIDs_dic.pkl'), 'rb') as f:\n",
    "    id_dic = pickle.load(f)\n",
    "with open(join(data_long_dir, \"sids_long_new.pkl\"), 'rb') as f:\n",
    "    sids_ls = pickle.load(f)\n",
    "with open(join(tables_dir, \"disk_series_directories.json\"), 'rb') as f:\n",
    "    dir_dic = json.load(f)\n",
    "inv_id_map = {v: k for k, v in id_dic.items()}\n",
    "#dcm_dirs = {newid:os.path.normpath(dir_dic[inv_id_map[newid]]) for newid in newids}\n",
    "\n",
    "df = pred_df[pred_df.SeriesInstanceUID.isin(long_sids_ls)]\n",
    "corrected_outliers = ['109983', '047205', '083072', '109644', '287546', '258402',\n",
    "                '258387', '258391', '258394','258397','258402', '258403']\n",
    "rerun_conversion_files = ['109983', '047205', '083072', '109644', '287546',]"
   ]
  },
  {
   "cell_type": "code",
   "execution_count": 4,
   "metadata": {},
   "outputs": [
    {
     "data": {
      "text/plain": [
       "2854"
      ]
     },
     "execution_count": 4,
     "metadata": {},
     "output_type": "execute_result"
    }
   ],
   "source": [
    "len(long_sids_ls)"
   ]
  },
  {
   "cell_type": "code",
   "execution_count": 5,
   "metadata": {},
   "outputs": [],
   "source": [
    "# pred_df = pred_df[~pred_df.newID.isin(corrected_outliers)]\n",
    "# pred_df = pred_df.reset_index(drop=True)\n",
    "# pred_df.to_feather(join(data_long_dir,'results', 'volume_prediction_results.feather'))"
   ]
  },
  {
   "cell_type": "markdown",
   "metadata": {},
   "source": [
    "## Segmented brain regions"
   ]
  },
  {
   "cell_type": "markdown",
   "metadata": {},
   "source": [
    "## Whole brain volume dist"
   ]
  },
  {
   "cell_type": "code",
   "execution_count": 5,
   "metadata": {},
   "outputs": [
    {
     "data": {
      "image/png": "[encoded data removed]",
      "text/plain": [
       "<Figure size 432x288 with 1 Axes>"
      ]
     },
     "metadata": {},
     "output_type": "display_data"
    }
   ],
   "source": [
    "plt.style.use('ggplot')\n",
    "fig, ax = plt.subplots()\n",
    "_,bins = np.histogram(df.Whole_Brain, bins=100, range=(0,1.75))\n",
    "sns.histplot(df.Whole_Brain/1e6, ax=ax, bins=bins)\n",
    "sns.histplot(df[np.abs(stats.zscore(df.Whole_Brain)) > 3].Whole_Brain/1e6,bins=bins, ax=ax, color='orange')\n",
    "ax.set_xlabel('Whole Brain Volume '+r'$[\\mathrm{dm}^3]$')\n",
    "fig.savefig(join(fig_dir, \"whole_brain_dist.png\"), dpi=200)"
   ]
  },
  {
   "cell_type": "code",
   "execution_count": 6,
   "metadata": {},
   "outputs": [
    {
     "data": {
      "text/plain": [
       "<AxesSubplot:ylabel='Whole_Brain'>"
      ]
     },
     "execution_count": 6,
     "metadata": {},
     "output_type": "execute_result"
    },
    {
     "data": {
      "image/png": "[encoded data removed]",
      "text/plain": [
       "<Figure size 432x288 with 2 Axes>"
      ]
     },
     "metadata": {},
     "output_type": "display_data"
    }
   ],
   "source": [
    "fig, ax = plt.subplots(1,2)\n",
    "sns.boxplot(data = df, y='Whole_Brain', ax=ax[0])\n",
    "sns.boxplot(data = df[np.abs(stats.zscore(df.Whole_Brain)) < 3], y='Whole_Brain', ax=ax[1])"
   ]
  },
  {
   "cell_type": "markdown",
   "metadata": {},
   "source": [
    "## Outliers"
   ]
  },
  {
   "cell_type": "code",
   "execution_count": 7,
   "metadata": {},
   "outputs": [
    {
     "name": "stdout",
     "output_type": "stream",
     "text": [
      "105\n"
     ]
    }
   ],
   "source": [
    "wb_outliers_df = pred_df[np.abs(stats.zscore(pred_df.Whole_Brain)) > 3]\n",
    "outliers_ids = list(wb_outliers_df.newID)\n",
    "\n",
    "\n",
    "corr_sids_ls = [inv_id_map[id] for id in outliers_ids]\n",
    "dcm_dirs = {sid:os.path.normpath(dir_dic[sid]) for sid in corr_sids_ls}\n",
    "outliers_sids = [inv_id_map[id] for id in outliers_ids]\n",
    "print(len(outliers_ids))\n",
    "#print(outliers_sids)"
   ]
  },
  {
   "cell_type": "code",
   "execution_count": 8,
   "metadata": {},
   "outputs": [],
   "source": [
    "failed_seg_paths = [(join(pred_dir, id+'_1mm.nii.gz'), join(pred_dir, id+'_1mm_seg.nii.gz')) for id in outliers_ids]\n",
    "with open(join(data_long_dir, \"failed_seg.pkl\"), 'wb') as f:\n",
    "    pickle.dump(failed_seg_paths, f)"
   ]
  },
  {
   "cell_type": "markdown",
   "metadata": {},
   "source": [
    "## Brain regions of interest"
   ]
  },
  {
   "cell_type": "code",
   "execution_count": 11,
   "metadata": {},
   "outputs": [],
   "source": [
    "br_ls = list(df.keys())\n",
    "br_ls.remove('newID')\n",
    "br_ls.remove('SeriesInstanceUID')\n",
    "def get_br_ls(key=''):\n",
    "    if not(isinstance(key, list)):\n",
    "        ls = [f for f in br_ls if key in f]\n",
    "        return ls\n",
    "    else:\n",
    "        ls = [f for f in br_ls if key[0] in f]\n",
    "        for k in key:\n",
    "            ls = [f for f in ls if k in f]\n",
    "        return ls"
   ]
  },
  {
   "cell_type": "code",
   "execution_count": 25,
   "metadata": {},
   "outputs": [
    {
     "data": {
      "text/plain": [
       "['Right_Basal_Forebrain', 'Left_Basal_Forebrain']"
      ]
     },
     "execution_count": 25,
     "metadata": {},
     "output_type": "execute_result"
    }
   ],
   "source": [
    "get_br_ls('Basal')"
   ]
  },
  {
   "cell_type": "code",
   "execution_count": 28,
   "metadata": {},
   "outputs": [
    {
     "name": "stdout",
     "output_type": "stream",
     "text": [
      "{'left rolandic operculum': ['Right_Central_Operculum', 'Left_Central_Operculum'], 'olfactory bulb': [], 'bilateral insulas': ['Right_Anterior_Insula', 'Right_Posterior_Insula', 'Left_Anterior_Insula', 'Left_Posterior_Insula'], 'bilateral hipocampi': ['Right_Hippocampus', 'Left_Hippocampus'], 'right cingulate gyrus': ['Right_Anterior_Cingulate_Gyrus', 'Right_Middle_Cingulate_Gyrus', 'Right_Posterior_Cingulate_Gyrus', 'Left_Anterior_Cingulate_Gyrus', 'Left_Middle_Cingulate_Gyrus', 'Left_Posterior_Cingulate_Gyrus'], 'left heschls gyrus': ['Right_Transverse_Temporal_Gyrus', 'Left_Transverse_Temporal_Gyrus'], 'parahippocampal gyrus': ['Right_Parahippocampal_Gyrus', 'Left_Parahippocampal_Gyrus'], 'anterior cingulate cortex': ['Right_Anterior_Cingulate_Gyrus', 'Left_Anterior_Cingulate_Gyrus'], 'temporal pole': ['Right_Temporal_Pole', 'Left_Temporal_Pole'], 'left orbitofrontal cortex': ['Right_Anterior_Orbital_Gyrus', 'Right_Lateral_Orbital_Gyrus', 'Right_Medial_Orbital_Gyrus', 'Right_Posterior_Orbital_Gyrus', 'Left_Anterior_Orbital_Gyrus', 'Left_Lateral_Orbital_Gyrus', 'Left_Medial_Orbital_Gyrus', 'Left_Posterior_Orbital_Gyrus']}\n"
     ]
    }
   ],
   "source": [
    "print(affected_br_dic)"
   ]
  },
  {
   "cell_type": "code",
   "execution_count": 29,
   "metadata": {},
   "outputs": [],
   "source": [
    "affected_br_dic = {\n",
    "    'left rolandic operculum':['Right_Central_Operculum', 'Left_Central_Operculum'],\n",
    "    'olfactory bulb':[], \n",
    "    'bilateral insulas':get_br_ls('Insu'),\n",
    "    'bilateral hipocampi':get_br_ls('Hip'),\n",
    "    'right cingulate gyrus':get_br_ls(['Cing']),\n",
    "    'left heschls gyrus':get_br_ls(['Trans']),\n",
    "    'parahippocampal gyrus':get_br_ls('Para'),\n",
    "    'anterior cingulate cortex':get_br_ls('Anterior_Cingulate'),\n",
    "    'temporal pole':get_br_ls('Temporal_Pole'),\n",
    "    'left orbitofrontal cortex':get_br_ls('Orbital_Gyrus')\n",
    "    }\n"
   ]
  },
  {
   "cell_type": "code",
   "execution_count": null,
   "metadata": {},
   "outputs": [],
   "source": [
    "['Left_Posterior_Orbital_Gyrus', \n",
    "        'Left_Medial_Orbital_Gyrus','Left_Lateral_Orbital_Gyrus',\n",
    "        'Left_Anterior_Orbital_Gyrus']"
   ]
  },
  {
   "cell_type": "code",
   "execution_count": 30,
   "metadata": {},
   "outputs": [
    {
     "name": "stdout",
     "output_type": "stream",
     "text": [
      "['left rolandic operculum', 'olfactory bulb', 'bilateral insulas', 'bilateral hipocampi', 'right cingulate gyrus', 'left heschls gyrus', 'parahippocampal gyrus', 'anterior cingulate cortex', 'temporal pole', 'left orbitofrontal cortex']\n"
     ]
    }
   ],
   "source": [
    "print(list(affected_br_dic.keys()))"
   ]
  },
  {
   "cell_type": "markdown",
   "metadata": {},
   "source": [
    "### Check outliers for every brain region"
   ]
  },
  {
   "cell_type": "code",
   "execution_count": 31,
   "metadata": {},
   "outputs": [],
   "source": [
    "exclude_sids_ls = []\n",
    "for br_ls in affected_br_dic.values():\n",
    "    for br in br_ls:\n",
    "        exclude_sids_ls = exclude_sids_ls + df[np.abs(stats.zscore(df[br])) > 3].SeriesInstanceUID.to_list()"
   ]
  },
  {
   "cell_type": "code",
   "execution_count": 32,
   "metadata": {},
   "outputs": [],
   "source": [
    "exclude_sids_ls = list(set(exclude_sids_ls))"
   ]
  },
  {
   "cell_type": "code",
   "execution_count": 37,
   "metadata": {},
   "outputs": [
    {
     "data": {
      "text/html": [
       "<div>\n",
       "<style scoped>\n",
       "    .dataframe tbody tr th:only-of-type {\n",
       "        vertical-align: middle;\n",
       "    }\n",
       "\n",
       "    .dataframe tbody tr th {\n",
       "        vertical-align: top;\n",
       "    }\n",
       "\n",
       "    .dataframe thead th {\n",
       "        text-align: right;\n",
       "    }\n",
       "</style>\n",
       "<table border=\"1\" class=\"dataframe\">\n",
       "  <thead>\n",
       "    <tr style=\"text-align: right;\">\n",
       "      <th></th>\n",
       "      <th>SeriesInstanceUID</th>\n",
       "      <th>StudyInstanceUID</th>\n",
       "      <th>PatientID</th>\n",
       "      <th>AngioFlag</th>\n",
       "      <th>AcquisitionMatrix</th>\n",
       "      <th>AcquisitionContrast</th>\n",
       "      <th>AcquisitionDuration</th>\n",
       "      <th>dBdt</th>\n",
       "      <th>EchoTime</th>\n",
       "      <th>EchoTrainLength</th>\n",
       "      <th>...</th>\n",
       "      <th>DateTime</th>\n",
       "      <th>Sequence</th>\n",
       "      <th>TrueSequenceType</th>\n",
       "      <th>Positive</th>\n",
       "      <th>NumberOfSlices</th>\n",
       "      <th>days_since_test</th>\n",
       "      <th>RowSpacing</th>\n",
       "      <th>ColumnSpacing</th>\n",
       "      <th>DistanceBetweenSlices</th>\n",
       "      <th>newID</th>\n",
       "    </tr>\n",
       "  </thead>\n",
       "  <tbody>\n",
       "    <tr>\n",
       "      <th>0</th>\n",
       "      <td>0655f969f74cccc710df6af1623f2b1f</td>\n",
       "      <td>4fd14c8d46dd3c83ccb3f7f6b001b55a</td>\n",
       "      <td>003f2b55ad1db9d49b8cab9f9d0ad287</td>\n",
       "      <td>N</td>\n",
       "      <td>[0.0]</td>\n",
       "      <td>NaN</td>\n",
       "      <td>NaN</td>\n",
       "      <td>0.000000</td>\n",
       "      <td>132.000</td>\n",
       "      <td>51.0</td>\n",
       "      <td>...</td>\n",
       "      <td>NaT</td>\n",
       "      <td>t2</td>\n",
       "      <td>1</td>\n",
       "      <td>0</td>\n",
       "      <td>NaN</td>\n",
       "      <td>NaN</td>\n",
       "      <td>0.520833</td>\n",
       "      <td>0.520833</td>\n",
       "      <td>NaN</td>\n",
       "      <td>1</td>\n",
       "    </tr>\n",
       "    <tr>\n",
       "      <th>1</th>\n",
       "      <td>304e7dfefd8d6d594da87f729c01e9ac</td>\n",
       "      <td>4fd14c8d46dd3c83ccb3f7f6b001b55a</td>\n",
       "      <td>003f2b55ad1db9d49b8cab9f9d0ad287</td>\n",
       "      <td>N</td>\n",
       "      <td>[0.0]</td>\n",
       "      <td>NaN</td>\n",
       "      <td>NaN</td>\n",
       "      <td>0.000000</td>\n",
       "      <td>75.000</td>\n",
       "      <td>18.0</td>\n",
       "      <td>...</td>\n",
       "      <td>NaT</td>\n",
       "      <td>t2</td>\n",
       "      <td>1</td>\n",
       "      <td>0</td>\n",
       "      <td>NaN</td>\n",
       "      <td>NaN</td>\n",
       "      <td>0.687500</td>\n",
       "      <td>0.687500</td>\n",
       "      <td>NaN</td>\n",
       "      <td>2</td>\n",
       "    </tr>\n",
       "    <tr>\n",
       "      <th>2</th>\n",
       "      <td>508473a999da22e86a920aef8f60ff80</td>\n",
       "      <td>4fd14c8d46dd3c83ccb3f7f6b001b55a</td>\n",
       "      <td>003f2b55ad1db9d49b8cab9f9d0ad287</td>\n",
       "      <td>N</td>\n",
       "      <td>[0.0]</td>\n",
       "      <td>NaN</td>\n",
       "      <td>NaN</td>\n",
       "      <td>0.000000</td>\n",
       "      <td>9.000</td>\n",
       "      <td>3.0</td>\n",
       "      <td>...</td>\n",
       "      <td>NaT</td>\n",
       "      <td>t1</td>\n",
       "      <td>1</td>\n",
       "      <td>0</td>\n",
       "      <td>30.0</td>\n",
       "      <td>NaN</td>\n",
       "      <td>0.687500</td>\n",
       "      <td>0.687500</td>\n",
       "      <td>NaN</td>\n",
       "      <td>4</td>\n",
       "    </tr>\n",
       "    <tr>\n",
       "      <th>3</th>\n",
       "      <td>81c81aa7ab3d012d3e381609a6ba8921</td>\n",
       "      <td>4fd14c8d46dd3c83ccb3f7f6b001b55a</td>\n",
       "      <td>003f2b55ad1db9d49b8cab9f9d0ad287</td>\n",
       "      <td>N</td>\n",
       "      <td>[256.0]</td>\n",
       "      <td>NaN</td>\n",
       "      <td>NaN</td>\n",
       "      <td>0.000000</td>\n",
       "      <td>133.000</td>\n",
       "      <td>28.0</td>\n",
       "      <td>...</td>\n",
       "      <td>NaT</td>\n",
       "      <td>flair</td>\n",
       "      <td>1</td>\n",
       "      <td>0</td>\n",
       "      <td>29.0</td>\n",
       "      <td>NaN</td>\n",
       "      <td>0.937500</td>\n",
       "      <td>0.937500</td>\n",
       "      <td>NaN</td>\n",
       "      <td>5</td>\n",
       "    </tr>\n",
       "    <tr>\n",
       "      <th>4</th>\n",
       "      <td>85bb22bde3344585a4a7448439e7a084</td>\n",
       "      <td>4fd14c8d46dd3c83ccb3f7f6b001b55a</td>\n",
       "      <td>003f2b55ad1db9d49b8cab9f9d0ad287</td>\n",
       "      <td>N</td>\n",
       "      <td>[0.0]</td>\n",
       "      <td>NaN</td>\n",
       "      <td>NaN</td>\n",
       "      <td>0.000000</td>\n",
       "      <td>89.000</td>\n",
       "      <td>17.0</td>\n",
       "      <td>...</td>\n",
       "      <td>NaT</td>\n",
       "      <td>t2</td>\n",
       "      <td>1</td>\n",
       "      <td>0</td>\n",
       "      <td>NaN</td>\n",
       "      <td>NaN</td>\n",
       "      <td>0.625000</td>\n",
       "      <td>0.625000</td>\n",
       "      <td>NaN</td>\n",
       "      <td>6</td>\n",
       "    </tr>\n",
       "    <tr>\n",
       "      <th>...</th>\n",
       "      <td>...</td>\n",
       "      <td>...</td>\n",
       "      <td>...</td>\n",
       "      <td>...</td>\n",
       "      <td>...</td>\n",
       "      <td>...</td>\n",
       "      <td>...</td>\n",
       "      <td>...</td>\n",
       "      <td>...</td>\n",
       "      <td>...</td>\n",
       "      <td>...</td>\n",
       "      <td>...</td>\n",
       "      <td>...</td>\n",
       "      <td>...</td>\n",
       "      <td>...</td>\n",
       "      <td>...</td>\n",
       "      <td>...</td>\n",
       "      <td>...</td>\n",
       "      <td>...</td>\n",
       "      <td>...</td>\n",
       "      <td>...</td>\n",
       "    </tr>\n",
       "    <tr>\n",
       "      <th>178573</th>\n",
       "      <td>55e130db4bc2028e9b1e599f8dba58e1</td>\n",
       "      <td>aa456c58a1df5aa802d48387d1c6149d</td>\n",
       "      <td>ff3975156e8c8b50c8cbade7cc1daa49</td>\n",
       "      <td>NaN</td>\n",
       "      <td>[]</td>\n",
       "      <td>NaN</td>\n",
       "      <td>78.409096</td>\n",
       "      <td>71.454453</td>\n",
       "      <td>89.075</td>\n",
       "      <td>53.0</td>\n",
       "      <td>...</td>\n",
       "      <td>2020-08-04 12:10:53</td>\n",
       "      <td>dwi</td>\n",
       "      <td>1</td>\n",
       "      <td>1</td>\n",
       "      <td>NaN</td>\n",
       "      <td>-113.0</td>\n",
       "      <td>1.026786</td>\n",
       "      <td>1.026786</td>\n",
       "      <td>NaN</td>\n",
       "      <td>328483</td>\n",
       "    </tr>\n",
       "    <tr>\n",
       "      <th>178574</th>\n",
       "      <td>6c2fa3320bc67eb33fe3f7417554ae33</td>\n",
       "      <td>aa456c58a1df5aa802d48387d1c6149d</td>\n",
       "      <td>ff3975156e8c8b50c8cbade7cc1daa49</td>\n",
       "      <td>NaN</td>\n",
       "      <td>[]</td>\n",
       "      <td>NaN</td>\n",
       "      <td>292.800018</td>\n",
       "      <td>66.689651</td>\n",
       "      <td>340.000</td>\n",
       "      <td>167.0</td>\n",
       "      <td>...</td>\n",
       "      <td>2020-08-04 12:16:59</td>\n",
       "      <td>flair</td>\n",
       "      <td>1</td>\n",
       "      <td>1</td>\n",
       "      <td>60.0</td>\n",
       "      <td>-113.0</td>\n",
       "      <td>0.244141</td>\n",
       "      <td>0.244141</td>\n",
       "      <td>NaN</td>\n",
       "      <td>328484</td>\n",
       "    </tr>\n",
       "    <tr>\n",
       "      <th>178575</th>\n",
       "      <td>903f4aae704b8d20a48355d1e34dd3e4</td>\n",
       "      <td>aa456c58a1df5aa802d48387d1c6149d</td>\n",
       "      <td>ff3975156e8c8b50c8cbade7cc1daa49</td>\n",
       "      <td>NaN</td>\n",
       "      <td>[]</td>\n",
       "      <td>NaN</td>\n",
       "      <td>292.800018</td>\n",
       "      <td>66.689651</td>\n",
       "      <td>340.000</td>\n",
       "      <td>167.0</td>\n",
       "      <td>...</td>\n",
       "      <td>2020-08-04 12:16:43</td>\n",
       "      <td>flair</td>\n",
       "      <td>1</td>\n",
       "      <td>1</td>\n",
       "      <td>312.0</td>\n",
       "      <td>-113.0</td>\n",
       "      <td>0.714286</td>\n",
       "      <td>0.714286</td>\n",
       "      <td>NaN</td>\n",
       "      <td>328485</td>\n",
       "    </tr>\n",
       "    <tr>\n",
       "      <th>178576</th>\n",
       "      <td>93842a14fafaf6cb6a9ea27b301974aa</td>\n",
       "      <td>aa456c58a1df5aa802d48387d1c6149d</td>\n",
       "      <td>ff3975156e8c8b50c8cbade7cc1daa49</td>\n",
       "      <td>NaN</td>\n",
       "      <td>[]</td>\n",
       "      <td>NaN</td>\n",
       "      <td>30.000002</td>\n",
       "      <td>59.413048</td>\n",
       "      <td>90.000</td>\n",
       "      <td>55.0</td>\n",
       "      <td>...</td>\n",
       "      <td>2020-08-04 12:11:16</td>\n",
       "      <td>t2</td>\n",
       "      <td>1</td>\n",
       "      <td>1</td>\n",
       "      <td>NaN</td>\n",
       "      <td>-113.0</td>\n",
       "      <td>0.532407</td>\n",
       "      <td>0.532407</td>\n",
       "      <td>NaN</td>\n",
       "      <td>328486</td>\n",
       "    </tr>\n",
       "    <tr>\n",
       "      <th>178577</th>\n",
       "      <td>b97c6b40f31f2681afbd82dbde7cec28</td>\n",
       "      <td>aa456c58a1df5aa802d48387d1c6149d</td>\n",
       "      <td>ff3975156e8c8b50c8cbade7cc1daa49</td>\n",
       "      <td>NaN</td>\n",
       "      <td>[]</td>\n",
       "      <td>NaN</td>\n",
       "      <td>292.800018</td>\n",
       "      <td>66.689651</td>\n",
       "      <td>340.000</td>\n",
       "      <td>167.0</td>\n",
       "      <td>...</td>\n",
       "      <td>2020-08-04 12:16:48</td>\n",
       "      <td>flair</td>\n",
       "      <td>1</td>\n",
       "      <td>1</td>\n",
       "      <td>60.0</td>\n",
       "      <td>-113.0</td>\n",
       "      <td>0.244141</td>\n",
       "      <td>0.244141</td>\n",
       "      <td>NaN</td>\n",
       "      <td>328488</td>\n",
       "    </tr>\n",
       "  </tbody>\n",
       "</table>\n",
       "<p>178163 rows × 58 columns</p>\n",
       "</div>"
      ],
      "text/plain": [
       "                       SeriesInstanceUID                  StudyInstanceUID  \\\n",
       "0       0655f969f74cccc710df6af1623f2b1f  4fd14c8d46dd3c83ccb3f7f6b001b55a   \n",
       "1       304e7dfefd8d6d594da87f729c01e9ac  4fd14c8d46dd3c83ccb3f7f6b001b55a   \n",
       "2       508473a999da22e86a920aef8f60ff80  4fd14c8d46dd3c83ccb3f7f6b001b55a   \n",
       "3       81c81aa7ab3d012d3e381609a6ba8921  4fd14c8d46dd3c83ccb3f7f6b001b55a   \n",
       "4       85bb22bde3344585a4a7448439e7a084  4fd14c8d46dd3c83ccb3f7f6b001b55a   \n",
       "...                                  ...                               ...   \n",
       "178573  55e130db4bc2028e9b1e599f8dba58e1  aa456c58a1df5aa802d48387d1c6149d   \n",
       "178574  6c2fa3320bc67eb33fe3f7417554ae33  aa456c58a1df5aa802d48387d1c6149d   \n",
       "178575  903f4aae704b8d20a48355d1e34dd3e4  aa456c58a1df5aa802d48387d1c6149d   \n",
       "178576  93842a14fafaf6cb6a9ea27b301974aa  aa456c58a1df5aa802d48387d1c6149d   \n",
       "178577  b97c6b40f31f2681afbd82dbde7cec28  aa456c58a1df5aa802d48387d1c6149d   \n",
       "\n",
       "                               PatientID AngioFlag AcquisitionMatrix  \\\n",
       "0       003f2b55ad1db9d49b8cab9f9d0ad287         N             [0.0]   \n",
       "1       003f2b55ad1db9d49b8cab9f9d0ad287         N             [0.0]   \n",
       "2       003f2b55ad1db9d49b8cab9f9d0ad287         N             [0.0]   \n",
       "3       003f2b55ad1db9d49b8cab9f9d0ad287         N           [256.0]   \n",
       "4       003f2b55ad1db9d49b8cab9f9d0ad287         N             [0.0]   \n",
       "...                                  ...       ...               ...   \n",
       "178573  ff3975156e8c8b50c8cbade7cc1daa49       NaN                []   \n",
       "178574  ff3975156e8c8b50c8cbade7cc1daa49       NaN                []   \n",
       "178575  ff3975156e8c8b50c8cbade7cc1daa49       NaN                []   \n",
       "178576  ff3975156e8c8b50c8cbade7cc1daa49       NaN                []   \n",
       "178577  ff3975156e8c8b50c8cbade7cc1daa49       NaN                []   \n",
       "\n",
       "       AcquisitionContrast  AcquisitionDuration       dBdt  EchoTime  \\\n",
       "0                      NaN                  NaN   0.000000   132.000   \n",
       "1                      NaN                  NaN   0.000000    75.000   \n",
       "2                      NaN                  NaN   0.000000     9.000   \n",
       "3                      NaN                  NaN   0.000000   133.000   \n",
       "4                      NaN                  NaN   0.000000    89.000   \n",
       "...                    ...                  ...        ...       ...   \n",
       "178573                 NaN            78.409096  71.454453    89.075   \n",
       "178574                 NaN           292.800018  66.689651   340.000   \n",
       "178575                 NaN           292.800018  66.689651   340.000   \n",
       "178576                 NaN            30.000002  59.413048    90.000   \n",
       "178577                 NaN           292.800018  66.689651   340.000   \n",
       "\n",
       "        EchoTrainLength  ...            DateTime  Sequence TrueSequenceType  \\\n",
       "0                  51.0  ...                 NaT        t2                1   \n",
       "1                  18.0  ...                 NaT        t2                1   \n",
       "2                   3.0  ...                 NaT        t1                1   \n",
       "3                  28.0  ...                 NaT     flair                1   \n",
       "4                  17.0  ...                 NaT        t2                1   \n",
       "...                 ...  ...                 ...       ...              ...   \n",
       "178573             53.0  ... 2020-08-04 12:10:53       dwi                1   \n",
       "178574            167.0  ... 2020-08-04 12:16:59     flair                1   \n",
       "178575            167.0  ... 2020-08-04 12:16:43     flair                1   \n",
       "178576             55.0  ... 2020-08-04 12:11:16        t2                1   \n",
       "178577            167.0  ... 2020-08-04 12:16:48     flair                1   \n",
       "\n",
       "        Positive  NumberOfSlices days_since_test RowSpacing  ColumnSpacing  \\\n",
       "0              0             NaN             NaN   0.520833       0.520833   \n",
       "1              0             NaN             NaN   0.687500       0.687500   \n",
       "2              0            30.0             NaN   0.687500       0.687500   \n",
       "3              0            29.0             NaN   0.937500       0.937500   \n",
       "4              0             NaN             NaN   0.625000       0.625000   \n",
       "...          ...             ...             ...        ...            ...   \n",
       "178573         1             NaN          -113.0   1.026786       1.026786   \n",
       "178574         1            60.0          -113.0   0.244141       0.244141   \n",
       "178575         1           312.0          -113.0   0.714286       0.714286   \n",
       "178576         1             NaN          -113.0   0.532407       0.532407   \n",
       "178577         1            60.0          -113.0   0.244141       0.244141   \n",
       "\n",
       "        DistanceBetweenSlices   newID  \n",
       "0                         NaN       1  \n",
       "1                         NaN       2  \n",
       "2                         NaN       4  \n",
       "3                         NaN       5  \n",
       "4                         NaN       6  \n",
       "...                       ...     ...  \n",
       "178573                    NaN  328483  \n",
       "178574                    NaN  328484  \n",
       "178575                    NaN  328485  \n",
       "178576                    NaN  328486  \n",
       "178577                    NaN  328488  \n",
       "\n",
       "[178163 rows x 58 columns]"
      ]
     },
     "execution_count": 37,
     "metadata": {},
     "output_type": "execute_result"
    }
   ],
   "source": [
    "df_clean"
   ]
  },
  {
   "cell_type": "code",
   "execution_count": 38,
   "metadata": {},
   "outputs": [],
   "source": [
    "df_clean = pred_df[~pred_df.SeriesInstanceUID.isin(exclude_sids_ls)]"
   ]
  },
  {
   "cell_type": "markdown",
   "metadata": {},
   "source": [
    "## Store normally segmented sids and outliers"
   ]
  },
  {
   "cell_type": "code",
   "execution_count": 40,
   "metadata": {},
   "outputs": [],
   "source": [
    "with open(join(data_long_dir, \"clean_segmentation_sids.txt\"), 'w') as f:\n",
    "    for listitem in list(df_clean.SeriesInstanceUID.unique()):\n",
    "        f.write('%s\\n' % listitem)"
   ]
  },
  {
   "cell_type": "code",
   "execution_count": 33,
   "metadata": {},
   "outputs": [],
   "source": [
    "with open(join(data_long_dir, \"outliers_affected_br.txt\"), 'w') as f:\n",
    "    for listitem in exclude_sids_ls:\n",
    "        f.write('%s\\n' % listitem)"
   ]
  },
  {
   "cell_type": "markdown",
   "metadata": {},
   "source": [
    "## How many patients are affected"
   ]
  },
  {
   "cell_type": "code",
   "execution_count": 34,
   "metadata": {},
   "outputs": [
    {
     "data": {
      "text/plain": [
       "319"
      ]
     },
     "execution_count": 34,
     "metadata": {},
     "output_type": "execute_result"
    }
   ],
   "source": [
    "df_pat[df_pat.SeriesInstanceUID.isin(exclude_sids_ls)].PatientID.nunique()"
   ]
  },
  {
   "cell_type": "code",
   "execution_count": 153,
   "metadata": {},
   "outputs": [],
   "source": [
    "with open(join(data_long_dir, \"outliers_affected_br.pkl\"), 'wb') as f:\n",
    "    pickle.dump(exclude_sids_ls, f)"
   ]
  }
 ],
 "metadata": {
  "interpreter": {
   "hash": "b0a4e7c53876702b4a89fa263be312625f90a32415c93db3923bd26fa82850c2"
  },
  "kernelspec": {
   "display_name": "Python 3 (ipykernel)",
   "language": "python",
   "name": "python3"
  },
  "language_info": {
   "codemirror_mode": {
    "name": "ipython",
    "version": 3
   },
   "file_extension": ".py",
   "mimetype": "text/x-python",
   "name": "python",
   "nbconvert_exporter": "python",
   "pygments_lexer": "ipython3",
   "version": "3.7.11"
  }
 },
 "nbformat": 4,
 "nbformat_minor": 2
}
