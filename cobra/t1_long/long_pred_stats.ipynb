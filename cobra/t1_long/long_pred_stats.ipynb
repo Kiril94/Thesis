{
 "cells": [
  {
   "cell_type": "code",
   "execution_count": 1,
   "metadata": {},
   "outputs": [],
   "source": [
    "import sys\n",
    "import os\n",
    "from os.path import split, join\n",
    "base_dir = split(os.getcwd())[0]\n",
    "if base_dir not in sys.path:\n",
    "    sys.path.append(base_dir)\n",
    "from utilities.basic import list_subdir\n",
    "import matplotlib.pyplot as plt\n",
    "import numpy as np\n",
    "import pandas as pd\n",
    "import seaborn as sns\n",
    "from scipy import stats\n",
    "import pickle\n",
    "import json"
   ]
  },
  {
   "cell_type": "code",
   "execution_count": 27,
   "metadata": {},
   "outputs": [],
   "source": [
    "data_dir = join(base_dir, 'data')\n",
    "tables_dir = join(data_dir, 'tables')\n",
    "data_long_dir = join(data_dir, 't1_longitudinal')\n",
    "disk_dir = \"F:\\\\\"\n",
    "br_df = pd.read_csv(join(disk_dir,\"CoBra\\\\Data\\\\volume_longitudinal_nii\\\\Brain_Regions.csv\"))\n",
    "pred_dir = join(disk_dir, \"CoBra\\\\Data\\\\volume_longitudinal_nii\\\\prediction\")\n",
    "    \n",
    "pred_df = pd.read_feather(join(data_long_dir, 'results', 'volume_prediction_results.feather'))\n",
    "with open(join(data_long_dir, \"sids_long_new.pkl\"), 'rb') as f:\n",
    "    long_sids_ls = pickle.load(f)\n",
    "with open(join(data_long_dir, \"sids_long_stroke.pkl\"), 'rb') as f:\n",
    "    stroke_sids_ls = pickle.load(f)\n",
    "with open(join(tables_dir, 'newIDs_dic.pkl'), 'rb') as f:\n",
    "    id_dic = pickle.load(f)\n",
    "with open(join(data_long_dir, \"sids_long_new.pkl\"), 'rb') as f:\n",
    "    sids_ls = pickle.load(f)\n",
    "with open(join(tables_dir, \"disk_series_directories.json\"), 'rb') as f:\n",
    "    dir_dic = json.load(f)\n",
    "inv_id_map = {v: k for k, v in id_dic.items()}\n",
    "#dcm_dirs = {newid:os.path.normpath(dir_dic[inv_id_map[newid]]) for newid in newids}\n",
    "\n",
    "df = pred_df[pred_df.SeriesInstanceUID.isin(long_sids_ls)]\n",
    "corrected_outliers = ['109983', '047205', '083072', '109644', '287546', '258402',\n",
    "                '258387', '258391', '258394','258397','258402', '258403']\n",
    "rerun_conversion_files = ['109983', '047205', '083072', '109644', '287546',]"
   ]
  },
  {
   "cell_type": "code",
   "execution_count": 26,
   "metadata": {},
   "outputs": [],
   "source": [
    "# pred_df = pred_df[~pred_df.newID.isin(corrected_outliers)]\n",
    "# pred_df = pred_df.reset_index(drop=True)\n",
    "# pred_df.to_feather(join(data_long_dir,'results', 'volume_prediction_results.feather'))"
   ]
  },
  {
   "cell_type": "markdown",
   "metadata": {},
   "source": [
    "## Segmented brain regions"
   ]
  },
  {
   "cell_type": "code",
   "execution_count": 3,
   "metadata": {},
   "outputs": [
    {
     "name": "stdout",
     "output_type": "stream",
     "text": [
      "['newID', 'SeriesInstanceUID', 'External_CSF', 'Third_Ventricle', 'Right_Inferior_Lateral_Ventricle', 'Right_Lateral_Ventricle', 'Left_Inferior_Lateral_Ventricle', 'Left_Lateral_Ventricle', 'Right_Accumbens_Area', 'Right_Caudate', 'Right_Putamen', 'Right_Pallidum', 'Right_Thalamus_Proper', 'Right_Ventral_DC', 'Right_Basal_Forebrain', 'Left_Accumbens_Area', 'Left_Caudate', 'Left_Putamen', 'Left_Pallidum', 'Left_Thalamus_Proper', 'Left_Ventral_DC', 'Left_Basal_Forebrain', 'Right_Amygdala', 'Right_Hippocampus', 'Right_Entorhinal_Area', 'Right_Fusiform_Gyrus', 'Right_Parahippocampal_Gyrus', 'Right_Inferior_Temporal_Gyrus', 'Right_Middle_Temporal_Gyrus', 'Right_Superior_Temporal_Gyrus', 'Right_Planum_Polare', 'Right_Planum_Temporale', 'Right_Transverse_Temporal_Gyrus', 'Right_Temporal_Pole', 'Right_Anterior_Cingulate_Gyrus', 'Right_Middle_Cingulate_Gyrus', 'Right_Posterior_Cingulate_Gyrus', 'Right_Anterior_Insula', 'Right_Posterior_Insula', 'Right_Anterior_Orbital_Gyrus', 'Right_Lateral_Orbital_Gyrus', 'Right_Medial_Orbital_Gyrus', 'Right_Posterior_Orbital_Gyrus', 'Right_Central_Operculum', 'Right_Frontal_Operculum', 'Right_Frontal_Pole', 'Right_Gyrus_Rectus', 'Right_Medial_Frontal_Cortex', 'Right_Medial_Superior_Frontal_Gyrus', 'Right_Subcallosal_Area', 'Right_Middle_Frontal_Gyrus', 'Right_Opercular_Inferior_Frontal_Gyrus', 'Right_Orbital_Inferior_Frontal_Gyrus', 'Right_Superior_Frontal_Gyrus', 'Right_Triangular_Inferior_Frontal_Gyrus', 'Right_Medial_Precentral_Gyrus', 'Right_Precentral_Gyrus', 'Right_Supplementary_Motor_Cortex', 'Right_Angular_Gyrus', 'Right_Parietal_Operculum', 'Right_Supramarginal_Gyrus', 'Right_Superior_Parietal_Lobule', 'Right_Medial_Postcentral_Gyrus', 'Right_Postcentral_Gyrus', 'Right_Precuneus', 'Right_Calcarine_Cortex', 'Right_Cuneus', 'Right_Lingual_Gyrus', 'Right_Occipital_Fusiform_Gyrus', 'Right_Inferior_Occipital_Gyrus', 'Right_Middle_Occipital_Gyrus', 'Right_Occipital_Pole', 'Right_Superior_Occipital_Gyrus', 'Left_Amygdala', 'Left_Hippocampus', 'Left_Entorhinal_Area', 'Left_Fusiform_Gyrus', 'Left_Parahippocampal_Gyrus', 'Left_Inferior_Temporal_Gyrus', 'Left_Middle_Temporal_Gyrus', 'Left_Superior_Temporal_Gyrus', 'Left_Planum_Polare', 'Left_Planum_Temporale', 'Left_Transverse_Temporal_Gyrus', 'Left_Temporal_Pole', 'Left_Anterior_Cingulate_Gyrus', 'Left_Middle_Cingulate_Gyrus', 'Left_Posterior_Cingulate_Gyrus', 'Left_Anterior_Insula', 'Left_Posterior_Insula', 'Left_Anterior_Orbital_Gyrus', 'Left_Lateral_Orbital_Gyrus', 'Left_Medial_Orbital_Gyrus', 'Left_Posterior_Orbital_Gyrus', 'Left_Central_Operculum', 'Left_Frontal_Operculum', 'Left_Frontal_Pole', 'Left_Gyrus_Rectus', 'Left_Medial_Frontal_Cortex', 'Left_Medial_Superior_Frontal_Gyrus', 'Left_Subcallosal_Area', 'Left_Middle_Frontal_Gyrus', 'Left_Opercular_Inferior_Frontal_Gyrus', 'Left_Orbital_Inferior_Frontal_Gyrus', 'Left_Superior_Frontal_Gyrus', 'Left_Triangular_Inferior_Frontal_Gyrus', 'Left_Medial_Precentral_Gyrus', 'Left_Precentral_Gyrus', 'Left_Supplementary_Motor_Cortex', 'Left_Angular_Gyrus', 'Left_Parietal_Operculum', 'Left_Supramarginal_Gyrus', 'Left_Superior_Parietal_Lobule', 'Left_Medial_Postcentral_Gyrus', 'Left_Postcentral_Gyrus', 'Left_Precuneus', 'Left_Calcarine_Cortex', 'Left_Cuneus', 'Left_Lingual_Gyrus', 'Left_Occipital_Fusiform_Gyrus', 'Left_Inferior_Occipital_Gyrus', 'Left_Middle_Occipital_Gyrus', 'Left_Occipital_Pole', 'Left_Superior_Occipital_Gyrus', 'Right_Cerebral_White_Matter', 'Left_Cerebral_White_Matter', 'Forth_Ventricle', 'Brain_Stem', 'Right_Cerebellum_Exterior', 'Right_Cerebellum_White_Matter', 'Left_Cerebellum_Exterior', 'Left_Cerebellum_White_Matter', 'Cerebellar_Vermal_Lobules_I_V', 'Cerebellar_Vermal_Lobules_VI_VII', 'Cerebellar_Vermal_Lobules_VIII_X', 'Background', 'Whole_Brain']\n"
     ]
    }
   ],
   "source": [
    "print(list(df.keys()))"
   ]
  },
  {
   "cell_type": "markdown",
   "metadata": {},
   "source": [
    "## Whole brain volume dist"
   ]
  },
  {
   "cell_type": "code",
   "execution_count": 20,
   "metadata": {},
   "outputs": [
    {
     "data": {
      "text/plain": [
       "<AxesSubplot:ylabel='Whole_Brain'>"
      ]
     },
     "execution_count": 20,
     "metadata": {},
     "output_type": "execute_result"
    },
    {
     "data": {
      "image/png": "[encoded data removed]",
      "text/plain": [
       "<Figure size 432x288 with 1 Axes>"
      ]
     },
     "metadata": {
      "needs_background": "light"
     },
     "output_type": "display_data"
    }
   ],
   "source": [
    "sns.boxplot(data = df, y='Whole_Brain')"
   ]
  },
  {
   "cell_type": "markdown",
   "metadata": {},
   "source": [
    "## Outliers"
   ]
  },
  {
   "cell_type": "code",
   "execution_count": 28,
   "metadata": {},
   "outputs": [
    {
     "name": "stdout",
     "output_type": "stream",
     "text": [
      "['003310', '023797', '028822', '036992', '039377', '039378', '039383', '039384', '039386', '039388', '039389', '039392', '039399', '039400', '046860', '052554', '069722', '078055', '078061', '078075', '078078', '078079', '078080', '078081', '096817', '110281', '139292', '141100', '141101', '141109', '148503', '148506', '152441', '152451', '152453', '156342', '157464', '159838', '165810', '166953', '166957', '177372', '193606', '195115', '197004', '213206', '217372', '217388', '241992', '253193', '253201', '253215', '268291', '269052', '276227', '279660', '284004', '285322', '285325', '285331', '297021', '301624', '306255', '314826', '325178']\n",
      "['f3365ef7a2c95cebe0d44b231cd6ed28', '03ea24930fc139e8af20bb55db43ab45', '5428d57b6ddea39c8de3f4b83d68a207', '4ef9707affc9b5c54ec00ec15d6b644f', '3ab4be3a2a4042ada27324e235da421f', '3b70f7f01b1728908a80e6019f8ca670', '632eeaf390547dddd11ce7190b50aa66', '6baff7321eee67aec6a4c6667f4fad68', '71d735443f00918ed82c069a15c7a367', '720b0e030bcb0f22304f8335a17aa029', '820933682d7387692af2d99234895454', '956f6fa275aa15f529b8c0217e069c4c', 'e328ffcaa9a28fb43c2e965b3bc4e91c', 'e91b8d973966a92243063dd4ca5acbb6', '53e16c017b8ebbbf18d44b962d5d75d5', 'fe54988996bebbc96d705d8ff5c97493', 'f5faf12cb5117383932f6d14c8a6890f', '0a0d4e6cfc61f8c6e6b7604245b10e7f', '3d19c42052d4ece2a3cfb73e1d152646', 'b0a4fdcb701cc48c31f6f826c46ac3fc', 'd0e8ee301acb21a2aa73837e6e0ea7bd', 'f1f6957a0e9ca2fa32eb6b09dbe5896d', 'f38a367e511ea6475c690e95dee4fd74', 'f6ab593104afecc084198c65422e8738', 'cfff48a293095ffbf1929f20aa9e8ff3', 'f14df0d06c26fe54025fd52e848c865f', 'aac9aa6be4a6ba88f60c704e12d47262', '245d2ff1e0e7c10b45daab01ad06e158', '361d74a2be717aee73df4ac071b12f33', '9ca15ca8c1777e48dfc8dd0a4f9fcf9e', '2af6549dbcf8359b7079e5ac15d7c635', '9304a22d9c9b7211629714a92ef29ed0', '30ee733b08875a6c12ada7d5abbfcb20', 'd6ba26086e47758edfbb465bd7b44957', 'dc22de6647e296afac8bff9f752c596d', '6666917888a20f8e2fc97b4904638745', 'c5068d535405ea068700f9128b7724a2', '1cf2731050ad9fa52f9b1eb78cdadc7f', '36f6d85350d62b4cc5e1bcb781aac5c1', 'a6879cbda4465e440681bc879a1b3282', 'd454eaae15f6742ecff9d4d9cf983fca', 'b757863ab83f6fd83db554571ad36a03', 'e7cc4a40bda2098ddbb6d786d248edcb', 'b4f28090a2fcdb671c8b9e808de29299', 'be37a5f6dbd35c2af75232db28dcc657', '2fdc57d41ec9554de09c9715b40cbe08', '12c5b6c8c1325e020ed9e4236f759282', 'd3a310ceb8c81b25c0a3067da4862f74', '8544c7d4475f054304342c699ea554d4', '0b70e04146a4e6ae16f186db6875c9a5', '79d7075d15ce62473ef2c103420e96c9', 'e366c5f73356ae19e78c0ee6db6d12ea', '65928ac0338024d7b9fdd61d13dc1f61', 'aea457c0b3539c08f0c326cfdb2cbf4e', 'e1f5fdc6f19e043d0fec36dc1696b0be', 'a15fc19d54103467ddd5030f5fa43b43', '0a431f6b186b93ab2f47dec13b9d7c12', '08ba3ec3baccf4405b3040f497d5ca35', '38805953731b80b8dd737569b7f98200', '9bf2993c50a52642eda4c379e982f7f3', 'e4515c351ca312fa0a95c9814fddfc31', '1dc7164f74aedc7ed5050c26df517798', '387fd68e417b277740e5a78cf84b7a3e', '478ebd653d222ddf571b7f48086db5d7', 'e5039766191a390d9e299872745ad30c']\n"
     ]
    }
   ],
   "source": [
    "wb_outliers_df = pred_df[np.abs(stats.zscore(pred_df.Whole_Brain)) > 3.5]\n",
    "outliers_ids = list(wb_outliers_df.newID)\n",
    "\n",
    "\n",
    "corr_sids_ls = [inv_id_map[id] for id in outliers_ids]\n",
    "dcm_dirs = {sid:os.path.normpath(dir_dic[sid]) for sid in corr_sids_ls}\n",
    "outliers_sids = [inv_id_map[id] for id in outliers_ids]\n",
    "print(outliers_ids)\n",
    "print(outliers_sids)"
   ]
  },
  {
   "cell_type": "code",
   "execution_count": 22,
   "metadata": {},
   "outputs": [],
   "source": [
    "failed_seg_paths = [(join(pred_dir, id+'_1mm.nii.gz'), join(pred_dir, id+'_1mm_seg.nii.gz')) for id in outliers_ids]\n",
    "with open(join(data_long_dir, \"failed_seg.pkl\"), 'wb') as f:\n",
    "    pickle.dump(failed_seg_paths, f)"
   ]
  },
  {
   "cell_type": "code",
   "execution_count": 23,
   "metadata": {},
   "outputs": [
    {
     "ename": "NameError",
     "evalue": "name 'stroke_ls' is not defined",
     "output_type": "error",
     "traceback": [
      "\u001b[1;31m---------------------------------------------------------------------------\u001b[0m",
      "\u001b[1;31mNameError\u001b[0m                                 Traceback (most recent call last)",
      "\u001b[1;32m~\\AppData\\Local\\Temp/ipykernel_17104/3958114703.py\u001b[0m in \u001b[0;36m<module>\u001b[1;34m\u001b[0m\n\u001b[1;32m----> 1\u001b[1;33m \u001b[0mwb_outliers_stroke_df\u001b[0m \u001b[1;33m=\u001b[0m \u001b[0mwb_outliers_df\u001b[0m\u001b[1;33m[\u001b[0m\u001b[0mwb_outliers_df\u001b[0m\u001b[1;33m.\u001b[0m\u001b[0mSeriesInstanceUID\u001b[0m\u001b[1;33m.\u001b[0m\u001b[0misin\u001b[0m\u001b[1;33m(\u001b[0m\u001b[0mstroke_ls\u001b[0m\u001b[1;33m)\u001b[0m\u001b[1;33m]\u001b[0m\u001b[1;33m\u001b[0m\u001b[1;33m\u001b[0m\u001b[0m\n\u001b[0m\u001b[0;32m      2\u001b[0m \u001b[0mwb_outliers_stroke_df\u001b[0m\u001b[1;33m\u001b[0m\u001b[1;33m\u001b[0m\u001b[0m\n",
      "\u001b[1;31mNameError\u001b[0m: name 'stroke_ls' is not defined"
     ]
    }
   ],
   "source": [
    "wb_outliers_stroke_df = wb_outliers_df[wb_outliers_df.SeriesInstanceUID.isin(stroke_ls)]\n",
    "wb_outliers_stroke_df"
   ]
  }
 ],
 "metadata": {
  "interpreter": {
   "hash": "b0a4e7c53876702b4a89fa263be312625f90a32415c93db3923bd26fa82850c2"
  },
  "kernelspec": {
   "display_name": "Python 3 (ipykernel)",
   "language": "python",
   "name": "python3"
  },
  "language_info": {
   "codemirror_mode": {
    "name": "ipython",
    "version": 3
   },
   "file_extension": ".py",
   "mimetype": "text/x-python",
   "name": "python",
   "nbconvert_exporter": "python",
   "pygments_lexer": "ipython3",
   "version": "3.7.11"
  }
 },
 "nbformat": 4,
 "nbformat_minor": 2
}
