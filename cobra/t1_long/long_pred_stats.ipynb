{
 "cells": [
  {
   "cell_type": "code",
   "execution_count": 155,
   "metadata": {},
   "outputs": [],
   "source": [
    "import sys\n",
    "import os\n",
    "from os.path import split, join\n",
    "base_dir = split(os.getcwd())[0]\n",
    "if base_dir not in sys.path:\n",
    "    sys.path.append(base_dir)\n",
    "from utilities.basic import list_subdir\n",
    "from utilities import utils\n",
    "import matplotlib.pyplot as plt\n",
    "import numpy as np\n",
    "import pandas as pd\n",
    "import seaborn as sns\n",
    "from scipy import stats\n",
    "import pickle\n",
    "import json"
   ]
  },
  {
   "cell_type": "code",
   "execution_count": 156,
   "metadata": {},
   "outputs": [
    {
     "name": "stderr",
     "output_type": "stream",
     "text": [
      "C:\\Users\\kiril\\.conda\\envs\\cobra\\lib\\site-packages\\ipykernel_launcher.py:7: DtypeWarning: Columns (5) have mixed types.Specify dtype option on import or set low_memory=False.\n",
      "  import sys\n"
     ]
    }
   ],
   "source": [
    "data_dir = join(base_dir, 'data')\n",
    "tables_dir = join(data_dir, 'tables')\n",
    "data_long_dir = join(data_dir, 't1_longitudinal')\n",
    "disk_dir = \"F:\\\\\"\n",
    "br_df = pd.read_csv(join(disk_dir,\"CoBra\\\\Data\\\\volume_longitudinal_nii\\\\Brain_Regions.csv\"))\n",
    "pred_dir = join(disk_dir, \"CoBra\\\\Data\\\\volume_longitudinal_nii\\\\prediction\")\n",
    "df_pat = utils.load_scan_csv(join(tables_dir, 'neg_pos_clean.csv'))\n",
    "pred_df = pd.read_feather(join(data_long_dir, 'results', 'volume_prediction_results.feather'))\n",
    "with open(join(data_long_dir, \"sids_long_new.pkl\"), 'rb') as f:\n",
    "    long_sids_ls = pickle.load(f)\n",
    "with open(join(data_long_dir, \"sids_long_stroke.pkl\"), 'rb') as f:\n",
    "    stroke_sids_ls = pickle.load(f)\n",
    "with open(join(tables_dir, 'newIDs_dic.pkl'), 'rb') as f:\n",
    "    id_dic = pickle.load(f)\n",
    "with open(join(data_long_dir, \"sids_long_new.pkl\"), 'rb') as f:\n",
    "    sids_ls = pickle.load(f)\n",
    "with open(join(tables_dir, \"disk_series_directories.json\"), 'rb') as f:\n",
    "    dir_dic = json.load(f)\n",
    "inv_id_map = {v: k for k, v in id_dic.items()}\n",
    "#dcm_dirs = {newid:os.path.normpath(dir_dic[inv_id_map[newid]]) for newid in newids}\n",
    "\n",
    "df = pred_df[pred_df.SeriesInstanceUID.isin(long_sids_ls)]\n",
    "corrected_outliers = ['109983', '047205', '083072', '109644', '287546', '258402',\n",
    "                '258387', '258391', '258394','258397','258402', '258403']\n",
    "rerun_conversion_files = ['109983', '047205', '083072', '109644', '287546',]"
   ]
  },
  {
   "cell_type": "code",
   "execution_count": 205,
   "metadata": {},
   "outputs": [
    {
     "data": {
      "text/plain": [
       "2854"
      ]
     },
     "execution_count": 205,
     "metadata": {},
     "output_type": "execute_result"
    }
   ],
   "source": [
    "len(long_sids_ls)"
   ]
  },
  {
   "cell_type": "code",
   "execution_count": 26,
   "metadata": {},
   "outputs": [],
   "source": [
    "# pred_df = pred_df[~pred_df.newID.isin(corrected_outliers)]\n",
    "# pred_df = pred_df.reset_index(drop=True)\n",
    "# pred_df.to_feather(join(data_long_dir,'results', 'volume_prediction_results.feather'))"
   ]
  },
  {
   "cell_type": "markdown",
   "metadata": {},
   "source": [
    "## Segmented brain regions"
   ]
  },
  {
   "cell_type": "markdown",
   "metadata": {},
   "source": [
    "## Whole brain volume dist"
   ]
  },
  {
   "cell_type": "code",
   "execution_count": 186,
   "metadata": {},
   "outputs": [
    {
     "data": {
      "image/png": "[encoded data removed]",
      "text/plain": [
       "<Figure size 432x288 with 1 Axes>"
      ]
     },
     "metadata": {},
     "output_type": "display_data"
    }
   ],
   "source": [
    "plt.style.use('ggplot')\n",
    "fig, ax = plt.subplots()\n",
    "_,bins = np.histogram(df.Whole_Brain, bins=100, range=(0,1.75e6))\n",
    "sns.histplot(df.Whole_Brain, ax=ax, bins=bins)\n",
    "sns.histplot(df[np.abs(stats.zscore(df.Whole_Brain)) > 3].Whole_Brain,bins=bins, ax=ax, color='orange')\n",
    "fig.savefig(join(data_long_dir, 'results', \"whole_brain_dist.png\"), dpi=200)"
   ]
  },
  {
   "cell_type": "code",
   "execution_count": 168,
   "metadata": {},
   "outputs": [
    {
     "data": {
      "text/plain": [
       "<AxesSubplot:ylabel='Whole_Brain'>"
      ]
     },
     "execution_count": 168,
     "metadata": {},
     "output_type": "execute_result"
    },
    {
     "data": {
      "image/png": "[encoded data removed]",
      "text/plain": [
       "<Figure size 432x288 with 2 Axes>"
      ]
     },
     "metadata": {
      "needs_background": "light"
     },
     "output_type": "display_data"
    }
   ],
   "source": [
    "fig, ax = plt.subplots(1,2)\n",
    "sns.boxplot(data = df, y='Whole_Brain', ax=ax[0])\n",
    "sns.boxplot(data = df[np.abs(stats.zscore(df.Whole_Brain)) < 3], y='Whole_Brain', ax=ax[1])"
   ]
  },
  {
   "cell_type": "markdown",
   "metadata": {},
   "source": [
    "## Outliers"
   ]
  },
  {
   "cell_type": "code",
   "execution_count": 123,
   "metadata": {},
   "outputs": [
    {
     "name": "stdout",
     "output_type": "stream",
     "text": [
      "105\n"
     ]
    }
   ],
   "source": [
    "wb_outliers_df = pred_df[np.abs(stats.zscore(pred_df.Whole_Brain)) > 3]\n",
    "outliers_ids = list(wb_outliers_df.newID)\n",
    "\n",
    "\n",
    "corr_sids_ls = [inv_id_map[id] for id in outliers_ids]\n",
    "dcm_dirs = {sid:os.path.normpath(dir_dic[sid]) for sid in corr_sids_ls}\n",
    "outliers_sids = [inv_id_map[id] for id in outliers_ids]\n",
    "print(len(outliers_ids))\n",
    "#print(outliers_sids)"
   ]
  },
  {
   "cell_type": "code",
   "execution_count": 22,
   "metadata": {},
   "outputs": [],
   "source": [
    "failed_seg_paths = [(join(pred_dir, id+'_1mm.nii.gz'), join(pred_dir, id+'_1mm_seg.nii.gz')) for id in outliers_ids]\n",
    "with open(join(data_long_dir, \"failed_seg.pkl\"), 'wb') as f:\n",
    "    pickle.dump(failed_seg_paths, f)"
   ]
  },
  {
   "cell_type": "markdown",
   "metadata": {},
   "source": [
    "## Brain regions of interest"
   ]
  },
  {
   "cell_type": "code",
   "execution_count": 191,
   "metadata": {},
   "outputs": [
    {
     "data": {
      "text/plain": [
       "[]"
      ]
     },
     "execution_count": 191,
     "metadata": {},
     "output_type": "execute_result"
    }
   ],
   "source": [
    "get_br_ls('Ope')"
   ]
  },
  {
   "cell_type": "code",
   "execution_count": 199,
   "metadata": {},
   "outputs": [],
   "source": [
    "br_ls = list(df.keys())\n",
    "br_ls.remove('newID')\n",
    "br_ls.remove('SeriesInstanceUID')\n",
    "def get_br_ls(key=''):\n",
    "    if not(isinstance(key, list)):\n",
    "        ls = [f for f in br_ls if key in f]\n",
    "        return ls\n",
    "    else:\n",
    "        ls = [f for f in br_ls if key[0] in f]\n",
    "        for k in key:\n",
    "            ls = [f for f in ls if k in f]\n",
    "        return ls"
   ]
  },
  {
   "cell_type": "code",
   "execution_count": 200,
   "metadata": {},
   "outputs": [
    {
     "data": {
      "text/plain": [
       "['Right_Central_Operculum',\n",
       " 'Right_Frontal_Operculum',\n",
       " 'Right_Opercular_Inferior_Frontal_Gyrus',\n",
       " 'Right_Parietal_Operculum',\n",
       " 'Left_Central_Operculum',\n",
       " 'Left_Frontal_Operculum',\n",
       " 'Left_Opercular_Inferior_Frontal_Gyrus',\n",
       " 'Left_Parietal_Operculum']"
      ]
     },
     "execution_count": 200,
     "metadata": {},
     "output_type": "execute_result"
    }
   ],
   "source": [
    "get_br_ls('Op')"
   ]
  },
  {
   "cell_type": "code",
   "execution_count": 201,
   "metadata": {},
   "outputs": [],
   "source": [
    "affected_br_dic = {\n",
    "    'left rolandic operculum':get_br_ls('Op'),\n",
    "    'olfactory bulb':[], \n",
    "    'bilateral insulas':get_br_ls('Insu'),\n",
    "    'bilateral hipocampi':get_br_ls('Hip'),\n",
    "    'right cingulate gyrus':get_br_ls(['Cing', 'Right']),\n",
    "    'left heschls gyrus':get_br_ls(['Trans', 'Left']),\n",
    "    'parahippocampal gyrus':get_br_ls('Para'),\n",
    "    'anterior cingulate cortex':get_br_ls('Anterior_Cingulate'),\n",
    "    'temporal pole':get_br_ls('Temporal_Pole'),\n",
    "    'left orbitofrontal cortex':['Left_Posterior_Orbital_Gyrus', \n",
    "        'Left_Medial_Orbital_Gyrus','Left_Lateral_Orbital_Gyrus',\n",
    "        'Left_Anterior_Orbital_Gyrus']\n",
    "    }\n"
   ]
  },
  {
   "cell_type": "code",
   "execution_count": 204,
   "metadata": {},
   "outputs": [
    {
     "name": "stdout",
     "output_type": "stream",
     "text": [
      "['left rolandic operculum', 'olfactory bulb', 'bilateral insulas', 'bilateral hipocampi', 'right cingulate gyrus', 'left heschls gyrus', 'parahippocampal gyrus', 'anterior cingulate cortex', 'temporal pole', 'left orbitofrontal cortex']\n"
     ]
    }
   ],
   "source": [
    "print(list(affected_br_dic.keys()))"
   ]
  },
  {
   "cell_type": "markdown",
   "metadata": {},
   "source": [
    "### Check outliers for every brain region"
   ]
  },
  {
   "cell_type": "code",
   "execution_count": 148,
   "metadata": {},
   "outputs": [],
   "source": [
    "exclude_sids_ls = []\n",
    "for br_ls in affected_br_dic.values():\n",
    "    for br in br_ls:\n",
    "        exclude_sids_ls = exclude_sids_ls + df[np.abs(stats.zscore(df[br])) > 3].SeriesInstanceUID.to_list()"
   ]
  },
  {
   "cell_type": "code",
   "execution_count": 150,
   "metadata": {},
   "outputs": [],
   "source": [
    "exclude_sids_ls = list(set(exclude_sids_ls))"
   ]
  },
  {
   "cell_type": "code",
   "execution_count": 160,
   "metadata": {},
   "outputs": [],
   "source": [
    "with open(join(data_long_dir, \"outliers_affected_br.txt\"), 'w') as f:\n",
    "    for listitem in exclude_sids_ls:\n",
    "        f.write('%s\\n' % listitem)"
   ]
  },
  {
   "cell_type": "markdown",
   "metadata": {},
   "source": [
    "## How many patients are affected"
   ]
  },
  {
   "cell_type": "code",
   "execution_count": 158,
   "metadata": {},
   "outputs": [
    {
     "data": {
      "text/plain": [
       "153"
      ]
     },
     "execution_count": 158,
     "metadata": {},
     "output_type": "execute_result"
    }
   ],
   "source": [
    "df_pat[df_pat.SeriesInstanceUID.isin(exclude_sids_ls)].PatientID.nunique()"
   ]
  },
  {
   "cell_type": "code",
   "execution_count": 153,
   "metadata": {},
   "outputs": [],
   "source": [
    "with open(join(data_long_dir, \"outliers_affected_br.pkl\"), 'wb') as f:\n",
    "    pickle.dump(exclude_sids_ls, f)"
   ]
  }
 ],
 "metadata": {
  "interpreter": {
   "hash": "b0a4e7c53876702b4a89fa263be312625f90a32415c93db3923bd26fa82850c2"
  },
  "kernelspec": {
   "display_name": "Python 3 (ipykernel)",
   "language": "python",
   "name": "python3"
  },
  "language_info": {
   "codemirror_mode": {
    "name": "ipython",
    "version": 3
   },
   "file_extension": ".py",
   "mimetype": "text/x-python",
   "name": "python",
   "nbconvert_exporter": "python",
   "pygments_lexer": "ipython3",
   "version": "3.7.11"
  }
 },
 "nbformat": 4,
 "nbformat_minor": 2
}
