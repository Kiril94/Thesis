{
 "cells": [
  {
   "cell_type": "code",
   "execution_count": 15,
   "metadata": {},
   "outputs": [],
   "source": [
    "import sys\n",
    "import os\n",
    "from os.path import split, join\n",
    "base_dir = split(os.getcwd())[0]\n",
    "if base_dir not in sys.path:\n",
    "    sys.path.append(base_dir)\n",
    "from utilities.basic import list_subdir\n",
    "import matplotlib.pyplot as plt\n",
    "import numpy as np\n",
    "import pandas as pd\n",
    "import seaborn as sns\n",
    "from scipy import stats\n",
    "import pickle\n",
    "import json"
   ]
  },
  {
   "cell_type": "code",
   "execution_count": 13,
   "metadata": {},
   "outputs": [],
   "source": [
    "data_dir = join(base_dir, 'data')\n",
    "tables_dir = join(data_dir, 'tables')\n",
    "data_long_dir = join(data_dir, 't1_longitudinal')\n",
    "disk_dir = \"F:\\\\\"\n",
    "br_df = pd.read_csv(join(disk_dir,\"CoBra\\\\Data\\\\volume_longitudinal_nii\\\\Brain_Regions.csv\"))\n",
    "pred_dir = join(disk_dir, \"CoBra\\\\Data\\\\volume_longitudinal_nii\\\\prediction\")\n",
    "    \n",
    "pred_df = pd.read_feather(join(data_long_dir, 'results', 'volume_prediction_results.feather'))\n",
    "with open(join(data_long_dir, \"sids_long_new.pkl\"), 'rb') as f:\n",
    "    long_sids_ls = pickle.load(f)\n",
    "with open(join(data_long_dir, \"sids_long_stroke.pkl\"), 'rb') as f:\n",
    "    stroke_sids_ls = pickle.load(f)\n",
    "with open(join(tables_dir, 'newIDs_dic.pkl'), 'rb') as f:\n",
    "    id_dic = pickle.load(f)\n",
    "with open(join(data_long_dir, \"sids_long_new.pkl\"), 'rb') as f:\n",
    "    sids_ls = pickle.load(f)\n",
    "with open(join(tables_dir, \"disk_series_directories.json\"), 'rb') as f:\n",
    "    dir_dic = json.load(f)\n",
    "inv_id_map = {v: k for k, v in id_dic.items()}\n",
    "#dcm_dirs = {newid:os.path.normpath(dir_dic[inv_id_map[newid]]) for newid in newids}\n",
    "\n",
    "df = pred_df[pred_df.SeriesInstanceUID.isin(long_sids_ls)]"
   ]
  },
  {
   "cell_type": "markdown",
   "metadata": {},
   "source": [
    "## Segmented brain regions"
   ]
  },
  {
   "cell_type": "code",
   "execution_count": 4,
   "metadata": {},
   "outputs": [
    {
     "name": "stdout",
     "output_type": "stream",
     "text": [
      "['newID', 'SeriesInstanceUID', 'External_CSF', 'Third_Ventricle', 'Right_Inferior_Lateral_Ventricle', 'Right_Lateral_Ventricle', 'Left_Inferior_Lateral_Ventricle', 'Left_Lateral_Ventricle', 'Right_Accumbens_Area', 'Right_Caudate', 'Right_Putamen', 'Right_Pallidum', 'Right_Thalamus_Proper', 'Right_Ventral_DC', 'Right_Basal_Forebrain', 'Left_Accumbens_Area', 'Left_Caudate', 'Left_Putamen', 'Left_Pallidum', 'Left_Thalamus_Proper', 'Left_Ventral_DC', 'Left_Basal_Forebrain', 'Right_Amygdala', 'Right_Hippocampus', 'Right_Entorhinal_Area', 'Right_Fusiform_Gyrus', 'Right_Parahippocampal_Gyrus', 'Right_Inferior_Temporal_Gyrus', 'Right_Middle_Temporal_Gyrus', 'Right_Superior_Temporal_Gyrus', 'Right_Planum_Polare', 'Right_Planum_Temporale', 'Right_Transverse_Temporal_Gyrus', 'Right_Temporal_Pole', 'Right_Anterior_Cingulate_Gyrus', 'Right_Middle_Cingulate_Gyrus', 'Right_Posterior_Cingulate_Gyrus', 'Right_Anterior_Insula', 'Right_Posterior_Insula', 'Right_Anterior_Orbital_Gyrus', 'Right_Lateral_Orbital_Gyrus', 'Right_Medial_Orbital_Gyrus', 'Right_Posterior_Orbital_Gyrus', 'Right_Central_Operculum', 'Right_Frontal_Operculum', 'Right_Frontal_Pole', 'Right_Gyrus_Rectus', 'Right_Medial_Frontal_Cortex', 'Right_Medial_Superior_Frontal_Gyrus', 'Right_Subcallosal_Area', 'Right_Middle_Frontal_Gyrus', 'Right_Opercular_Inferior_Frontal_Gyrus', 'Right_Orbital_Inferior_Frontal_Gyrus', 'Right_Superior_Frontal_Gyrus', 'Right_Triangular_Inferior_Frontal_Gyrus', 'Right_Medial_Precentral_Gyrus', 'Right_Precentral_Gyrus', 'Right_Supplementary_Motor_Cortex', 'Right_Angular_Gyrus', 'Right_Parietal_Operculum', 'Right_Supramarginal_Gyrus', 'Right_Superior_Parietal_Lobule', 'Right_Medial_Postcentral_Gyrus', 'Right_Postcentral_Gyrus', 'Right_Precuneus', 'Right_Calcarine_Cortex', 'Right_Cuneus', 'Right_Lingual_Gyrus', 'Right_Occipital_Fusiform_Gyrus', 'Right_Inferior_Occipital_Gyrus', 'Right_Middle_Occipital_Gyrus', 'Right_Occipital_Pole', 'Right_Superior_Occipital_Gyrus', 'Left_Amygdala', 'Left_Hippocampus', 'Left_Entorhinal_Area', 'Left_Fusiform_Gyrus', 'Left_Parahippocampal_Gyrus', 'Left_Inferior_Temporal_Gyrus', 'Left_Middle_Temporal_Gyrus', 'Left_Superior_Temporal_Gyrus', 'Left_Planum_Polare', 'Left_Planum_Temporale', 'Left_Transverse_Temporal_Gyrus', 'Left_Temporal_Pole', 'Left_Anterior_Cingulate_Gyrus', 'Left_Middle_Cingulate_Gyrus', 'Left_Posterior_Cingulate_Gyrus', 'Left_Anterior_Insula', 'Left_Posterior_Insula', 'Left_Anterior_Orbital_Gyrus', 'Left_Lateral_Orbital_Gyrus', 'Left_Medial_Orbital_Gyrus', 'Left_Posterior_Orbital_Gyrus', 'Left_Central_Operculum', 'Left_Frontal_Operculum', 'Left_Frontal_Pole', 'Left_Gyrus_Rectus', 'Left_Medial_Frontal_Cortex', 'Left_Medial_Superior_Frontal_Gyrus', 'Left_Subcallosal_Area', 'Left_Middle_Frontal_Gyrus', 'Left_Opercular_Inferior_Frontal_Gyrus', 'Left_Orbital_Inferior_Frontal_Gyrus', 'Left_Superior_Frontal_Gyrus', 'Left_Triangular_Inferior_Frontal_Gyrus', 'Left_Medial_Precentral_Gyrus', 'Left_Precentral_Gyrus', 'Left_Supplementary_Motor_Cortex', 'Left_Angular_Gyrus', 'Left_Parietal_Operculum', 'Left_Supramarginal_Gyrus', 'Left_Superior_Parietal_Lobule', 'Left_Medial_Postcentral_Gyrus', 'Left_Postcentral_Gyrus', 'Left_Precuneus', 'Left_Calcarine_Cortex', 'Left_Cuneus', 'Left_Lingual_Gyrus', 'Left_Occipital_Fusiform_Gyrus', 'Left_Inferior_Occipital_Gyrus', 'Left_Middle_Occipital_Gyrus', 'Left_Occipital_Pole', 'Left_Superior_Occipital_Gyrus', 'Right_Cerebral_White_Matter', 'Left_Cerebral_White_Matter', 'Forth_Ventricle', 'Brain_Stem', 'Right_Cerebellum_Exterior', 'Right_Cerebellum_White_Matter', 'Left_Cerebellum_Exterior', 'Left_Cerebellum_White_Matter', 'Cerebellar_Vermal_Lobules_I_V', 'Cerebellar_Vermal_Lobules_VI_VII', 'Cerebellar_Vermal_Lobules_VIII_X', 'Background', 'Whole_Brain']\n"
     ]
    }
   ],
   "source": [
    "print(list(df.keys()))"
   ]
  },
  {
   "cell_type": "markdown",
   "metadata": {},
   "source": [
    "## Whole brain volume dist"
   ]
  },
  {
   "cell_type": "code",
   "execution_count": 4,
   "metadata": {},
   "outputs": [
    {
     "data": {
      "text/plain": [
       "<AxesSubplot:ylabel='Whole_Brain'>"
      ]
     },
     "execution_count": 4,
     "metadata": {},
     "output_type": "execute_result"
    },
    {
     "data": {
      "image/png": "[encoded data removed]",
      "text/plain": [
       "<Figure size 432x288 with 1 Axes>"
      ]
     },
     "metadata": {
      "needs_background": "light"
     },
     "output_type": "display_data"
    }
   ],
   "source": [
    "sns.boxplot(data = df, y='Whole_Brain')"
   ]
  },
  {
   "cell_type": "markdown",
   "metadata": {},
   "source": [
    "## Outliers"
   ]
  },
  {
   "cell_type": "code",
   "execution_count": 14,
   "metadata": {},
   "outputs": [
    {
     "name": "stdout",
     "output_type": "stream",
     "text": [
      "['003310', '008309', '009577', '023797', '023804', '028822', '034650', '036992', '039377', '039378', '039383', '039384', '039386', '039388', '039389', '039392', '039399', '039400', '046860', '050277', '052554', '069722', '076738', '076752', '078055', '078061', '078070', '078075', '078076', '078078', '078079', '078080', '078081', '083072', '093310', '096817', '109644', '109983', '110281', '117933', '130508', '134135', '134137', '134142', '139292', '139985', '139991', '139999', '141100', '141101', '141109', '148503', '148506', '152441', '152451', '152453', '156264', '156342', '157464', '159838', '162063', '165810', '166953', '166957', '177372', '193606', '195103', '195115', '196996', '197004', '213206', '213355', '213670', '217372', '217388', '226524', '236717', '241027', '241034', '241992', '250772', '251175', '253193', '253201', '253215', '258387', '258391', '258394', '258397', '258402', '258403', '259016', '259316', '268291', '269052', '276227', '276329', '279660', '284004', '284630', '285322', '285325', '285331', '287546', '295610', '297021', '301624', '301639', '301640', '304657', '306255', '314826', '325178', '326499', '326507']\n"
     ]
    }
   ],
   "source": [
    "wb_outliers_df = pred_df[np.abs(stats.zscore(pred_df.Whole_Brain)) > 3]\n",
    "outliers_ids = list(wb_outliers_df.newID)\n",
    "corr_sids_ls = [inv_id_map[id] for id in outliers_ids]\n",
    "dcm_dirs = {sid:os.path.normpath(dir_dic[sid]) for sid in corr_sids_ls}\n",
    "print(outliers_ids)"
   ]
  },
  {
   "cell_type": "code",
   "execution_count": null,
   "metadata": {},
   "outputs": [],
   "source": []
  },
  {
   "cell_type": "code",
   "execution_count": 10,
   "metadata": {},
   "outputs": [],
   "source": [
    "failed_seg_paths = [(join(pred_dir, id+'_1mm.nii.gz'), join(pred_dir, id+'_1mm_seg.nii.gz')) for id in outliers_ids]\n",
    "with open(join(data_long_dir, \"failed_seg.pkl\"), 'wb') as f:\n",
    "    pickle.dump(failed_seg_paths, f)"
   ]
  },
  {
   "cell_type": "code",
   "execution_count": null,
   "metadata": {},
   "outputs": [],
   "source": []
  },
  {
   "cell_type": "code",
   "execution_count": 7,
   "metadata": {},
   "outputs": [
    {
     "ename": "NameError",
     "evalue": "name 'wb_outliers_df' is not defined",
     "output_type": "error",
     "traceback": [
      "\u001b[1;31m---------------------------------------------------------------------------\u001b[0m",
      "\u001b[1;31mNameError\u001b[0m                                 Traceback (most recent call last)",
      "\u001b[1;32m~\\AppData\\Local\\Temp/ipykernel_29564/3958114703.py\u001b[0m in \u001b[0;36m<module>\u001b[1;34m\u001b[0m\n\u001b[1;32m----> 1\u001b[1;33m \u001b[0mwb_outliers_stroke_df\u001b[0m \u001b[1;33m=\u001b[0m \u001b[0mwb_outliers_df\u001b[0m\u001b[1;33m[\u001b[0m\u001b[0mwb_outliers_df\u001b[0m\u001b[1;33m.\u001b[0m\u001b[0mSeriesInstanceUID\u001b[0m\u001b[1;33m.\u001b[0m\u001b[0misin\u001b[0m\u001b[1;33m(\u001b[0m\u001b[0mstroke_ls\u001b[0m\u001b[1;33m)\u001b[0m\u001b[1;33m]\u001b[0m\u001b[1;33m\u001b[0m\u001b[1;33m\u001b[0m\u001b[0m\n\u001b[0m\u001b[0;32m      2\u001b[0m \u001b[0mwb_outliers_stroke_df\u001b[0m\u001b[1;33m\u001b[0m\u001b[1;33m\u001b[0m\u001b[0m\n",
      "\u001b[1;31mNameError\u001b[0m: name 'wb_outliers_df' is not defined"
     ]
    }
   ],
   "source": [
    "wb_outliers_stroke_df = wb_outliers_df[wb_outliers_df.SeriesInstanceUID.isin(stroke_ls)]\n",
    "wb_outliers_stroke_df"
   ]
  }
 ],
 "metadata": {
  "interpreter": {
   "hash": "b0a4e7c53876702b4a89fa263be312625f90a32415c93db3923bd26fa82850c2"
  },
  "kernelspec": {
   "display_name": "Python 3 (ipykernel)",
   "language": "python",
   "name": "python3"
  },
  "language_info": {
   "codemirror_mode": {
    "name": "ipython",
    "version": 3
   },
   "file_extension": ".py",
   "mimetype": "text/x-python",
   "name": "python",
   "nbconvert_exporter": "python",
   "pygments_lexer": "ipython3",
   "version": "3.7.11"
  }
 },
 "nbformat": 4,
 "nbformat_minor": 2
}
