{
 "cells": [
  {
   "cell_type": "code",
   "execution_count": 5,
   "metadata": {},
   "outputs": [],
   "source": [
    "import pandas as pd\n",
    "import pickle as pkl\n",
    "from os.path import split, join\n",
    "import os"
   ]
  },
  {
   "cell_type": "code",
   "execution_count": 21,
   "metadata": {},
   "outputs": [
    {
     "name": "stderr",
     "output_type": "stream",
     "text": [
      "c:\\Users\\kiril\\.conda\\envs\\cobra\\lib\\site-packages\\IPython\\core\\interactiveshell.py:3457: DtypeWarning: Columns (5,48) have mixed types.Specify dtype option on import or set low_memory=False.\n",
      "  exec(code_obj, self.user_global_ns, self.user_ns)\n"
     ]
    }
   ],
   "source": [
    "base_dir = split(os.getcwd())[0]\n",
    "data_dir = join(base_dir, 'data')\n",
    "table_dir = join(data_dir, 'tables')\n",
    "df_all = pd.read_csv(join(table_dir, 'scan_tables',\"scan_after_sq_pred.csv\"))"
   ]
  },
  {
   "cell_type": "code",
   "execution_count": 33,
   "metadata": {},
   "outputs": [],
   "source": [
    "df_flair = df_all[df_all['Sequence'] == 'flair'].reset_index(drop=True)\n",
    "df_flair = df_flair[~df_flair.SeriesDescription.isna()]"
   ]
  },
  {
   "cell_type": "code",
   "execution_count": 38,
   "metadata": {},
   "outputs": [],
   "source": [
    "df_flair = df_flair[~(df_flair.SeriesDescription.str.contains('Gd') | df_flair.SeriesDescription.str.contains('GD'))]"
   ]
  },
  {
   "cell_type": "code",
   "execution_count": 41,
   "metadata": {},
   "outputs": [],
   "source": [
    "with open(join(data_dir, 'flair', 'flair_sids.pkl'), 'wb') as f:\n",
    "    pkl.dump(df_flair.SeriesInstanceUID.tolist(), f)\n"
   ]
  }
 ],
 "metadata": {
  "kernelspec": {
   "display_name": "Python 3.7.11 ('cobra')",
   "language": "python",
   "name": "python3"
  },
  "language_info": {
   "codemirror_mode": {
    "name": "ipython",
    "version": 3
   },
   "file_extension": ".py",
   "mimetype": "text/x-python",
   "name": "python",
   "nbconvert_exporter": "python",
   "pygments_lexer": "ipython3",
   "version": "3.7.11"
  },
  "orig_nbformat": 4,
  "vscode": {
   "interpreter": {
    "hash": "8e7fd20fac0ee7966d14aaf31d560ddb89e4fee3c0c7314563846a42e8bbfe80"
   }
  }
 },
 "nbformat": 4,
 "nbformat_minor": 2
}
