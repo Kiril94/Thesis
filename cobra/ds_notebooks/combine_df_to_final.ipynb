{
 "cells": [
  {
   "cell_type": "code",
   "execution_count": 8,
   "metadata": {},
   "outputs": [],
   "source": [
    "from os.path import join, split\n",
    "import pandas as pd\n",
    "import os, sys\n",
    "base_dir = split(os.getcwd())[0]\n",
    "if base_dir not in sys.path:\n",
    "    sys.path.append(base_dir)\n",
    "import pickle\n",
    "from utilities import utils"
   ]
  },
  {
   "cell_type": "code",
   "execution_count": 92,
   "metadata": {},
   "outputs": [],
   "source": [
    "table_dir = join(base_dir, 'data','tables')"
   ]
  },
  {
   "cell_type": "code",
   "execution_count": 93,
   "metadata": {},
   "outputs": [
    {
     "name": "stderr",
     "output_type": "stream",
     "text": [
      "C:\\Users\\kiril\\.conda\\envs\\cobra\\lib\\site-packages\\ipykernel_launcher.py:3: DtypeWarning: Columns (5) have mixed types.Specify dtype option on import or set low_memory=False.\n",
      "  This is separate from the ipykernel package so we can avoid doing imports until\n",
      "C:\\Users\\kiril\\.conda\\envs\\cobra\\lib\\site-packages\\ipykernel_launcher.py:4: DtypeWarning: Columns (5) have mixed types.Specify dtype option on import or set low_memory=False.\n",
      "  after removing the cwd from sys.path.\n"
     ]
    }
   ],
   "source": [
    "with open(join(table_dir, 'sids_2019.pkl'), 'rb') as f:\n",
    "    sids_2019_ls = pickle.load(f)\n",
    "df_clean = utils.load_scan_csv(join(table_dir, 'neg_pos_clean.csv')).dropna(how='all')\n",
    "df_all = utils.load_scan_csv(join(table_dir, 'neg_pos.csv')).dropna(how='all')"
   ]
  },
  {
   "cell_type": "code",
   "execution_count": 94,
   "metadata": {},
   "outputs": [],
   "source": [
    "df_days_since_test = pd.read_csv(join(table_dir, 'days_since_test2.csv'))"
   ]
  },
  {
   "cell_type": "markdown",
   "metadata": {},
   "source": [
    "## Analyse some numbers"
   ]
  },
  {
   "cell_type": "code",
   "execution_count": 95,
   "metadata": {},
   "outputs": [
    {
     "name": "stdout",
     "output_type": "stream",
     "text": [
      "potential cases 339\n",
      "potential pos. scans 4177\n"
     ]
    }
   ],
   "source": [
    "pos_mask = df_days_since_test.days_since_test>-4\n",
    "pos_sids = df_days_since_test[pos_mask].SeriesInstanceUID\n",
    "print('potential cases',df_days_since_test[pos_mask].PatientID.nunique())\n",
    "print('potential pos. scans',len(df_days_since_test[pos_mask]))"
   ]
  },
  {
   "cell_type": "code",
   "execution_count": 96,
   "metadata": {},
   "outputs": [
    {
     "name": "stdout",
     "output_type": "stream",
     "text": [
      "positive tests\n"
     ]
    },
    {
     "data": {
      "text/plain": [
       "1020"
      ]
     },
     "execution_count": 96,
     "metadata": {},
     "output_type": "execute_result"
    }
   ],
   "source": [
    "print('positive tests')\n",
    "len(set(df_days_since_test.PatientID.unique()).intersection(set(df_all.PatientID.unique())))"
   ]
  },
  {
   "cell_type": "markdown",
   "metadata": {},
   "source": [
    "## Add positive tag"
   ]
  },
  {
   "cell_type": "code",
   "execution_count": 97,
   "metadata": {},
   "outputs": [],
   "source": [
    "pos_sids_mask = df_all.SeriesInstanceUID.isin(pos_sids)\n",
    "df_all['Positive'] = 0\n",
    "df_all.loc[pos_sids_mask, 'Positive'] = 1"
   ]
  },
  {
   "cell_type": "markdown",
   "metadata": {},
   "source": [
    "## Add 2019 tag to df_all"
   ]
  },
  {
   "cell_type": "code",
   "execution_count": 98,
   "metadata": {},
   "outputs": [],
   "source": [
    "df_all['2019'] = 0\n",
    "mask_2019 = df_all.SeriesInstanceUID.isin(sids_2019_ls)\n",
    "df_all.loc[mask_2019, '2019'] = 1"
   ]
  },
  {
   "cell_type": "markdown",
   "metadata": {},
   "source": [
    "## Drop obsolete columns"
   ]
  },
  {
   "cell_type": "code",
   "execution_count": 99,
   "metadata": {},
   "outputs": [],
   "source": [
    "df_all = df_all.drop(columns=['Sequence', 'TrueSequenceType'])"
   ]
  },
  {
   "cell_type": "markdown",
   "metadata": {},
   "source": [
    "## Compare keys, what is missing?"
   ]
  },
  {
   "cell_type": "code",
   "execution_count": 100,
   "metadata": {},
   "outputs": [
    {
     "name": "stdout",
     "output_type": "stream",
     "text": [
      "{'TrueSequenceType', 'ColumnSpacing', 'RowSpacing', 'DistanceBetweenSlices', 'Sequence', 'days_since_test', 'NumberOfSlices'}\n"
     ]
    }
   ],
   "source": [
    "print(set(df_clean.keys()).difference(set((df_all.keys()))))"
   ]
  },
  {
   "cell_type": "markdown",
   "metadata": {},
   "source": [
    "## Add RowSpacing and ColumnSpacing to df_all"
   ]
  },
  {
   "cell_type": "code",
   "execution_count": 101,
   "metadata": {},
   "outputs": [],
   "source": [
    "def extract_from_arr(arr, pos): \n",
    "    try:\n",
    "        return arr[pos] \n",
    "    except:\n",
    "        return None\n",
    "df_all['RowSpacing'] = df_all.PixelSpacing.map(lambda x: extract_from_arr(x, 0))\n",
    "df_all['ColumnSpacing'] = df_all.PixelSpacing.map(lambda x: extract_from_arr(x, 1))"
   ]
  },
  {
   "cell_type": "markdown",
   "metadata": {},
   "source": [
    "## Add DistanceBetweenSlices, NumberOfSlices and drop days_since_test, we can later compute it on CR"
   ]
  },
  {
   "cell_type": "code",
   "execution_count": 102,
   "metadata": {},
   "outputs": [],
   "source": [
    "df_final = pd.merge(df_all, \n",
    "    df_clean[['SeriesInstanceUID', 'DistanceBetweenSlices', 'NumberOfSlices', 'days_since_test']], \n",
    "    how='left', on='SeriesInstanceUID')"
   ]
  },
  {
   "cell_type": "code",
   "execution_count": 103,
   "metadata": {},
   "outputs": [],
   "source": [
    "df_final.to_pickle(f\"{table_dir}/scan_final.pkl\")"
   ]
  },
  {
   "cell_type": "code",
   "execution_count": 104,
   "metadata": {},
   "outputs": [],
   "source": [
    "df_final.to_csv(f\"{table_dir}/scan_final.csv\", index=False, header=True)"
   ]
  }
 ],
 "metadata": {
  "interpreter": {
   "hash": "b0a4e7c53876702b4a89fa263be312625f90a32415c93db3923bd26fa82850c2"
  },
  "kernelspec": {
   "display_name": "Python 3.7.11 ('cobra')",
   "language": "python",
   "name": "python3"
  },
  "language_info": {
   "codemirror_mode": {
    "name": "ipython",
    "version": 3
   },
   "file_extension": ".py",
   "mimetype": "text/x-python",
   "name": "python",
   "nbconvert_exporter": "python",
   "pygments_lexer": "ipython3",
   "version": "3.7.11"
  },
  "orig_nbformat": 4
 },
 "nbformat": 4,
 "nbformat_minor": 2
}
