{
 "cells": [
  {
   "cell_type": "code",
   "execution_count": 1,
   "metadata": {},
   "outputs": [],
   "source": [
    "import pandas as pd\n",
    "import pickle as pkl"
   ]
  },
  {
   "cell_type": "code",
   "execution_count": 21,
   "metadata": {},
   "outputs": [
    {
     "name": "stderr",
     "output_type": "stream",
     "text": [
      "c:\\Users\\fjn197\\Miniconda3\\envs\\cobra\\lib\\site-packages\\IPython\\core\\interactiveshell.py:3441: DtypeWarning: Columns (48) have mixed types.Specify dtype option on import or set low_memory=False.\n",
      "  exec(code_obj, self.user_global_ns, self.user_ns)\n"
     ]
    }
   ],
   "source": [
    "df  = pd.read_csv(\"C:\\\\Users\\\\fjn197\\\\PhD\\\\projects\\\\CoBra\\\\data\\\\scan_3dt1_clean.csv\",  ) #change encoding to latin1 if needed\n",
    "with open(\"C:\\\\Users\\\\fjn197\\\\PhD\\\\projects\\\\CoBra\\\\data\\\\newIDs_dic.pkl\", \"rb\") as f:\n",
    "    newIDs_dic = pkl.load(f)\n",
    "with open(\"C:\\\\Users\\\\fjn197\\\\PhD\\\\projects\\\\CoBra\\\\data\\\\segmented_long_sids_ls.pkl\", \"rb\") as f:\n",
    "    sids_ls = pkl.load(f)\n",
    "df['newID'] = df.SeriesInstanceUID.map(newIDs_dic)\n",
    "df = df[df.newID.isin(sids_ls)]"
   ]
  },
  {
   "cell_type": "code",
   "execution_count": 25,
   "metadata": {},
   "outputs": [],
   "source": [
    "df.to_csv(\"C:\\\\Users\\\\fjn197\\\\PhD\\\\projects\\\\CoBra\\\\data\\\\seg_qual_metadata_all.csv\", index=False)"
   ]
  },
  {
   "cell_type": "code",
   "execution_count": 24,
   "metadata": {},
   "outputs": [],
   "source": [
    "df[['SeriesInstanceUID', 'newID', 'PatientID', 'SeriesDescription']].to_csv(\"C:\\\\Users\\\\fjn197\\\\PhD\\\\projects\\\\CoBra\\\\data\\\\seg_qual_metadata_description.csv\", index=False)"
   ]
  }
 ],
 "metadata": {
  "kernelspec": {
   "display_name": "cobra",
   "language": "python",
   "name": "python3"
  },
  "language_info": {
   "codemirror_mode": {
    "name": "ipython",
    "version": 3
   },
   "file_extension": ".py",
   "mimetype": "text/x-python",
   "name": "python",
   "nbconvert_exporter": "python",
   "pygments_lexer": "ipython3",
   "version": "3.7.11"
  },
  "orig_nbformat": 4,
  "vscode": {
   "interpreter": {
    "hash": "0985def29b802290f890ecf8dd6bd935d15872d3cd3cf19342aec1d7da85581a"
   }
  }
 },
 "nbformat": 4,
 "nbformat_minor": 2
}
