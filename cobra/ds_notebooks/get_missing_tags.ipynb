{
 "cells": [
  {
   "cell_type": "code",
   "execution_count": 1,
   "metadata": {},
   "outputs": [],
   "source": [
    "import sys\n",
    "base_dir = \"D:/Thesis/Cobra/cobra/\"\n",
    "if base_dir not in sys.path:\n",
    "    sys.path.append(base_dir)\n",
    "from os.path import join\n",
    "import os\n",
    "import pandas as pd\n",
    "from utilities import utils\n",
    "from stats_tools import vis as svis\n",
    "import numpy as np\n",
    "import matplotlib.pyplot as plt\n",
    "%matplotlib inline\n",
    "plt.rcParams[\"figure.dpi\"] = 40\n",
    "plt.style.use('ggplot')\n",
    "import importlib\n",
    "importlib.reload(svis)\n",
    "from pydicom import dcmread"
   ]
  },
  {
   "cell_type": "code",
   "execution_count": 10,
   "metadata": {},
   "outputs": [
    {
     "name": "stderr",
     "output_type": "stream",
     "text": [
      "C:\\Users\\klein\\AppData\\Roaming\\Python\\Python37\\site-packages\\ipykernel_launcher.py:4: DtypeWarning: Columns (5) have mixed types.Specify dtype option on import or set low_memory=False.\n",
      "  after removing the cwd from sys.path.\n"
     ]
    }
   ],
   "source": [
    "sif_dir = 'Y:/'\n",
    "fig_dir = join(base_dir, 'figs')\n",
    "table_dir = join(base_dir, 'data/tables')\n",
    "dfc = utils.load_scan_csv(join(table_dir, 'neg_pos_clean.csv'))"
   ]
  },
  {
   "cell_type": "markdown",
   "metadata": {},
   "source": [
    "### Directories on sif"
   ]
  },
  {
   "cell_type": "code",
   "execution_count": 11,
   "metadata": {},
   "outputs": [],
   "source": [
    "df_sif_dir = utils.load_scan_csv(join(table_dir, 'series_directories.csv'))\n",
    "sif_dir_dic= pd.Series(df_sif_dir.Directory.values, index=df_sif_dir.SeriesInstanceUID).to_dict()"
   ]
  },
  {
   "cell_type": "markdown",
   "metadata": {},
   "source": [
    "## Get 3d T1 scan pairs"
   ]
  },
  {
   "cell_type": "code",
   "execution_count": 12,
   "metadata": {},
   "outputs": [
    {
     "name": "stdout",
     "output_type": "stream",
     "text": [
      "35594 14005\n",
      "1724\n",
      "8711\n"
     ]
    }
   ],
   "source": [
    "df_3dt1 = dfc[(dfc.Sequence=='t1') & (dfc.MRAcquisitionType=='3D') & (dfc.NumberOfSlices>=64)]\n",
    "print(len(df_3dt1), len(df_3dt1.PatientID.unique()))\n",
    "gb_pat_date = df_3dt1.groupby('PatientID').InstanceCreationDate.nunique()\n",
    "gb_masked = gb_pat_date[gb_pat_date>1]\n",
    "pat_scan_pairs = list(gb_masked.index)\n",
    "print(len(pat_scan_pairs))\n",
    "df_3dt1_pairs = df_3dt1[df_3dt1.PatientID.isin(pat_scan_pairs)]\n",
    "print(len(df_3dt1_pairs))"
   ]
  },
  {
   "cell_type": "code",
   "execution_count": null,
   "metadata": {},
   "outputs": [],
   "source": [
    "\n",
    "    n_slices = []\n",
    "    counter=0\n",
    "    df_pat_dirs = pd.read_csv(\n",
    "        \"D:\\Thesis\\Cobra\\cobra\\data\\\\tables\\patient_directories.csv\")\n",
    "    dic_pat_dis = pd.Series(\n",
    "    df_pat_dirs.Directory.values, index=df_pat_dirs.PatientID)\\\n",
    "        .to_dict()\n",
    "    for index, row in data_frame.iterrows():         \n",
    "        counter+=1\n",
    "        if counter%1000==0:\n",
    "            print(f'{counter} volumes written \\n')\n",
    "            print(dt.now())\n",
    "        patient_id = row['PatientID']\n",
    "        series_id = row['SeriesInstanceUID']\n",
    "        try:\n",
    "            vol_path = join(disk_path, 'Cobra', 'Data', 'dcm', \n",
    "                            dic_pat_dis[patient_id], series_id)\n",
    "            n_slices = len(os.listdir(vol_path))\n",
    "        except:\n",
    "            n_slices = find_n_slices(patient_id, row['StudyInstanceUID'],\n",
    "                                    series_id, sif_path)\n",
    "        with open(txt_file_path, mode=\"a+\") as f:\n",
    "            f.write(f\"{series_id}, {n_slices}\\n\")\n",
    "    print(f\"Number of scans written to {txt_file_path}: {counter}\")\n",
    "    return 0"
   ]
  },
  {
   "cell_type": "code",
   "execution_count": 43,
   "metadata": {},
   "outputs": [],
   "source": [
    "def save_missing_tags_to_txt(sids, txt_file_path, \n",
    "    key_list=['PercentSampling', \n",
    "    'PercentPhaseFieldOfView', \n",
    "    'PixelBandwidth',\n",
    "    'ReconstructionDiameter']):\n",
    "    \"\"\"Save missing tags to text.\"\"\"\n",
    "    table_dir = \"D:/Thesis/Cobra/cobra/data/tables\"\n",
    "    df_sif_dir = utils.load_scan_csv(join(table_dir, 'series_directories.csv'))\n",
    "    sif_dir_dic = pd.Series(df_sif_dir.Directory.values, index=df_sif_dir.SeriesInstanceUID).to_dict()\n",
    "    column_names = ['SeriesInstanceUID'] + key_list\n",
    "    column_names_str = \",\".join(column_names)\n",
    "    if not os.path.exists(txt_file_path):\n",
    "        with open(txt_file_path, mode=\"w\") as f:\n",
    "                f.write(f\"{column_names_str}\\n\")\n",
    "    for sid in sids:\n",
    "        series_dir = join(sif_dir, sif_dir_dic[sid])\n",
    "        dcm_name = os.listdir(series_dir)[0]\n",
    "        dcm = dcmread(join(series_dir, dcm_name))\n",
    "        save_list = [sid]\n",
    "        for k in key_list:\n",
    "            try:\n",
    "                val = str(dcm[k].value)\n",
    "            except:\n",
    "                val = str(None)\n",
    "            save_list.append(val)\n",
    "        save_string = \",\".join(save_list)\n",
    "        with open(txt_file_path, mode=\"a+\") as f:\n",
    "            f.write(f\"{save_string}\\n\")"
   ]
  },
  {
   "cell_type": "code",
   "execution_count": 42,
   "metadata": {},
   "outputs": [
    {
     "name": "stdout",
     "output_type": "stream",
     "text": [
      "96.0\n",
      "100.0\n",
      "150.0\n",
      "None\n",
      "['bb9ad2bee80b5e36f6c01fac294c19ae', '96.0', '100.0', '150.0', 'None']\n",
      "96.0\n",
      "100.0\n",
      "150.0\n",
      "None\n",
      "['c9820aaf0c5eb2140397b623f2ed9f9e', '96.0', '100.0', '150.0', 'None']\n"
     ]
    }
   ],
   "source": [
    "save_missing_tags_to_txt(df_3dt1_pairs.SeriesInstanceUID[:2], join(table_dir,'t1','missing_tags.txt'))"
   ]
  },
  {
   "cell_type": "code",
   "execution_count": 18,
   "metadata": {},
   "outputs": [],
   "source": [
    "\n",
    "mr_path = 'D:\\F\\\\test\\\\b91f4014288ed99919b6e6b1483ac8a4\\\\3809675063ea32c46697dd74c0b25455.dcm'\n",
    "dcm = dcmread(mr_path)"
   ]
  },
  {
   "cell_type": "code",
   "execution_count": 19,
   "metadata": {},
   "outputs": [
    {
     "data": {
      "text/plain": [
       "'256'"
      ]
     },
     "execution_count": 19,
     "metadata": {},
     "output_type": "execute_result"
    }
   ],
   "source": [
    "dcm[0x2005, 0x140F][0]['MRAcquisitionPhaseEncodingStepsInPlane'].value\n",
    "dcm[0x2005, 0x140F][0]['MRAcquisitionPhaseEncodingStepsOutOfPlane'].value\n",
    "dcm[0x2005, 0x140F][0]['AcquisitionContrast'].value\n",
    "dcm[0x2005, 0x140F][0]['PulseSequenceName'].value\n",
    "dcm['PercentSampling'].value\n",
    "dcm['PercentPhaseFieldOfView'].value\n",
    "dcm['PixelBandwidth'].value\n",
    "dcm['ReconstructionDiameter'].value\n",
    "dcm['NumberOfPhaseEncodingSteps'].value"
   ]
  }
 ],
 "metadata": {
  "interpreter": {
   "hash": "fd64557248a61079a8b01b27957eac8e3bd9d72e2f60908e3e6321fba2096ec7"
  },
  "kernelspec": {
   "display_name": "Python 3.7.11 64-bit ('cobra': conda)",
   "language": "python",
   "name": "python3"
  },
  "language_info": {
   "codemirror_mode": {
    "name": "ipython",
    "version": 3
   },
   "file_extension": ".py",
   "mimetype": "text/x-python",
   "name": "python",
   "nbconvert_exporter": "python",
   "pygments_lexer": "ipython3",
   "version": "3.7.11"
  },
  "orig_nbformat": 4
 },
 "nbformat": 4,
 "nbformat_minor": 2
}
