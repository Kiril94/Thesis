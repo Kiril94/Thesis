{
 "cells": [
  {
   "cell_type": "code",
   "execution_count": 58,
   "metadata": {},
   "outputs": [],
   "source": [
    "import sys\n",
    "base_dir = \"D:/Thesis/Cobra/cobra/\"\n",
    "if base_dir not in sys.path:\n",
    "    sys.path.append(base_dir)\n",
    "from os.path import join\n",
    "import os\n",
    "import pandas as pd\n",
    "from utilities import utils\n",
    "from stats_tools import vis as svis\n",
    "import numpy as np\n",
    "import matplotlib.pyplot as plt\n",
    "%matplotlib inline\n",
    "plt.rcParams[\"figure.dpi\"] = 40\n",
    "plt.style.use('ggplot')\n",
    "import importlib\n",
    "importlib.reload(utils)\n",
    "from pydicom import dcmread"
   ]
  },
  {
   "cell_type": "code",
   "execution_count": 10,
   "metadata": {},
   "outputs": [
    {
     "name": "stderr",
     "output_type": "stream",
     "text": [
      "C:\\Users\\klein\\AppData\\Roaming\\Python\\Python37\\site-packages\\ipykernel_launcher.py:4: DtypeWarning: Columns (5) have mixed types.Specify dtype option on import or set low_memory=False.\n",
      "  after removing the cwd from sys.path.\n"
     ]
    }
   ],
   "source": [
    "sif_dir = 'Y:/'\n",
    "fig_dir = join(base_dir, 'figs')\n",
    "table_dir = join(base_dir, 'data/tables')\n",
    "dfc = utils.load_scan_csv(join(table_dir, 'neg_pos_clean.csv'))"
   ]
  },
  {
   "cell_type": "markdown",
   "metadata": {},
   "source": [
    "### Directories on sif"
   ]
  },
  {
   "cell_type": "code",
   "execution_count": 11,
   "metadata": {},
   "outputs": [],
   "source": [
    "df_sif_dir = utils.load_scan_csv(join(table_dir, 'series_directories.csv'))\n",
    "sif_dir_dic= pd.Series(df_sif_dir.Directory.values, index=df_sif_dir.SeriesInstanceUID).to_dict()"
   ]
  },
  {
   "cell_type": "markdown",
   "metadata": {},
   "source": [
    "## Get 3d T1 scan pairs"
   ]
  },
  {
   "cell_type": "code",
   "execution_count": 52,
   "metadata": {},
   "outputs": [
    {
     "name": "stdout",
     "output_type": "stream",
     "text": [
      "35594 14005\n",
      "1724\n",
      "8711\n"
     ]
    }
   ],
   "source": [
    "df_3dt1 = dfc[(dfc.Sequence=='t1') & (dfc.MRAcquisitionType=='3D') & (dfc.NumberOfSlices>=64)]\n",
    "print(len(df_3dt1), len(df_3dt1.PatientID.unique()))\n",
    "gb_pat_date = df_3dt1.groupby('PatientID').InstanceCreationDate.nunique()\n",
    "gb_masked = gb_pat_date[gb_pat_date>1]\n",
    "pat_scan_pairs = list(gb_masked.index)\n",
    "print(len(pat_scan_pairs))\n",
    "df_3dt1_pairs = df_3dt1[df_3dt1.PatientID.isin(pat_scan_pairs)]\n",
    "print(len(df_3dt1_pairs))"
   ]
  },
  {
   "cell_type": "code",
   "execution_count": 57,
   "metadata": {},
   "outputs": [
    {
     "name": "stdout",
     "output_type": "stream",
     "text": [
      "Write missing values to D:/Thesis/Cobra/cobra/data/tables\\t1\\missing_tags_3dt1.txt\n",
      "0 volumes written \n",
      "\n",
      "2022-01-15 16:57:55.389033\n"
     ]
    },
    {
     "ename": "KeyboardInterrupt",
     "evalue": "",
     "output_type": "error",
     "traceback": [
      "\u001b[1;31m---------------------------------------------------------------------------\u001b[0m",
      "\u001b[1;31mKeyboardInterrupt\u001b[0m                         Traceback (most recent call last)",
      "\u001b[1;32m<ipython-input-57-ecdc47a26cd1>\u001b[0m in \u001b[0;36m<module>\u001b[1;34m\u001b[0m\n\u001b[0;32m      1\u001b[0m utils.save_missing_tags_to_txt(df_3dt1_pairs.SeriesInstanceUID, \n\u001b[0;32m      2\u001b[0m     \u001b[0mjoin\u001b[0m\u001b[1;33m(\u001b[0m\u001b[0mtable_dir\u001b[0m\u001b[1;33m,\u001b[0m\u001b[1;34m't1'\u001b[0m\u001b[1;33m,\u001b[0m\u001b[1;34m'missing_tags_3dt1.txt'\u001b[0m\u001b[1;33m)\u001b[0m\u001b[1;33m,\u001b[0m\u001b[1;33m\u001b[0m\u001b[1;33m\u001b[0m\u001b[0m\n\u001b[1;32m----> 3\u001b[1;33m     dicoms_base_dir='Y:/')\n\u001b[0m",
      "\u001b[1;32mD:/Thesis/Cobra/cobra\\utilities\\utils.py\u001b[0m in \u001b[0;36msave_missing_tags_to_txt\u001b[1;34m(sids, txt_file_path, key_list, dicoms_base_dir)\u001b[0m\n\u001b[0;32m    318\u001b[0m         \u001b[0mseries_dir\u001b[0m \u001b[1;33m=\u001b[0m \u001b[0mjoin\u001b[0m\u001b[1;33m(\u001b[0m\u001b[0mdicoms_base_dir\u001b[0m\u001b[1;33m,\u001b[0m \u001b[0msif_dir_dic\u001b[0m\u001b[1;33m[\u001b[0m\u001b[0msid\u001b[0m\u001b[1;33m]\u001b[0m\u001b[1;33m)\u001b[0m\u001b[1;33m\u001b[0m\u001b[1;33m\u001b[0m\u001b[0m\n\u001b[0;32m    319\u001b[0m         \u001b[0mdcm_name\u001b[0m \u001b[1;33m=\u001b[0m \u001b[0mos\u001b[0m\u001b[1;33m.\u001b[0m\u001b[0mlistdir\u001b[0m\u001b[1;33m(\u001b[0m\u001b[0mseries_dir\u001b[0m\u001b[1;33m)\u001b[0m\u001b[1;33m[\u001b[0m\u001b[1;36m0\u001b[0m\u001b[1;33m]\u001b[0m\u001b[1;33m\u001b[0m\u001b[1;33m\u001b[0m\u001b[0m\n\u001b[1;32m--> 320\u001b[1;33m         \u001b[0mdcm\u001b[0m \u001b[1;33m=\u001b[0m \u001b[0mdcmread\u001b[0m\u001b[1;33m(\u001b[0m\u001b[0mjoin\u001b[0m\u001b[1;33m(\u001b[0m\u001b[0mseries_dir\u001b[0m\u001b[1;33m,\u001b[0m \u001b[0mdcm_name\u001b[0m\u001b[1;33m)\u001b[0m\u001b[1;33m)\u001b[0m\u001b[1;33m\u001b[0m\u001b[1;33m\u001b[0m\u001b[0m\n\u001b[0m\u001b[0;32m    321\u001b[0m         \u001b[0msave_list\u001b[0m \u001b[1;33m=\u001b[0m \u001b[1;33m[\u001b[0m\u001b[0msid\u001b[0m\u001b[1;33m]\u001b[0m\u001b[1;33m\u001b[0m\u001b[1;33m\u001b[0m\u001b[0m\n\u001b[0;32m    322\u001b[0m         \u001b[1;32mfor\u001b[0m \u001b[0mk\u001b[0m \u001b[1;32min\u001b[0m \u001b[0mkey_list\u001b[0m\u001b[1;33m:\u001b[0m\u001b[1;33m\u001b[0m\u001b[1;33m\u001b[0m\u001b[0m\n",
      "\u001b[1;32mD:\\Programme\\Anaconda\\envs\\cobra\\lib\\site-packages\\pydicom\\filereader.py\u001b[0m in \u001b[0;36mdcmread\u001b[1;34m(fp, defer_size, stop_before_pixels, force, specific_tags)\u001b[0m\n\u001b[0;32m   1032\u001b[0m             \u001b[0mdefer_size\u001b[0m\u001b[1;33m=\u001b[0m\u001b[0msize_in_bytes\u001b[0m\u001b[1;33m(\u001b[0m\u001b[0mdefer_size\u001b[0m\u001b[1;33m)\u001b[0m\u001b[1;33m,\u001b[0m\u001b[1;33m\u001b[0m\u001b[1;33m\u001b[0m\u001b[0m\n\u001b[0;32m   1033\u001b[0m             \u001b[0mforce\u001b[0m\u001b[1;33m=\u001b[0m\u001b[0mforce\u001b[0m\u001b[1;33m,\u001b[0m\u001b[1;33m\u001b[0m\u001b[1;33m\u001b[0m\u001b[0m\n\u001b[1;32m-> 1034\u001b[1;33m             \u001b[0mspecific_tags\u001b[0m\u001b[1;33m=\u001b[0m\u001b[0mspecific_tags\u001b[0m\u001b[1;33m,\u001b[0m\u001b[1;33m\u001b[0m\u001b[1;33m\u001b[0m\u001b[0m\n\u001b[0m\u001b[0;32m   1035\u001b[0m         )\n\u001b[0;32m   1036\u001b[0m     \u001b[1;32mfinally\u001b[0m\u001b[1;33m:\u001b[0m\u001b[1;33m\u001b[0m\u001b[1;33m\u001b[0m\u001b[0m\n",
      "\u001b[1;32mD:\\Programme\\Anaconda\\envs\\cobra\\lib\\site-packages\\pydicom\\filereader.py\u001b[0m in \u001b[0;36mread_partial\u001b[1;34m(fileobj, stop_when, defer_size, force, specific_tags)\u001b[0m\n\u001b[0;32m    858\u001b[0m             \u001b[0mstop_when\u001b[0m\u001b[1;33m=\u001b[0m\u001b[0mstop_when\u001b[0m\u001b[1;33m,\u001b[0m\u001b[1;33m\u001b[0m\u001b[1;33m\u001b[0m\u001b[0m\n\u001b[0;32m    859\u001b[0m             \u001b[0mdefer_size\u001b[0m\u001b[1;33m=\u001b[0m\u001b[0mdefer_size\u001b[0m\u001b[1;33m,\u001b[0m\u001b[1;33m\u001b[0m\u001b[1;33m\u001b[0m\u001b[0m\n\u001b[1;32m--> 860\u001b[1;33m             \u001b[0mspecific_tags\u001b[0m\u001b[1;33m=\u001b[0m\u001b[0mspecific_tags\u001b[0m\u001b[1;33m,\u001b[0m\u001b[1;33m\u001b[0m\u001b[1;33m\u001b[0m\u001b[0m\n\u001b[0m\u001b[0;32m    861\u001b[0m         )\n\u001b[0;32m    862\u001b[0m     \u001b[1;32mexcept\u001b[0m \u001b[0mEOFError\u001b[0m\u001b[1;33m:\u001b[0m\u001b[1;33m\u001b[0m\u001b[1;33m\u001b[0m\u001b[0m\n",
      "\u001b[1;32mD:\\Programme\\Anaconda\\envs\\cobra\\lib\\site-packages\\pydicom\\filereader.py\u001b[0m in \u001b[0;36mread_dataset\u001b[1;34m(fp, is_implicit_VR, is_little_endian, bytelength, stop_when, defer_size, parent_encoding, specific_tags, at_top_level)\u001b[0m\n\u001b[0;32m    426\u001b[0m     \u001b[1;32mtry\u001b[0m\u001b[1;33m:\u001b[0m\u001b[1;33m\u001b[0m\u001b[1;33m\u001b[0m\u001b[0m\n\u001b[0;32m    427\u001b[0m         \u001b[1;32mwhile\u001b[0m \u001b[1;33m(\u001b[0m\u001b[0mbytelength\u001b[0m \u001b[1;32mis\u001b[0m \u001b[1;32mNone\u001b[0m\u001b[1;33m)\u001b[0m \u001b[1;32mor\u001b[0m \u001b[1;33m(\u001b[0m\u001b[0mfp\u001b[0m\u001b[1;33m.\u001b[0m\u001b[0mtell\u001b[0m\u001b[1;33m(\u001b[0m\u001b[1;33m)\u001b[0m \u001b[1;33m-\u001b[0m \u001b[0mfp_start\u001b[0m \u001b[1;33m<\u001b[0m \u001b[0mbytelength\u001b[0m\u001b[1;33m)\u001b[0m\u001b[1;33m:\u001b[0m\u001b[1;33m\u001b[0m\u001b[1;33m\u001b[0m\u001b[0m\n\u001b[1;32m--> 428\u001b[1;33m             \u001b[0mraw_data_element\u001b[0m \u001b[1;33m=\u001b[0m \u001b[0mnext\u001b[0m\u001b[1;33m(\u001b[0m\u001b[0mde_gen\u001b[0m\u001b[1;33m)\u001b[0m\u001b[1;33m\u001b[0m\u001b[1;33m\u001b[0m\u001b[0m\n\u001b[0m\u001b[0;32m    429\u001b[0m             \u001b[1;31m# Read data elements. Stop on some errors, but return what was read\u001b[0m\u001b[1;33m\u001b[0m\u001b[1;33m\u001b[0m\u001b[1;33m\u001b[0m\u001b[0m\n\u001b[0;32m    430\u001b[0m             \u001b[0mtag\u001b[0m \u001b[1;33m=\u001b[0m \u001b[0mraw_data_element\u001b[0m\u001b[1;33m.\u001b[0m\u001b[0mtag\u001b[0m\u001b[1;33m\u001b[0m\u001b[1;33m\u001b[0m\u001b[0m\n",
      "\u001b[1;32mD:\\Programme\\Anaconda\\envs\\cobra\\lib\\site-packages\\pydicom\\filereader.py\u001b[0m in \u001b[0;36mdata_element_generator\u001b[1;34m(fp, is_implicit_VR, is_little_endian, stop_when, defer_size, encoding, specific_tags)\u001b[0m\n\u001b[0;32m    275\u001b[0m                     \u001b[0mlogger_debug\u001b[0m\u001b[1;33m(\u001b[0m\u001b[1;34m\"Reading undefined length data element\"\u001b[0m\u001b[1;33m)\u001b[0m\u001b[1;33m\u001b[0m\u001b[1;33m\u001b[0m\u001b[0m\n\u001b[0;32m    276\u001b[0m                 value = read_undefined_length_value(\n\u001b[1;32m--> 277\u001b[1;33m                     \u001b[0mfp\u001b[0m\u001b[1;33m,\u001b[0m \u001b[0mis_little_endian\u001b[0m\u001b[1;33m,\u001b[0m \u001b[0mdelimiter\u001b[0m\u001b[1;33m,\u001b[0m \u001b[0mdefer_size\u001b[0m\u001b[1;33m\u001b[0m\u001b[1;33m\u001b[0m\u001b[0m\n\u001b[0m\u001b[0;32m    278\u001b[0m                 )\n\u001b[0;32m    279\u001b[0m \u001b[1;33m\u001b[0m\u001b[0m\n",
      "\u001b[1;32mD:\\Programme\\Anaconda\\envs\\cobra\\lib\\site-packages\\pydicom\\fileutil.py\u001b[0m in \u001b[0;36mread_undefined_length_value\u001b[1;34m(fp, is_little_endian, delimiter_tag, defer_size, read_size)\u001b[0m\n\u001b[0;32m    158\u001b[0m     \u001b[1;32mif\u001b[0m \u001b[0mdelimiter_tag\u001b[0m \u001b[1;33m==\u001b[0m \u001b[0mSequenceDelimiterTag\u001b[0m\u001b[1;33m:\u001b[0m\u001b[1;33m\u001b[0m\u001b[1;33m\u001b[0m\u001b[0m\n\u001b[0;32m    159\u001b[0m         was_value_found, value = _try_read_encapsulated_pixel_data(\n\u001b[1;32m--> 160\u001b[1;33m             \u001b[0mfp\u001b[0m\u001b[1;33m,\u001b[0m \u001b[0mis_little_endian\u001b[0m\u001b[1;33m,\u001b[0m \u001b[0mdefer_size\u001b[0m\u001b[1;33m\u001b[0m\u001b[1;33m\u001b[0m\u001b[0m\n\u001b[0m\u001b[0;32m    161\u001b[0m         )\n\u001b[0;32m    162\u001b[0m         \u001b[1;32mif\u001b[0m \u001b[0mwas_value_found\u001b[0m\u001b[1;33m:\u001b[0m\u001b[1;33m\u001b[0m\u001b[1;33m\u001b[0m\u001b[0m\n",
      "\u001b[1;32mD:\\Programme\\Anaconda\\envs\\cobra\\lib\\site-packages\\pydicom\\fileutil.py\u001b[0m in \u001b[0;36m_try_read_encapsulated_pixel_data\u001b[1;34m(fp, is_little_endian, defer_size)\u001b[0m\n\u001b[0;32m    261\u001b[0m     \u001b[0mbyte_count\u001b[0m \u001b[1;33m=\u001b[0m \u001b[1;36m0\u001b[0m\u001b[1;33m\u001b[0m\u001b[1;33m\u001b[0m\u001b[0m\n\u001b[0;32m    262\u001b[0m     \u001b[1;32mwhile\u001b[0m \u001b[1;32mTrue\u001b[0m\u001b[1;33m:\u001b[0m\u001b[1;33m\u001b[0m\u001b[1;33m\u001b[0m\u001b[0m\n\u001b[1;32m--> 263\u001b[1;33m         \u001b[0mtag_bytes\u001b[0m \u001b[1;33m=\u001b[0m \u001b[0mfp\u001b[0m\u001b[1;33m.\u001b[0m\u001b[0mread\u001b[0m\u001b[1;33m(\u001b[0m\u001b[1;36m4\u001b[0m\u001b[1;33m)\u001b[0m\u001b[1;33m\u001b[0m\u001b[1;33m\u001b[0m\u001b[0m\n\u001b[0m\u001b[0;32m    264\u001b[0m         \u001b[1;32mif\u001b[0m \u001b[0mlen\u001b[0m\u001b[1;33m(\u001b[0m\u001b[0mtag_bytes\u001b[0m\u001b[1;33m)\u001b[0m \u001b[1;33m<\u001b[0m \u001b[1;36m4\u001b[0m\u001b[1;33m:\u001b[0m\u001b[1;33m\u001b[0m\u001b[1;33m\u001b[0m\u001b[0m\n\u001b[0;32m    265\u001b[0m             \u001b[1;31m# End of file reached while scanning.\u001b[0m\u001b[1;33m\u001b[0m\u001b[1;33m\u001b[0m\u001b[1;33m\u001b[0m\u001b[0m\n",
      "\u001b[1;31mKeyboardInterrupt\u001b[0m: "
     ]
    }
   ],
   "source": [
    "utils.save_missing_tags_to_txt(df_3dt1_pairs.SeriesInstanceUID, \n",
    "    join(table_dir,'t1','missing_tags_3dt1.txt'),\n",
    "    dicoms_base_dir='Y:/')"
   ]
  },
  {
   "cell_type": "code",
   "execution_count": 53,
   "metadata": {},
   "outputs": [],
   "source": [
    "df = pd.read_csv(join(table_dir,'t1','missing_tags_3dt1.txt'))"
   ]
  },
  {
   "cell_type": "code",
   "execution_count": 18,
   "metadata": {},
   "outputs": [],
   "source": [
    "\n",
    "mr_path = 'D:\\F\\\\test\\\\b91f4014288ed99919b6e6b1483ac8a4\\\\3809675063ea32c46697dd74c0b25455.dcm'\n",
    "dcm = dcmread(mr_path)"
   ]
  },
  {
   "cell_type": "code",
   "execution_count": 19,
   "metadata": {},
   "outputs": [
    {
     "data": {
      "text/plain": [
       "'256'"
      ]
     },
     "execution_count": 19,
     "metadata": {},
     "output_type": "execute_result"
    }
   ],
   "source": [
    "dcm[0x2005, 0x140F][0]['MRAcquisitionPhaseEncodingStepsInPlane'].value\n",
    "dcm[0x2005, 0x140F][0]['MRAcquisitionPhaseEncodingStepsOutOfPlane'].value\n",
    "dcm[0x2005, 0x140F][0]['AcquisitionContrast'].value\n",
    "dcm[0x2005, 0x140F][0]['PulseSequenceName'].value\n",
    "dcm['PercentSampling'].value\n",
    "dcm['PercentPhaseFieldOfView'].value\n",
    "dcm['PixelBandwidth'].value\n",
    "dcm['ReconstructionDiameter'].value\n",
    "dcm['NumberOfPhaseEncodingSteps'].value"
   ]
  }
 ],
 "metadata": {
  "interpreter": {
   "hash": "fd64557248a61079a8b01b27957eac8e3bd9d72e2f60908e3e6321fba2096ec7"
  },
  "kernelspec": {
   "display_name": "Python 3.7.11 64-bit ('cobra': conda)",
   "language": "python",
   "name": "python3"
  },
  "language_info": {
   "codemirror_mode": {
    "name": "ipython",
    "version": 3
   },
   "file_extension": ".py",
   "mimetype": "text/x-python",
   "name": "python",
   "nbconvert_exporter": "python",
   "pygments_lexer": "ipython3",
   "version": "3.7.11"
  },
  "orig_nbformat": 4
 },
 "nbformat": 4,
 "nbformat_minor": 2
}
