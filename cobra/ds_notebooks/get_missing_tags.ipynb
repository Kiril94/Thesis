{
 "cells": [
  {
   "cell_type": "code",
   "execution_count": 1,
   "metadata": {},
   "outputs": [
    {
     "data": {
      "text/plain": [
       "<module 'stats_tools.vis' from 'D:/Thesis/Cobra/cobra\\\\stats_tools\\\\vis.py'>"
      ]
     },
     "execution_count": 1,
     "metadata": {},
     "output_type": "execute_result"
    }
   ],
   "source": [
    "import sys\n",
    "base_dir = \"D:/Thesis/Cobra/cobra/\"\n",
    "if base_dir not in sys.path:\n",
    "    sys.path.append(base_dir)\n",
    "from os.path import join\n",
    "import pandas as pd\n",
    "from utilities import utils\n",
    "from stats_tools import vis as svis\n",
    "import numpy as np\n",
    "import matplotlib.pyplot as plt\n",
    "%matplotlib inline\n",
    "plt.rcParams[\"figure.dpi\"] = 40\n",
    "plt.style.use('ggplot')\n",
    "import importlib\n",
    "importlib.reload(svis)"
   ]
  },
  {
   "cell_type": "code",
   "execution_count": 2,
   "metadata": {},
   "outputs": [
    {
     "name": "stderr",
     "output_type": "stream",
     "text": [
      "C:\\Users\\klein\\AppData\\Roaming\\Python\\Python37\\site-packages\\ipykernel_launcher.py:3: DtypeWarning: Columns (5) have mixed types.Specify dtype option on import or set low_memory=False.\n",
      "  This is separate from the ipykernel package so we can avoid doing imports until\n"
     ]
    }
   ],
   "source": [
    "fig_dir = join(base_dir, 'figs')\n",
    "table_dir = join(base_dir, 'data/tables')\n",
    "dfc = utils.load_scan_csv(join(table_dir, 'neg_pos_clean.csv'))"
   ]
  },
  {
   "cell_type": "markdown",
   "metadata": {},
   "source": [
    "## Get 3d T2 scan pairs, and collect number of slices for those"
   ]
  },
  {
   "cell_type": "code",
   "execution_count": 40,
   "metadata": {},
   "outputs": [
    {
     "name": "stdout",
     "output_type": "stream",
     "text": [
      "7063 5066\n",
      "213\n"
     ]
    }
   ],
   "source": [
    "df_3dt2 = dfc[(dfc.Sequence=='t2') & (dfc.MRAcquisitionType=='3D')]\n",
    "print(len(df_3dt2), len(df_3dt2.PatientID.unique()))\n",
    "gb_pat_date = df_3dt2.groupby('PatientID').InstanceCreationDate.nunique()\n",
    "gb_masked = gb_pat_date[gb_pat_date>1]\n",
    "pat_scan_pairs = list(gb_masked.index)\n",
    "print(len(pat_scan_pairs))\n",
    "df_3dt2_pairs = df_3dt2[df_3dt2.PatientID.isin(pat_scan_pairs)]"
   ]
  },
  {
   "cell_type": "code",
   "execution_count": 41,
   "metadata": {},
   "outputs": [],
   "source": [
    "df_3dt2_pairs_neg = df_3dt2_pairs[df_3dt2_pairs.days_since_test.isna()]\n",
    "df_3dt2_pairs_nnan = df_3dt2_pairs[~df_3dt2_pairs.days_since_test.isna()]"
   ]
  },
  {
   "cell_type": "code",
   "execution_count": 45,
   "metadata": {},
   "outputs": [],
   "source": [
    "pat_before = df_3dt2_pairs_nnan[\n",
    "    df_3dt2_pairs_nnan.days_since_test<=(-30)].PatientID.unique()\n",
    "pat_post = df_3dt2_pairs_nnan[\n",
    "    df_3dt2_pairs_nnan.days_since_test>=(-3)].PatientID.unique()\n",
    "df_3dt2_pre_post = df_3dt2_pairs_nnan[\n",
    "    df_3dt2_pairs_nnan.PatientID.isin(set(pat_before).intersection(set(pat_post)))]"
   ]
  },
  {
   "cell_type": "code",
   "execution_count": 55,
   "metadata": {},
   "outputs": [
    {
     "name": "stdout",
     "output_type": "stream",
     "text": [
      "['42def8d23210b6885b6970854a21ede2' '6e004961c689d4227ef282ccf296c287'\n",
      " '11c0a36c5bbfef2b4bd93f631b11a3fc' 'd2743de6e50c912115e532f0194a0e5e']\n"
     ]
    },
    {
     "data": {
      "text/plain": [
       "4"
      ]
     },
     "execution_count": 55,
     "metadata": {},
     "output_type": "execute_result"
    }
   ],
   "source": [
    "print(df_3dt2_pre_post.PatientID.unique())\n",
    "df_3dt2_pre_post.PatientID.nunique()"
   ]
  },
  {
   "cell_type": "code",
   "execution_count": 110,
   "metadata": {},
   "outputs": [],
   "source": [
    "pat_3d_t1t2 = dfc[dfc.PatientID.isin(df_3dt2.PatientID.unique()) &\n",
    "     (dfc.Sequence=='t1') & (dfc.MRAcquisitionType=='3D')].PatientID.unique()\n",
    "df_3d_t1t2 = dfc[dfc.PatientID.isin(pat_3d_t1t2)& \\\n",
    "     ((dfc.Sequence=='t1') | (dfc.Sequence=='t2')) & \\\n",
    "          (dfc.MRAcquisitionType=='3D')]"
   ]
  },
  {
   "cell_type": "code",
   "execution_count": 111,
   "metadata": {},
   "outputs": [],
   "source": [
    "gb = df_3d_t1t2.groupby(['InstanceCreationDate','StudyInstanceUID']).Sequence.nunique()\n",
    "gb_pairs = gb[gb.values>=2]#\n",
    "studies_t1t2  = gb_pairs.index.get_level_values(1)\n",
    "df_3d_t1t2_paired = df_3d_t1t2[df_3d_t1t2.StudyInstanceUID.isin(studies_t1t2)]"
   ]
  },
  {
   "cell_type": "code",
   "execution_count": 107,
   "metadata": {},
   "outputs": [
    {
     "data": {
      "text/plain": [
       "0         t2\n",
       "1         t2\n",
       "2         t1\n",
       "4         t2\n",
       "5         t2\n",
       "          ..\n",
       "178452    t1\n",
       "178453    t2\n",
       "178456    t1\n",
       "178457    t1\n",
       "178458    t2\n",
       "Name: Sequence, Length: 30950, dtype: object"
      ]
     },
     "execution_count": 107,
     "metadata": {},
     "output_type": "execute_result"
    }
   ],
   "source": [
    "df_3d_t1t2_paired.Sequence"
   ]
  },
  {
   "cell_type": "code",
   "execution_count": 117,
   "metadata": {},
   "outputs": [
    {
     "name": "stdout",
     "output_type": "stream",
     "text": [
      "431 unique dates\n"
     ]
    }
   ],
   "source": [
    "print(df_3d_t1t2_paired.InstanceCreationDate.nunique(), 'unique dates')"
   ]
  },
  {
   "cell_type": "code",
   "execution_count": 119,
   "metadata": {},
   "outputs": [
    {
     "name": "stdout",
     "output_type": "stream",
     "text": [
      "4749 unique studies\n"
     ]
    }
   ],
   "source": [
    "print(df_3d_t1t2_paired.StudyInstanceUID.nunique(), 'unique studies')"
   ]
  },
  {
   "cell_type": "code",
   "execution_count": 122,
   "metadata": {},
   "outputs": [
    {
     "name": "stdout",
     "output_type": "stream",
     "text": [
      "12350 T1\n",
      "6375 T2\n"
     ]
    }
   ],
   "source": [
    "print(len(df_3d_t1t2_paired[df_3d_t1t2_paired.Sequence=='t1']), 'T1')\n",
    "print(len(df_3d_t1t2_paired[df_3d_t1t2_paired.Sequence=='t2']), 'T2')"
   ]
  },
  {
   "cell_type": "markdown",
   "metadata": {},
   "source": [
    "There are only 4 patients with 3dt2 scan pairs before and after test-->not worth doing domain adaptation"
   ]
  },
  {
   "cell_type": "code",
   "execution_count": 130,
   "metadata": {},
   "outputs": [
    {
     "data": {
      "text/html": [
       "<div>\n",
       "<style scoped>\n",
       "    .dataframe tbody tr th:only-of-type {\n",
       "        vertical-align: middle;\n",
       "    }\n",
       "\n",
       "    .dataframe tbody tr th {\n",
       "        vertical-align: top;\n",
       "    }\n",
       "\n",
       "    .dataframe thead th {\n",
       "        text-align: right;\n",
       "    }\n",
       "</style>\n",
       "<table border=\"1\" class=\"dataframe\">\n",
       "  <thead>\n",
       "    <tr style=\"text-align: right;\">\n",
       "      <th></th>\n",
       "      <th>PatientID</th>\n",
       "      <th>Rows</th>\n",
       "      <th>Columns</th>\n",
       "    </tr>\n",
       "  </thead>\n",
       "  <tbody>\n",
       "    <tr>\n",
       "      <th>171958</th>\n",
       "      <td>11c0a36c5bbfef2b4bd93f631b11a3fc</td>\n",
       "      <td>384.0</td>\n",
       "      <td>384.0</td>\n",
       "    </tr>\n",
       "    <tr>\n",
       "      <th>171959</th>\n",
       "      <td>11c0a36c5bbfef2b4bd93f631b11a3fc</td>\n",
       "      <td>384.0</td>\n",
       "      <td>384.0</td>\n",
       "    </tr>\n",
       "    <tr>\n",
       "      <th>48349</th>\n",
       "      <td>42def8d23210b6885b6970854a21ede2</td>\n",
       "      <td>320.0</td>\n",
       "      <td>320.0</td>\n",
       "    </tr>\n",
       "    <tr>\n",
       "      <th>173457</th>\n",
       "      <td>42def8d23210b6885b6970854a21ede2</td>\n",
       "      <td>320.0</td>\n",
       "      <td>320.0</td>\n",
       "    </tr>\n",
       "    <tr>\n",
       "      <th>136073</th>\n",
       "      <td>6e004961c689d4227ef282ccf296c287</td>\n",
       "      <td>512.0</td>\n",
       "      <td>512.0</td>\n",
       "    </tr>\n",
       "    <tr>\n",
       "      <th>136078</th>\n",
       "      <td>6e004961c689d4227ef282ccf296c287</td>\n",
       "      <td>512.0</td>\n",
       "      <td>512.0</td>\n",
       "    </tr>\n",
       "    <tr>\n",
       "      <th>136085</th>\n",
       "      <td>6e004961c689d4227ef282ccf296c287</td>\n",
       "      <td>512.0</td>\n",
       "      <td>512.0</td>\n",
       "    </tr>\n",
       "    <tr>\n",
       "      <th>174621</th>\n",
       "      <td>6e004961c689d4227ef282ccf296c287</td>\n",
       "      <td>512.0</td>\n",
       "      <td>512.0</td>\n",
       "    </tr>\n",
       "    <tr>\n",
       "      <th>174624</th>\n",
       "      <td>6e004961c689d4227ef282ccf296c287</td>\n",
       "      <td>512.0</td>\n",
       "      <td>512.0</td>\n",
       "    </tr>\n",
       "    <tr>\n",
       "      <th>174629</th>\n",
       "      <td>6e004961c689d4227ef282ccf296c287</td>\n",
       "      <td>512.0</td>\n",
       "      <td>512.0</td>\n",
       "    </tr>\n",
       "    <tr>\n",
       "      <th>177541</th>\n",
       "      <td>d2743de6e50c912115e532f0194a0e5e</td>\n",
       "      <td>512.0</td>\n",
       "      <td>512.0</td>\n",
       "    </tr>\n",
       "    <tr>\n",
       "      <th>177545</th>\n",
       "      <td>d2743de6e50c912115e532f0194a0e5e</td>\n",
       "      <td>384.0</td>\n",
       "      <td>384.0</td>\n",
       "    </tr>\n",
       "  </tbody>\n",
       "</table>\n",
       "</div>"
      ],
      "text/plain": [
       "                               PatientID   Rows  Columns\n",
       "171958  11c0a36c5bbfef2b4bd93f631b11a3fc  384.0    384.0\n",
       "171959  11c0a36c5bbfef2b4bd93f631b11a3fc  384.0    384.0\n",
       "48349   42def8d23210b6885b6970854a21ede2  320.0    320.0\n",
       "173457  42def8d23210b6885b6970854a21ede2  320.0    320.0\n",
       "136073  6e004961c689d4227ef282ccf296c287  512.0    512.0\n",
       "136078  6e004961c689d4227ef282ccf296c287  512.0    512.0\n",
       "136085  6e004961c689d4227ef282ccf296c287  512.0    512.0\n",
       "174621  6e004961c689d4227ef282ccf296c287  512.0    512.0\n",
       "174624  6e004961c689d4227ef282ccf296c287  512.0    512.0\n",
       "174629  6e004961c689d4227ef282ccf296c287  512.0    512.0\n",
       "177541  d2743de6e50c912115e532f0194a0e5e  512.0    512.0\n",
       "177545  d2743de6e50c912115e532f0194a0e5e  384.0    384.0"
      ]
     },
     "execution_count": 130,
     "metadata": {},
     "output_type": "execute_result"
    }
   ],
   "source": [
    "df_3dt2_pre_post.sort_values(by='PatientID')[['PatientID','Rows','Columns']]"
   ]
  },
  {
   "cell_type": "code",
   "execution_count": 126,
   "metadata": {},
   "outputs": [
    {
     "data": {
      "text/plain": [
       "array(['42def8d23210b6885b6970854a21ede2',\n",
       "       '6e004961c689d4227ef282ccf296c287',\n",
       "       '11c0a36c5bbfef2b4bd93f631b11a3fc',\n",
       "       'd2743de6e50c912115e532f0194a0e5e'], dtype=object)"
      ]
     },
     "execution_count": 126,
     "metadata": {},
     "output_type": "execute_result"
    }
   ],
   "source": [
    "df_3dt2_pre_post.PatientID.unique()"
   ]
  },
  {
   "cell_type": "code",
   "execution_count": 124,
   "metadata": {},
   "outputs": [
    {
     "data": {
      "text/plain": [
       "PatientID\n",
       "11c0a36c5bbfef2b4bd93f631b11a3fc    [-314.0, 43.0]\n",
       "42def8d23210b6885b6970854a21ede2    [-118.0, 15.0]\n",
       "6e004961c689d4227ef282ccf296c287    [-273.0, 70.0]\n",
       "d2743de6e50c912115e532f0194a0e5e     [-57.0, 13.0]\n",
       "Name: days_since_test, dtype: object"
      ]
     },
     "execution_count": 124,
     "metadata": {},
     "output_type": "execute_result"
    }
   ],
   "source": [
    "df_3dt2_pre_post.groupby('PatientID').days_since_test.unique()"
   ]
  },
  {
   "cell_type": "code",
   "execution_count": 112,
   "metadata": {},
   "outputs": [
    {
     "data": {
      "text/plain": [
       "747"
      ]
     },
     "execution_count": 112,
     "metadata": {},
     "output_type": "execute_result"
    }
   ],
   "source": [
    "len(df_3dt2_pairs)"
   ]
  }
 ],
 "metadata": {
  "interpreter": {
   "hash": "fd64557248a61079a8b01b27957eac8e3bd9d72e2f60908e3e6321fba2096ec7"
  },
  "kernelspec": {
   "display_name": "Python 3.7.11 64-bit ('cobra': conda)",
   "language": "python",
   "name": "python3"
  },
  "language_info": {
   "codemirror_mode": {
    "name": "ipython",
    "version": 3
   },
   "file_extension": ".py",
   "mimetype": "text/x-python",
   "name": "python",
   "nbconvert_exporter": "python",
   "pygments_lexer": "ipython3",
   "version": "3.7.11"
  },
  "orig_nbformat": 4
 },
 "nbformat": 4,
 "nbformat_minor": 2
}
