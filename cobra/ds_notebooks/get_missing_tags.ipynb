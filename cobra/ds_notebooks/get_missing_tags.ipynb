{
 "cells": [
  {
   "cell_type": "code",
   "execution_count": 7,
   "metadata": {},
   "outputs": [],
   "source": [
    "import sys\n",
    "base_dir = \"D:/Thesis/Cobra/cobra/\"\n",
    "if base_dir not in sys.path:\n",
    "    sys.path.append(base_dir)\n",
    "from os.path import join\n",
    "import os\n",
    "import pandas as pd\n",
    "from utilities import utils\n",
    "from stats_tools import vis as svis\n",
    "import numpy as np\n",
    "import matplotlib.pyplot as plt\n",
    "%matplotlib inline\n",
    "plt.rcParams[\"figure.dpi\"] = 40\n",
    "plt.style.use('ggplot')\n",
    "import importlib\n",
    "importlib.reload(utils)\n",
    "from pydicom import dcmread"
   ]
  },
  {
   "cell_type": "code",
   "execution_count": 2,
   "metadata": {},
   "outputs": [
    {
     "name": "stderr",
     "output_type": "stream",
     "text": [
      "C:\\Users\\klein\\AppData\\Roaming\\Python\\Python37\\site-packages\\ipykernel_launcher.py:4: DtypeWarning: Columns (5) have mixed types.Specify dtype option on import or set low_memory=False.\n",
      "  after removing the cwd from sys.path.\n"
     ]
    }
   ],
   "source": [
    "sif_dir = 'Y:/'\n",
    "fig_dir = join(base_dir, 'figs')\n",
    "table_dir = join(base_dir, 'data/tables')\n",
    "dfc = utils.load_scan_csv(join(table_dir, 'neg_pos_clean.csv'))"
   ]
  },
  {
   "cell_type": "markdown",
   "metadata": {},
   "source": [
    "### Directories on sif"
   ]
  },
  {
   "cell_type": "code",
   "execution_count": 3,
   "metadata": {},
   "outputs": [],
   "source": [
    "df_sif_dir = utils.load_scan_csv(join(table_dir, 'series_directories.csv'))\n",
    "sif_dir_dic= pd.Series(df_sif_dir.Directory.values, index=df_sif_dir.SeriesInstanceUID).to_dict()"
   ]
  },
  {
   "cell_type": "markdown",
   "metadata": {},
   "source": [
    "## Get 3d T1 scan pairs"
   ]
  },
  {
   "cell_type": "code",
   "execution_count": 4,
   "metadata": {},
   "outputs": [
    {
     "name": "stdout",
     "output_type": "stream",
     "text": [
      "35594 14005\n",
      "1724\n",
      "8711\n"
     ]
    }
   ],
   "source": [
    "df_3dt1 = dfc[(dfc.Sequence=='t1') & (dfc.MRAcquisitionType=='3D') & (dfc.NumberOfSlices>=64)]\n",
    "print(len(df_3dt1), len(df_3dt1.PatientID.unique()))\n",
    "gb_pat_date = df_3dt1.groupby('PatientID').InstanceCreationDate.nunique()\n",
    "gb_masked = gb_pat_date[gb_pat_date>1]\n",
    "pat_scan_pairs = list(gb_masked.index)\n",
    "print(len(pat_scan_pairs))\n",
    "df_3dt1_pairs = df_3dt1[df_3dt1.PatientID.isin(pat_scan_pairs)]\n",
    "print(len(df_3dt1_pairs))"
   ]
  },
  {
   "cell_type": "code",
   "execution_count": 9,
   "metadata": {},
   "outputs": [
    {
     "name": "stdout",
     "output_type": "stream",
     "text": [
      "Write missing values to D:/Thesis/Cobra/cobra/data/tables\\t1\\missing_tags_3dt1.txt\n",
      "200 volumes written\n",
      "2022-01-16 10:43:35.324598 \n",
      "\n"
     ]
    }
   ],
   "source": [
    "utils.save_missing_tags_to_txt(df_3dt1_pairs.SeriesInstanceUID, \n",
    "    join(table_dir,'t1','missing_tags_3dt1.txt'),\n",
    "    dicoms_base_dir='Y:/')"
   ]
  },
  {
   "cell_type": "code",
   "execution_count": 5,
   "metadata": {},
   "outputs": [],
   "source": [
    "df = pd.read_csv(join(table_dir,'t1','missing_tags_3dt1.txt'))"
   ]
  },
  {
   "cell_type": "code",
   "execution_count": 6,
   "metadata": {},
   "outputs": [
    {
     "data": {
      "text/plain": [
       "163"
      ]
     },
     "execution_count": 6,
     "metadata": {},
     "output_type": "execute_result"
    }
   ],
   "source": [
    "len(df)"
   ]
  },
  {
   "cell_type": "code",
   "execution_count": 18,
   "metadata": {},
   "outputs": [],
   "source": [
    "\n",
    "mr_path = 'D:\\F\\\\test\\\\b91f4014288ed99919b6e6b1483ac8a4\\\\3809675063ea32c46697dd74c0b25455.dcm'\n",
    "dcm = dcmread(mr_path)"
   ]
  },
  {
   "cell_type": "code",
   "execution_count": 19,
   "metadata": {},
   "outputs": [
    {
     "data": {
      "text/plain": [
       "'256'"
      ]
     },
     "execution_count": 19,
     "metadata": {},
     "output_type": "execute_result"
    }
   ],
   "source": [
    "dcm[0x2005, 0x140F][0]['MRAcquisitionPhaseEncodingStepsInPlane'].value\n",
    "dcm[0x2005, 0x140F][0]['MRAcquisitionPhaseEncodingStepsOutOfPlane'].value\n",
    "dcm[0x2005, 0x140F][0]['AcquisitionContrast'].value\n",
    "dcm[0x2005, 0x140F][0]['PulseSequenceName'].value\n",
    "dcm['PercentSampling'].value\n",
    "dcm['PercentPhaseFieldOfView'].value\n",
    "dcm['PixelBandwidth'].value\n",
    "dcm['ReconstructionDiameter'].value\n",
    "dcm['NumberOfPhaseEncodingSteps'].value"
   ]
  }
 ],
 "metadata": {
  "interpreter": {
   "hash": "fd64557248a61079a8b01b27957eac8e3bd9d72e2f60908e3e6321fba2096ec7"
  },
  "kernelspec": {
   "display_name": "Python 3.7.11 64-bit ('cobra': conda)",
   "language": "python",
   "name": "python3"
  },
  "language_info": {
   "codemirror_mode": {
    "name": "ipython",
    "version": 3
   },
   "file_extension": ".py",
   "mimetype": "text/x-python",
   "name": "python",
   "nbconvert_exporter": "python",
   "pygments_lexer": "ipython3",
   "version": "3.7.11"
  },
  "orig_nbformat": 4
 },
 "nbformat": 4,
 "nbformat_minor": 2
}
