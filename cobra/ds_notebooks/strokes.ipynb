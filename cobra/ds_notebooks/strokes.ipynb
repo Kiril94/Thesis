{
 "cells": [
  {
   "cell_type": "code",
   "execution_count": 8,
   "metadata": {},
   "outputs": [
    {
     "data": {
      "text/plain": [
       "<module 'stats_tools.vis' from 'c:\\\\Users\\\\kiril\\\\Thesis\\\\CoBra\\\\cobra\\\\stats_tools\\\\vis.py'>"
      ]
     },
     "execution_count": 8,
     "metadata": {},
     "output_type": "execute_result"
    }
   ],
   "source": [
    "import sys, os\n",
    "from os.path import split\n",
    "base_dir = split(os.getcwd())[0]\n",
    "if base_dir not in sys.path:\n",
    "    sys.path.append(base_dir)\n",
    "from os.path import join\n",
    "import pandas as pd\n",
    "from utilities import utils\n",
    "from stats_tools import vis as svis\n",
    "import numpy as np\n",
    "from access_sif_data import load_data_tools as ld\n",
    "\n",
    "import matplotlib.pyplot as plt\n",
    "from datetime import datetime as dt\n",
    "%matplotlib inline\n",
    "plt.rcParams[\"figure.dpi\"] = 40\n",
    "plt.style.use('ggplot')\n",
    "import json\n",
    "import importlib\n",
    "import pickle\n",
    "importlib.reload(svis)"
   ]
  },
  {
   "cell_type": "code",
   "execution_count": 12,
   "metadata": {},
   "outputs": [],
   "source": [
    "table_dir = join(base_dir, 'data/tables')\n",
    "# dfc = utils.load_scan_csv(join(table_dir, 'scan_tables','scan_after_sq_pred_dst.csv'))\n",
    "with open(join(table_dir, 'scan_tables','scan_after_sq_pred_dst_nos_date.pkl'), 'rb') as f:\n",
    "    dfc = pickle.load(f)\n",
    "with open(join(base_dir, 'data/patient_groups/stroke_pids.pkl'), 'rb') as f:\n",
    "    stroke_pids = pickle.load(f)\n",
    "\n",
    "with open(\"C:\\\\Users\\\\kiril\\\\Thesis\\\\CoBra\\\\cobra\\\\data\\\\tables\\\\disk_series_directories.json\", 'rb') as f:\n",
    "    sif_series_dirs = json.load(f)"
   ]
  },
  {
   "cell_type": "code",
   "execution_count": 15,
   "metadata": {},
   "outputs": [],
   "source": [
    "dwi_stroke_ls = dfc[dfc.PatientID.isin(stroke_pids) & (dfc.Sequence=='dwi')].SeriesInstanceUID.unique()"
   ]
  },
  {
   "cell_type": "code",
   "execution_count": 16,
   "metadata": {},
   "outputs": [],
   "source": [
    "dirs = []\n",
    "for sid in dwi_stroke_ls:\n",
    "    try:\n",
    "        dirs.append(sif_series_dirs[sid])\n",
    "    except:\n",
    "        pass"
   ]
  },
  {
   "cell_type": "code",
   "execution_count": 30,
   "metadata": {},
   "outputs": [
    {
     "name": "stdout",
     "output_type": "stream",
     "text": [
      "F:\\CoBra\\Data\\dcm\\2019_01\\c14c8bd2fec2ccd48cadab18b4676423\\53c28265529662071a632c67e22dd094\n"
     ]
    }
   ],
   "source": [
    "print(dirs[60])"
   ]
  }
 ],
 "metadata": {
  "interpreter": {
   "hash": "8e7fd20fac0ee7966d14aaf31d560ddb89e4fee3c0c7314563846a42e8bbfe80"
  },
  "kernelspec": {
   "display_name": "Python 3.7.11 ('cobra')",
   "language": "python",
   "name": "python3"
  },
  "language_info": {
   "codemirror_mode": {
    "name": "ipython",
    "version": 3
   },
   "file_extension": ".py",
   "mimetype": "text/x-python",
   "name": "python",
   "nbconvert_exporter": "python",
   "pygments_lexer": "ipython3",
   "version": "3.7.11"
  },
  "orig_nbformat": 4
 },
 "nbformat": 4,
 "nbformat_minor": 2
}
