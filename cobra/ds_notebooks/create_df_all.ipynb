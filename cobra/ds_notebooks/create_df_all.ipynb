{
 "cells": [
  {
   "cell_type": "code",
   "execution_count": 82,
   "metadata": {},
   "outputs": [],
   "source": [
    "from os.path import join\n",
    "import pandas as pd\n",
    "import sys\n",
    "import os\n",
    "from os.path import split\n",
    "base_dir = split(os.getcwd())[0]\n",
    "if base_dir not in sys.path:\n",
    "    sys.path.append(base_dir)\n",
    "from utilities import utils\n",
    "import importlib\n",
    "import numpy as np\n",
    "importlib.reload(utils)\n",
    "import pickle as pkl"
   ]
  },
  {
   "cell_type": "code",
   "execution_count": 15,
   "metadata": {},
   "outputs": [],
   "source": [
    "disk_dir = \"F:\\CoBra\\Data\"\n",
    "csv_folder = join(base_dir, 'data', 'tables')\n",
    "neg_tab_dirs = sorted([f\"{csv_folder}/{x}\" for x\n",
    "                       in os.listdir(csv_folder) \\\n",
    "                           if x.startswith('neg_') and len(x)==10])\n",
    "dst2 = pd.read_csv(join(csv_folder,'days_since_test2.csv'))"
   ]
  },
  {
   "cell_type": "markdown",
   "metadata": {},
   "source": [
    "### Keys to add"
   ]
  },
  {
   "cell_type": "code",
   "execution_count": 3,
   "metadata": {},
   "outputs": [
    {
     "name": "stderr",
     "output_type": "stream",
     "text": [
      "C:\\Users\\kiril\\.conda\\envs\\cobra\\lib\\site-packages\\IPython\\core\\interactiveshell.py:3457: DtypeWarning: Columns (4,5,48) have mixed types.Specify dtype option on import or set low_memory=False.\n",
      "  exec(code_obj, self.user_global_ns, self.user_ns)\n"
     ]
    },
    {
     "name": "stdout",
     "output_type": "stream",
     "text": [
      "Missing columns in df_all: {'RowSpacing', 'ColumnSpacing', 'NumberOfSlices', 'DistanceBetweenSlices', 'days_since_test'}\n"
     ]
    },
    {
     "name": "stderr",
     "output_type": "stream",
     "text": [
      "C:\\Users\\kiril\\.conda\\envs\\cobra\\lib\\site-packages\\IPython\\core\\interactiveshell.py:3457: DtypeWarning: Columns (5,48) have mixed types.Specify dtype option on import or set low_memory=False.\n",
      "  exec(code_obj, self.user_global_ns, self.user_ns)\n"
     ]
    }
   ],
   "source": [
    "df_keys = pd.read_csv(join(csv_folder, 'neg_pos.csv')).keys()\n",
    "dfc_keys = pd.read_csv(join(csv_folder, 'neg_pos_clean.csv')).keys()\n",
    "missing_keys = set(dfc_keys).difference(set(df_keys))\n",
    "print(f\"Missing columns in df_all: {missing_keys}\")"
   ]
  },
  {
   "cell_type": "markdown",
   "metadata": {},
   "source": [
    "# Merge all negatives"
   ]
  },
  {
   "cell_type": "markdown",
   "metadata": {},
   "source": [
    "## If you only want to update the clean dataframe, jump to create df_clean"
   ]
  },
  {
   "cell_type": "code",
   "execution_count": 42,
   "metadata": {},
   "outputs": [
    {
     "name": "stderr",
     "output_type": "stream",
     "text": [
      "C:\\Users\\kiril\\.conda\\envs\\cobra\\lib\\site-packages\\IPython\\core\\interactiveshell.py:3441: DtypeWarning: Columns (4,5) have mixed types.Specify dtype option on import or set low_memory=False.\n",
      "  exec(code_obj, self.user_global_ns, self.user_ns)\n"
     ]
    }
   ],
   "source": [
    "df_neg_all = pd.read_csv(join(csv_folder, 'neg_all.csv'))"
   ]
  },
  {
   "cell_type": "code",
   "execution_count": 43,
   "metadata": {},
   "outputs": [
    {
     "data": {
      "text/plain": [
       "Index(['SeriesInstanceUID', 'StudyInstanceUID', 'PatientID', 'AngioFlag',\n",
       "       'AcquisitionMatrix', 'AcquisitionContrast', 'AcquisitionDuration',\n",
       "       'dBdt', 'EchoTime', 'EchoTrainLength', 'EchoNumbers', 'FlipAngle',\n",
       "       'FrameOfReferenceUID', 'ImagingFrequency', 'ImagedNuclues',\n",
       "       'InstanceCreationDate', 'InstanceCreationTime', 'InversionTime',\n",
       "       'ImagesInAcquisition', 'ImageType', 'MagneticFieldStrength',\n",
       "       'Manufacturer', 'ManufacturerModelName', 'MRAcquisitionType',\n",
       "       'NumberofAverages', 'NumberOfEchoes', 'NumberofPhaseEncodingSteps',\n",
       "       'PatientPosition', 'PixelBandwith', 'PixelPresentation', 'PixelSpacing',\n",
       "       'PhotometricInterpretation', 'PulseSequenceName', 'RepetitionTime',\n",
       "       'Rows', 'Columns', 'ScanningSequence', 'SequenceVariant',\n",
       "       'SequenceName', 'ScanOptions', 'SeriesDescription', 'SoftwareVersions',\n",
       "       'SliceThickness', 'StudyPriorityID', 'PatientPosition.1',\n",
       "       'SpacingBetweenSlices', 'SecondEcho', 'VariableFlipAngleFlag'],\n",
       "      dtype='object')"
      ]
     },
     "execution_count": 43,
     "metadata": {},
     "output_type": "execute_result"
    }
   ],
   "source": [
    "df_neg_all.keys()"
   ]
  },
  {
   "cell_type": "code",
   "execution_count": 44,
   "metadata": {},
   "outputs": [
    {
     "data": {
      "text/html": [
       "<div>\n",
       "<style scoped>\n",
       "    .dataframe tbody tr th:only-of-type {\n",
       "        vertical-align: middle;\n",
       "    }\n",
       "\n",
       "    .dataframe tbody tr th {\n",
       "        vertical-align: top;\n",
       "    }\n",
       "\n",
       "    .dataframe thead th {\n",
       "        text-align: right;\n",
       "    }\n",
       "</style>\n",
       "<table border=\"1\" class=\"dataframe\">\n",
       "  <thead>\n",
       "    <tr style=\"text-align: right;\">\n",
       "      <th></th>\n",
       "      <th>SeriesInstanceUID</th>\n",
       "      <th>StudyInstanceUID</th>\n",
       "      <th>PatientID</th>\n",
       "      <th>AngioFlag</th>\n",
       "      <th>AcquisitionMatrix</th>\n",
       "      <th>AcquisitionContrast</th>\n",
       "      <th>AcquisitionDuration</th>\n",
       "      <th>dBdt</th>\n",
       "      <th>EchoTime</th>\n",
       "      <th>EchoTrainLength</th>\n",
       "      <th>...</th>\n",
       "      <th>SequenceName</th>\n",
       "      <th>ScanOptions</th>\n",
       "      <th>SeriesDescription</th>\n",
       "      <th>SoftwareVersions</th>\n",
       "      <th>SliceThickness</th>\n",
       "      <th>StudyPriorityID</th>\n",
       "      <th>PatientPosition.1</th>\n",
       "      <th>SpacingBetweenSlices</th>\n",
       "      <th>SecondEcho</th>\n",
       "      <th>VariableFlipAngleFlag</th>\n",
       "    </tr>\n",
       "  </thead>\n",
       "  <tbody>\n",
       "    <tr>\n",
       "      <th>0</th>\n",
       "      <td>NaN</td>\n",
       "      <td>NaN</td>\n",
       "      <td>NaN</td>\n",
       "      <td>NaN</td>\n",
       "      <td>NaN</td>\n",
       "      <td>NaN</td>\n",
       "      <td>NaN</td>\n",
       "      <td>NaN</td>\n",
       "      <td>NaN</td>\n",
       "      <td>NaN</td>\n",
       "      <td>...</td>\n",
       "      <td>NaN</td>\n",
       "      <td>NaN</td>\n",
       "      <td>NaN</td>\n",
       "      <td>NaN</td>\n",
       "      <td>NaN</td>\n",
       "      <td>NaN</td>\n",
       "      <td>NaN</td>\n",
       "      <td>NaN</td>\n",
       "      <td>NaN</td>\n",
       "      <td>NaN</td>\n",
       "    </tr>\n",
       "    <tr>\n",
       "      <th>1</th>\n",
       "      <td>NaN</td>\n",
       "      <td>NaN</td>\n",
       "      <td>NaN</td>\n",
       "      <td>NaN</td>\n",
       "      <td>NaN</td>\n",
       "      <td>NaN</td>\n",
       "      <td>NaN</td>\n",
       "      <td>NaN</td>\n",
       "      <td>NaN</td>\n",
       "      <td>NaN</td>\n",
       "      <td>...</td>\n",
       "      <td>NaN</td>\n",
       "      <td>NaN</td>\n",
       "      <td>NaN</td>\n",
       "      <td>NaN</td>\n",
       "      <td>NaN</td>\n",
       "      <td>NaN</td>\n",
       "      <td>NaN</td>\n",
       "      <td>NaN</td>\n",
       "      <td>NaN</td>\n",
       "      <td>NaN</td>\n",
       "    </tr>\n",
       "    <tr>\n",
       "      <th>2</th>\n",
       "      <td>NaN</td>\n",
       "      <td>NaN</td>\n",
       "      <td>NaN</td>\n",
       "      <td>NaN</td>\n",
       "      <td>NaN</td>\n",
       "      <td>NaN</td>\n",
       "      <td>NaN</td>\n",
       "      <td>NaN</td>\n",
       "      <td>NaN</td>\n",
       "      <td>NaN</td>\n",
       "      <td>...</td>\n",
       "      <td>NaN</td>\n",
       "      <td>NaN</td>\n",
       "      <td>NaN</td>\n",
       "      <td>NaN</td>\n",
       "      <td>NaN</td>\n",
       "      <td>NaN</td>\n",
       "      <td>NaN</td>\n",
       "      <td>NaN</td>\n",
       "      <td>NaN</td>\n",
       "      <td>NaN</td>\n",
       "    </tr>\n",
       "    <tr>\n",
       "      <th>3</th>\n",
       "      <td>NaN</td>\n",
       "      <td>NaN</td>\n",
       "      <td>NaN</td>\n",
       "      <td>NaN</td>\n",
       "      <td>NaN</td>\n",
       "      <td>NaN</td>\n",
       "      <td>NaN</td>\n",
       "      <td>NaN</td>\n",
       "      <td>NaN</td>\n",
       "      <td>NaN</td>\n",
       "      <td>...</td>\n",
       "      <td>NaN</td>\n",
       "      <td>NaN</td>\n",
       "      <td>NaN</td>\n",
       "      <td>NaN</td>\n",
       "      <td>NaN</td>\n",
       "      <td>NaN</td>\n",
       "      <td>NaN</td>\n",
       "      <td>NaN</td>\n",
       "      <td>NaN</td>\n",
       "      <td>NaN</td>\n",
       "    </tr>\n",
       "    <tr>\n",
       "      <th>4</th>\n",
       "      <td>NaN</td>\n",
       "      <td>NaN</td>\n",
       "      <td>NaN</td>\n",
       "      <td>NaN</td>\n",
       "      <td>NaN</td>\n",
       "      <td>NaN</td>\n",
       "      <td>NaN</td>\n",
       "      <td>NaN</td>\n",
       "      <td>NaN</td>\n",
       "      <td>NaN</td>\n",
       "      <td>...</td>\n",
       "      <td>NaN</td>\n",
       "      <td>NaN</td>\n",
       "      <td>NaN</td>\n",
       "      <td>NaN</td>\n",
       "      <td>NaN</td>\n",
       "      <td>NaN</td>\n",
       "      <td>NaN</td>\n",
       "      <td>NaN</td>\n",
       "      <td>NaN</td>\n",
       "      <td>NaN</td>\n",
       "    </tr>\n",
       "    <tr>\n",
       "      <th>5</th>\n",
       "      <td>NaN</td>\n",
       "      <td>NaN</td>\n",
       "      <td>NaN</td>\n",
       "      <td>NaN</td>\n",
       "      <td>NaN</td>\n",
       "      <td>NaN</td>\n",
       "      <td>NaN</td>\n",
       "      <td>NaN</td>\n",
       "      <td>NaN</td>\n",
       "      <td>NaN</td>\n",
       "      <td>...</td>\n",
       "      <td>NaN</td>\n",
       "      <td>NaN</td>\n",
       "      <td>NaN</td>\n",
       "      <td>NaN</td>\n",
       "      <td>NaN</td>\n",
       "      <td>NaN</td>\n",
       "      <td>NaN</td>\n",
       "      <td>NaN</td>\n",
       "      <td>NaN</td>\n",
       "      <td>NaN</td>\n",
       "    </tr>\n",
       "    <tr>\n",
       "      <th>6</th>\n",
       "      <td>NaN</td>\n",
       "      <td>NaN</td>\n",
       "      <td>NaN</td>\n",
       "      <td>NaN</td>\n",
       "      <td>NaN</td>\n",
       "      <td>NaN</td>\n",
       "      <td>NaN</td>\n",
       "      <td>NaN</td>\n",
       "      <td>NaN</td>\n",
       "      <td>NaN</td>\n",
       "      <td>...</td>\n",
       "      <td>NaN</td>\n",
       "      <td>NaN</td>\n",
       "      <td>NaN</td>\n",
       "      <td>NaN</td>\n",
       "      <td>NaN</td>\n",
       "      <td>NaN</td>\n",
       "      <td>NaN</td>\n",
       "      <td>NaN</td>\n",
       "      <td>NaN</td>\n",
       "      <td>NaN</td>\n",
       "    </tr>\n",
       "    <tr>\n",
       "      <th>8</th>\n",
       "      <td>NaN</td>\n",
       "      <td>NaN</td>\n",
       "      <td>NaN</td>\n",
       "      <td>NaN</td>\n",
       "      <td>NaN</td>\n",
       "      <td>NaN</td>\n",
       "      <td>NaN</td>\n",
       "      <td>NaN</td>\n",
       "      <td>NaN</td>\n",
       "      <td>NaN</td>\n",
       "      <td>...</td>\n",
       "      <td>NaN</td>\n",
       "      <td>NaN</td>\n",
       "      <td>NaN</td>\n",
       "      <td>NaN</td>\n",
       "      <td>NaN</td>\n",
       "      <td>NaN</td>\n",
       "      <td>NaN</td>\n",
       "      <td>NaN</td>\n",
       "      <td>NaN</td>\n",
       "      <td>NaN</td>\n",
       "    </tr>\n",
       "    <tr>\n",
       "      <th>302270</th>\n",
       "      <td>NaN</td>\n",
       "      <td>NaN</td>\n",
       "      <td>NaN</td>\n",
       "      <td>NaN</td>\n",
       "      <td>NaN</td>\n",
       "      <td>NaN</td>\n",
       "      <td>NaN</td>\n",
       "      <td>NaN</td>\n",
       "      <td>NaN</td>\n",
       "      <td>NaN</td>\n",
       "      <td>...</td>\n",
       "      <td>NaN</td>\n",
       "      <td>NaN</td>\n",
       "      <td>NaN</td>\n",
       "      <td>NaN</td>\n",
       "      <td>NaN</td>\n",
       "      <td>NaN</td>\n",
       "      <td>NaN</td>\n",
       "      <td>NaN</td>\n",
       "      <td>NaN</td>\n",
       "      <td>NaN</td>\n",
       "    </tr>\n",
       "  </tbody>\n",
       "</table>\n",
       "<p>9 rows × 48 columns</p>\n",
       "</div>"
      ],
      "text/plain": [
       "       SeriesInstanceUID StudyInstanceUID PatientID AngioFlag  \\\n",
       "0                    NaN              NaN       NaN       NaN   \n",
       "1                    NaN              NaN       NaN       NaN   \n",
       "2                    NaN              NaN       NaN       NaN   \n",
       "3                    NaN              NaN       NaN       NaN   \n",
       "4                    NaN              NaN       NaN       NaN   \n",
       "5                    NaN              NaN       NaN       NaN   \n",
       "6                    NaN              NaN       NaN       NaN   \n",
       "8                    NaN              NaN       NaN       NaN   \n",
       "302270               NaN              NaN       NaN       NaN   \n",
       "\n",
       "       AcquisitionMatrix AcquisitionContrast  AcquisitionDuration  dBdt  \\\n",
       "0                    NaN                 NaN                  NaN   NaN   \n",
       "1                    NaN                 NaN                  NaN   NaN   \n",
       "2                    NaN                 NaN                  NaN   NaN   \n",
       "3                    NaN                 NaN                  NaN   NaN   \n",
       "4                    NaN                 NaN                  NaN   NaN   \n",
       "5                    NaN                 NaN                  NaN   NaN   \n",
       "6                    NaN                 NaN                  NaN   NaN   \n",
       "8                    NaN                 NaN                  NaN   NaN   \n",
       "302270               NaN                 NaN                  NaN   NaN   \n",
       "\n",
       "        EchoTime  EchoTrainLength  ...  SequenceName  ScanOptions  \\\n",
       "0            NaN              NaN  ...           NaN          NaN   \n",
       "1            NaN              NaN  ...           NaN          NaN   \n",
       "2            NaN              NaN  ...           NaN          NaN   \n",
       "3            NaN              NaN  ...           NaN          NaN   \n",
       "4            NaN              NaN  ...           NaN          NaN   \n",
       "5            NaN              NaN  ...           NaN          NaN   \n",
       "6            NaN              NaN  ...           NaN          NaN   \n",
       "8            NaN              NaN  ...           NaN          NaN   \n",
       "302270       NaN              NaN  ...           NaN          NaN   \n",
       "\n",
       "       SeriesDescription  SoftwareVersions  SliceThickness StudyPriorityID  \\\n",
       "0                    NaN               NaN             NaN             NaN   \n",
       "1                    NaN               NaN             NaN             NaN   \n",
       "2                    NaN               NaN             NaN             NaN   \n",
       "3                    NaN               NaN             NaN             NaN   \n",
       "4                    NaN               NaN             NaN             NaN   \n",
       "5                    NaN               NaN             NaN             NaN   \n",
       "6                    NaN               NaN             NaN             NaN   \n",
       "8                    NaN               NaN             NaN             NaN   \n",
       "302270               NaN               NaN             NaN             NaN   \n",
       "\n",
       "       PatientPosition.1  SpacingBetweenSlices  SecondEcho  \\\n",
       "0                    NaN                   NaN         NaN   \n",
       "1                    NaN                   NaN         NaN   \n",
       "2                    NaN                   NaN         NaN   \n",
       "3                    NaN                   NaN         NaN   \n",
       "4                    NaN                   NaN         NaN   \n",
       "5                    NaN                   NaN         NaN   \n",
       "6                    NaN                   NaN         NaN   \n",
       "8                    NaN                   NaN         NaN   \n",
       "302270               NaN                   NaN         NaN   \n",
       "\n",
       "       VariableFlipAngleFlag  \n",
       "0                        NaN  \n",
       "1                        NaN  \n",
       "2                        NaN  \n",
       "3                        NaN  \n",
       "4                        NaN  \n",
       "5                        NaN  \n",
       "6                        NaN  \n",
       "8                        NaN  \n",
       "302270                   NaN  \n",
       "\n",
       "[9 rows x 48 columns]"
      ]
     },
     "execution_count": 44,
     "metadata": {},
     "output_type": "execute_result"
    }
   ],
   "source": [
    "df_neg_all[df_neg_all.SeriesInstanceUID.isnull()]"
   ]
  },
  {
   "cell_type": "code",
   "execution_count": 75,
   "metadata": {},
   "outputs": [
    {
     "name": "stderr",
     "output_type": "stream",
     "text": [
      "C:\\Users\\kiril\\.conda\\envs\\cobra\\lib\\site-packages\\ipykernel_launcher.py:2: FutureWarning: The error_bad_lines argument has been deprecated and will be removed in a future version.\n",
      "\n",
      "\n",
      "  \n",
      "Skipping line 941: NULL byte detected. This byte cannot be processed in Python's native csv library at the moment, so please pass in engine='c' instead\n"
     ]
    }
   ],
   "source": [
    "df_neg_list = [pd.read_csv(csv_path, encoding= 'unicode_escape',error_bad_lines=False, engine='python') for csv_path in\n",
    "               neg_tab_dirs]\n",
    "# Problem with 1st file\n",
    "df_all_neg_2019 = pd.concat(df_neg_list, axis=0, join=\"outer\").dropna(how='all')"
   ]
  },
  {
   "cell_type": "code",
   "execution_count": 78,
   "metadata": {},
   "outputs": [
    {
     "data": {
      "text/plain": [
       "51914"
      ]
     },
     "execution_count": 78,
     "metadata": {},
     "output_type": "execute_result"
    }
   ],
   "source": [
    "df_all_neg_2019.InstanceCreationDate.isna().sum()"
   ]
  },
  {
   "cell_type": "code",
   "execution_count": 83,
   "metadata": {},
   "outputs": [],
   "source": [
    "sids_2019_ls = df_all_neg_2019.SeriesInstanceUID.unique().tolist()\n",
    "with open(join(csv_folder, 'sids_2019.pkl'), 'wb') as f:\n",
    "    pkl.dump(sids_2019_ls, f)"
   ]
  },
  {
   "cell_type": "markdown",
   "metadata": {},
   "source": [
    "## Lets look at the dates in 2019 folder scans"
   ]
  },
  {
   "cell_type": "code",
   "execution_count": 79,
   "metadata": {},
   "outputs": [
    {
     "name": "stderr",
     "output_type": "stream",
     "text": [
      "C:\\Users\\kiril\\.conda\\envs\\cobra\\lib\\site-packages\\pandas\\core\\generic.py:5516: SettingWithCopyWarning: \n",
      "A value is trying to be set on a copy of a slice from a DataFrame.\n",
      "Try using .loc[row_indexer,col_indexer] = value instead\n",
      "\n",
      "See the caveats in the documentation: https://pandas.pydata.org/pandas-docs/stable/user_guide/indexing.html#returning-a-view-versus-a-copy\n",
      "  self[name] = value\n"
     ]
    },
    {
     "data": {
      "text/plain": [
       "(array([2019, 2020, 2021], dtype=int64),\n",
       " array([238551,     66,      1], dtype=int64))"
      ]
     },
     "execution_count": 79,
     "metadata": {},
     "output_type": "execute_result"
    }
   ],
   "source": [
    "from datetime import datetime\n",
    "df_temp = df_all_neg_2019.dropna(subset=['InstanceCreationDate'])#.astype(\"datetime64\")\n",
    "df_temp.InstanceCreationDate = df_temp.InstanceCreationDate.astype(\"datetime64\")\n",
    "years = df_temp.InstanceCreationDate.map(lambda x: x.year)\n",
    "np.unique(years, return_counts=True)"
   ]
  },
  {
   "cell_type": "code",
   "execution_count": 80,
   "metadata": {},
   "outputs": [],
   "source": [
    "# In[Write it to a csv]\n",
    "# df_all_neg_2019.to_csv(f\"{csv_folder}/neg_all.csv\", index=False,\n",
    "#  header=True)"
   ]
  },
  {
   "cell_type": "markdown",
   "metadata": {},
   "source": [
    "# Merge negatives and positives"
   ]
  },
  {
   "cell_type": "code",
   "execution_count": 85,
   "metadata": {},
   "outputs": [],
   "source": [
    "df_pos = utils.load_scan_csv(join(csv_folder, 'pos.csv'))"
   ]
  },
  {
   "cell_type": "code",
   "execution_count": 87,
   "metadata": {},
   "outputs": [
    {
     "name": "stdout",
     "output_type": "stream",
     "text": [
      "12562\n",
      "Missing dates 1890\n"
     ]
    }
   ],
   "source": [
    "print(len(df_pos))\n",
    "print('Missing dates', df_pos.InstanceCreationDate.isna().sum())"
   ]
  },
  {
   "cell_type": "code",
   "execution_count": 12,
   "metadata": {},
   "outputs": [],
   "source": [
    "df_all = pd.concat([df_all_neg_2019, df_pos], axis=0, join=\"outer\")\n",
    "df_all.to_csv(f\"{csv_folder}/neg_pos.csv\", index=False,\n",
    " header=True)"
   ]
  },
  {
   "cell_type": "code",
   "execution_count": 13,
   "metadata": {},
   "outputs": [
    {
     "data": {
      "text/plain": [
       "Index(['SeriesInstanceUID', 'StudyInstanceUID', 'PatientID', 'AngioFlag',\n",
       "       'AcquisitionMatrix', 'AcquisitionContrast', 'AcquisitionDuration',\n",
       "       'dBdt', 'EchoTime', 'EchoTrainLength', 'EchoNumbers', 'FlipAngle',\n",
       "       'FrameOfReferenceUID', 'ImagingFrequency', 'ImagedNuclues',\n",
       "       'InstanceCreationDate', 'InstanceCreationTime', 'InversionTime',\n",
       "       'ImagesInAcquisition', 'ImageType', 'MagneticFieldStrength',\n",
       "       'Manufacturer', 'ManufacturerModelName', 'MRAcquisitionType',\n",
       "       'NumberofAverages', 'NumberOfEchoes', 'NumberofPhaseEncodingSteps',\n",
       "       'PatientPosition', 'PixelBandwith', 'PixelPresentation', 'PixelSpacing',\n",
       "       'PhotometricInterpretation', 'PulseSequenceName', 'RepetitionTime',\n",
       "       'Rows', 'Columns', 'ScanningSequence', 'SequenceVariant',\n",
       "       'SequenceName', 'ScanOptions', 'SeriesDescription', 'SoftwareVersions',\n",
       "       'SliceThickness', 'StudyPriorityID', 'PatientPosition.1',\n",
       "       'SpacingBetweenSlices', 'SecondEcho', 'VariableFlipAngleFlag',\n",
       "       'DateTime'],\n",
       "      dtype='object')"
      ]
     },
     "execution_count": 13,
     "metadata": {},
     "output_type": "execute_result"
    }
   ],
   "source": [
    "df_all.keys()"
   ]
  },
  {
   "cell_type": "code",
   "execution_count": 14,
   "metadata": {},
   "outputs": [],
   "source": [
    "df_pred = pd.read_csv(f\"{csv_folder}/pred_seq.csv\")"
   ]
  },
  {
   "cell_type": "markdown",
   "metadata": {},
   "source": [
    "# Add Sequence Prediction"
   ]
  },
  {
   "cell_type": "code",
   "execution_count": 17,
   "metadata": {},
   "outputs": [],
   "source": [
    "df_all = df_all.merge(df_pred.drop(labels=['PatientID', 'InstanceCreationDate'], axis=1), on='SeriesInstanceUID', how='inner')"
   ]
  },
  {
   "cell_type": "code",
   "execution_count": 20,
   "metadata": {},
   "outputs": [
    {
     "data": {
      "text/plain": [
       "Index(['SeriesInstanceUID', 'StudyInstanceUID', 'PatientID', 'AngioFlag',\n",
       "       'AcquisitionMatrix', 'AcquisitionContrast', 'AcquisitionDuration',\n",
       "       'dBdt', 'EchoTime', 'EchoTrainLength', 'EchoNumbers', 'FlipAngle',\n",
       "       'FrameOfReferenceUID', 'ImagingFrequency', 'ImagedNuclues',\n",
       "       'InstanceCreationDate', 'InstanceCreationTime', 'InversionTime',\n",
       "       'ImagesInAcquisition', 'ImageType', 'MagneticFieldStrength',\n",
       "       'Manufacturer', 'ManufacturerModelName', 'MRAcquisitionType',\n",
       "       'NumberofAverages', 'NumberOfEchoes', 'NumberofPhaseEncodingSteps',\n",
       "       'PatientPosition', 'PixelBandwith', 'PixelPresentation', 'PixelSpacing',\n",
       "       'PhotometricInterpretation', 'PulseSequenceName', 'RepetitionTime',\n",
       "       'Rows', 'Columns', 'ScanningSequence', 'SequenceVariant',\n",
       "       'SequenceName', 'ScanOptions', 'SeriesDescription', 'SoftwareVersions',\n",
       "       'SliceThickness', 'StudyPriorityID', 'PatientPosition.1',\n",
       "       'SpacingBetweenSlices', 'SecondEcho', 'VariableFlipAngleFlag',\n",
       "       'DateTime', 'Sequence', 'TrueSequenceType', 'Directory'],\n",
       "      dtype='object')"
      ]
     },
     "execution_count": 20,
     "metadata": {},
     "output_type": "execute_result"
    }
   ],
   "source": [
    "df_directory = pd.read_csv(f\"{csv_folder}/series_directories_sif.csv\")\n",
    "df_all_final = df_all.merge(df_directory, on='SeriesInstanceUID', how='inner')\n",
    "df_all_final.keys()"
   ]
  },
  {
   "cell_type": "code",
   "execution_count": 21,
   "metadata": {},
   "outputs": [],
   "source": [
    "df_all_final = df_all_final.rename(columns={'Directory': 'DirectorySIF'})"
   ]
  },
  {
   "cell_type": "code",
   "execution_count": null,
   "metadata": {},
   "outputs": [],
   "source": [
    "def pixelspacing_convert(x, axis): \n",
    "    try:\n",
    "        return x[axis]\n",
    "    except:\n",
    "        None\n",
    "df_all['xPixelSpacing'] = df_all.PixelSpacing.map(lambda x: pixelspacing_convert(x, 0))\n",
    "df_all['yPixelSpacing'] = df_all.PixelSpacing.map(lambda x: pixelspacing_convert(x, 1))"
   ]
  },
  {
   "cell_type": "markdown",
   "metadata": {},
   "source": [
    "## Remember to add Positive column and DateTime"
   ]
  },
  {
   "cell_type": "code",
   "execution_count": 22,
   "metadata": {},
   "outputs": [],
   "source": [
    "save_df_all=False\n",
    "if save_df_all:\n",
    "    df_all.to_csv(f\"{csv_folder}/neg_pos.csv\", index=False, header=True)"
   ]
  },
  {
   "cell_type": "code",
   "execution_count": 25,
   "metadata": {},
   "outputs": [
    {
     "name": "stderr",
     "output_type": "stream",
     "text": [
      "C:\\Users\\klein\\AppData\\Roaming\\Python\\Python37\\site-packages\\ipykernel_launcher.py:3: DtypeWarning: Columns (5) have mixed types.Specify dtype option on import or set low_memory=False.\n",
      "  This is separate from the ipykernel package so we can avoid doing imports until\n"
     ]
    }
   ],
   "source": [
    "load_df_all=True\n",
    "if load_df_all:\n",
    "    df_all = utils.load_scan_csv(f\"{csv_folder}/neg_pos.csv\")"
   ]
  },
  {
   "cell_type": "code",
   "execution_count": 32,
   "metadata": {},
   "outputs": [
    {
     "name": "stdout",
     "output_type": "stream",
     "text": [
      "df_all contains 328489 volumes and 24261 patients\n"
     ]
    }
   ],
   "source": [
    "print(f\"df_all contains {len(df_all)} volumes and\\\n",
    " {df_all.PatientID.nunique()} patients\")"
   ]
  },
  {
   "cell_type": "markdown",
   "metadata": {},
   "source": [
    "## Clean"
   ]
  },
  {
   "cell_type": "code",
   "execution_count": 33,
   "metadata": {},
   "outputs": [
    {
     "name": "stdout",
     "output_type": "stream",
     "text": [
      "after removing other sequences there are 207027  volumes and 23307 patients\n"
     ]
    }
   ],
   "source": [
    "df_clean = df_all[~(df_all.Sequence=='other')]\n",
    "print(f\"after removing other sequences there are {len(df_clean)}\\\n",
    " volumes and {df_clean.PatientID.nunique()} patients\")"
   ]
  },
  {
   "cell_type": "code",
   "execution_count": 35,
   "metadata": {},
   "outputs": [
    {
     "name": "stdout",
     "output_type": "stream",
     "text": [
      "after removing sequences with no date there are 178578 volumes and 22434 patients\n"
     ]
    }
   ],
   "source": [
    "df_cclean = df_clean[~df_clean.InstanceCreationDate.isnull()]\n",
    "print(f\"after removing sequences with no date there are {len(df_cclean)} volumes\\\n",
    " and {df_cclean.PatientID.nunique()} patients\")"
   ]
  },
  {
   "cell_type": "markdown",
   "metadata": {},
   "source": [
    "## Add Number of Slices"
   ]
  },
  {
   "cell_type": "code",
   "execution_count": 45,
   "metadata": {},
   "outputs": [],
   "source": [
    "df_nos = pd.read_csv(join(csv_folder, 'neg_pos_clean_nos.csv'))\n",
    "dfc = pd.merge(df_cclean, df_nos, how='left', on=['PatientID','SeriesInstanceUID'])"
   ]
  },
  {
   "cell_type": "markdown",
   "metadata": {},
   "source": [
    "## Add days since test (days_since_test2)"
   ]
  },
  {
   "cell_type": "code",
   "execution_count": 50,
   "metadata": {},
   "outputs": [],
   "source": [
    "df_dst = pd.read_csv(join(csv_folder, 'days_since_test2.csv'))\n",
    "dfcc = pd.merge(dfc, df_dst, how='left', on=['PatientID','SeriesInstanceUID'])"
   ]
  },
  {
   "cell_type": "markdown",
   "metadata": {},
   "source": [
    "## Create Rowspacing and Columnspacing columns"
   ]
  },
  {
   "cell_type": "code",
   "execution_count": 54,
   "metadata": {},
   "outputs": [],
   "source": [
    "dfcc.PixelSpacing = dfcc.PixelSpacing.map(lambda x: utils.str_arr_converter(x))"
   ]
  },
  {
   "cell_type": "code",
   "execution_count": 58,
   "metadata": {},
   "outputs": [],
   "source": [
    "def extract_from_arr(arr, pos): \n",
    "    try:\n",
    "        return arr[pos] \n",
    "    except:\n",
    "        return None\n",
    "dfcc['RowSpacing'] = dfcc.PixelSpacing.map(lambda x: extract_from_arr(x, 0))\n",
    "dfcc['ColumnSpacing'] = dfcc.PixelSpacing.map(lambda x: extract_from_arr(x, 1))"
   ]
  },
  {
   "cell_type": "markdown",
   "metadata": {},
   "source": [
    "## Add Distance Between Slices"
   ]
  },
  {
   "cell_type": "code",
   "execution_count": 64,
   "metadata": {},
   "outputs": [],
   "source": [
    "dfcc.to_csv(f\"{csv_folder}/neg_pos_clean.csv\", index=False, header=True)"
   ]
  }
 ],
 "metadata": {
  "interpreter": {
   "hash": "fd64557248a61079a8b01b27957eac8e3bd9d72e2f60908e3e6321fba2096ec7"
  },
  "kernelspec": {
   "display_name": "Python 3.7.11 64-bit ('cobra': conda)",
   "name": "python3"
  },
  "language_info": {
   "codemirror_mode": {
    "name": "ipython",
    "version": 3
   },
   "file_extension": ".py",
   "mimetype": "text/x-python",
   "name": "python",
   "nbconvert_exporter": "python",
   "pygments_lexer": "ipython3",
   "version": "3.7.11"
  },
  "orig_nbformat": 4
 },
 "nbformat": 4,
 "nbformat_minor": 2
}
