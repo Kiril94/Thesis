{
 "cells": [
  {
   "cell_type": "code",
   "execution_count": 1,
   "metadata": {},
   "outputs": [
    {
     "data": {
      "text/plain": [
       "<module 'utilities.utils' from 'D:/Thesis/Cobra/cobra\\\\utilities\\\\utils.py'>"
      ]
     },
     "execution_count": 1,
     "metadata": {},
     "output_type": "execute_result"
    }
   ],
   "source": [
    "from os.path import join\n",
    "import os\n",
    "import pandas as pd\n",
    "import sys\n",
    "base_dir = \"D:/Thesis/Cobra/cobra/\"\n",
    "if base_dir not in sys.path:\n",
    "    sys.path.append(base_dir)\n",
    "from utilities import utils\n",
    "import importlib\n",
    "import numpy as np\n",
    "importlib.reload(utils)"
   ]
  },
  {
   "cell_type": "code",
   "execution_count": 2,
   "metadata": {},
   "outputs": [],
   "source": [
    "base_dir = \"D:/Thesis/Cobra/cobra/\"\n",
    "csv_folder = join(base_dir, 'data', 'tables')\n",
    "neg_tab_dirs = sorted([f\"{csv_folder}/{x}\" for x\n",
    "                       in os.listdir(csv_folder) \\\n",
    "                           if x.startswith('healthy')])"
   ]
  },
  {
   "cell_type": "markdown",
   "metadata": {},
   "source": [
    "### Keys to add"
   ]
  },
  {
   "cell_type": "code",
   "execution_count": 58,
   "metadata": {},
   "outputs": [],
   "source": [
    "dst = pd.read_csv(join(csv_folder,'days_since_test.csv'))\n",
    "dst2 = pd.read_csv(join(csv_folder,'days_since_test2.csv'))"
   ]
  },
  {
   "cell_type": "code",
   "execution_count": 63,
   "metadata": {},
   "outputs": [],
   "source": [
    "dst_comp = dst2[dst2.SeriesInstanceUID.isin(dst.SeriesInstanceUID.unique())]\n",
    "dst_comp = dst_comp.sort_values(by=['PatientID', 'SeriesInstanceUID'])\n",
    "dst = dst.sort_values(by=['PatientID', 'SeriesInstanceUID'])"
   ]
  },
  {
   "cell_type": "code",
   "execution_count": null,
   "metadata": {},
   "outputs": [],
   "source": [
    "def match_compare(df1, df2, match_cols, compare_col):\n",
    "    df1 = df1.sort_values(by=match_cols)\n",
    "    df2 = df2.sort_values(by=match_cols)\n",
    "    comparison_mask = np.where(df1.reset_index(drop=True)[compare_col]==df2.reset_index(drop=True)[compare_col],\n",
    "                            True, False)\n",
    "    df1 = df1[~comparison_mask].rename(columns={compare_col:'df1_'+compare_col})\n",
    "    df2 = df2[~comparison_mask].rename(columns={compare_col:'df2_'+compare_col})\n",
    "    df_diff = pd.concat(df1, df2, axis=1,)\n",
    "    return df_diff\n",
    "    "
   ]
  },
  {
   "cell_type": "code",
   "execution_count": 72,
   "metadata": {},
   "outputs": [],
   "source": [
    "df_diff = pd.concat([dst,dst_comp]).drop_duplicates(\n",
    "    subset=['PatientID','SeriesInstanceUID','days_since_test'], keep=False)"
   ]
  },
  {
   "cell_type": "code",
   "execution_count": 79,
   "metadata": {},
   "outputs": [
    {
     "data": {
      "text/html": [
       "<div>\n",
       "<style scoped>\n",
       "    .dataframe tbody tr th:only-of-type {\n",
       "        vertical-align: middle;\n",
       "    }\n",
       "\n",
       "    .dataframe tbody tr th {\n",
       "        vertical-align: top;\n",
       "    }\n",
       "\n",
       "    .dataframe thead th {\n",
       "        text-align: right;\n",
       "    }\n",
       "</style>\n",
       "<table border=\"1\" class=\"dataframe\">\n",
       "  <thead>\n",
       "    <tr style=\"text-align: right;\">\n",
       "      <th></th>\n",
       "      <th>PatientID</th>\n",
       "      <th>SeriesInstanceUID</th>\n",
       "      <th>days_since_test</th>\n",
       "    </tr>\n",
       "  </thead>\n",
       "  <tbody>\n",
       "    <tr>\n",
       "      <th>2315</th>\n",
       "      <td>00438b59ef2f432c390cf99ac82e1244</td>\n",
       "      <td>40c289ef34d144a0213aeb2d218f50d4</td>\n",
       "      <td>-26</td>\n",
       "    </tr>\n",
       "    <tr>\n",
       "      <th>2316</th>\n",
       "      <td>00438b59ef2f432c390cf99ac82e1244</td>\n",
       "      <td>6b1323f178a4b9496cd1d6de43fd1104</td>\n",
       "      <td>-26</td>\n",
       "    </tr>\n",
       "    <tr>\n",
       "      <th>2317</th>\n",
       "      <td>00438b59ef2f432c390cf99ac82e1244</td>\n",
       "      <td>b85580fed5983dd1586297db51204c2c</td>\n",
       "      <td>-26</td>\n",
       "    </tr>\n",
       "    <tr>\n",
       "      <th>2318</th>\n",
       "      <td>00438b59ef2f432c390cf99ac82e1244</td>\n",
       "      <td>c5d7380d9b85bedeea81c2bcc58962d4</td>\n",
       "      <td>-26</td>\n",
       "    </tr>\n",
       "  </tbody>\n",
       "</table>\n",
       "</div>"
      ],
      "text/plain": [
       "                             PatientID                 SeriesInstanceUID  \\\n",
       "2315  00438b59ef2f432c390cf99ac82e1244  40c289ef34d144a0213aeb2d218f50d4   \n",
       "2316  00438b59ef2f432c390cf99ac82e1244  6b1323f178a4b9496cd1d6de43fd1104   \n",
       "2317  00438b59ef2f432c390cf99ac82e1244  b85580fed5983dd1586297db51204c2c   \n",
       "2318  00438b59ef2f432c390cf99ac82e1244  c5d7380d9b85bedeea81c2bcc58962d4   \n",
       "\n",
       "      days_since_test  \n",
       "2315              -26  \n",
       "2316              -26  \n",
       "2317              -26  \n",
       "2318              -26  "
      ]
     },
     "execution_count": 79,
     "metadata": {},
     "output_type": "execute_result"
    }
   ],
   "source": [
    "dst[dst.PatientID=='00438b59ef2f432c390cf99ac82e1244']"
   ]
  },
  {
   "cell_type": "code",
   "execution_count": 73,
   "metadata": {},
   "outputs": [
    {
     "data": {
      "text/html": [
       "<div>\n",
       "<style scoped>\n",
       "    .dataframe tbody tr th:only-of-type {\n",
       "        vertical-align: middle;\n",
       "    }\n",
       "\n",
       "    .dataframe tbody tr th {\n",
       "        vertical-align: top;\n",
       "    }\n",
       "\n",
       "    .dataframe thead th {\n",
       "        text-align: right;\n",
       "    }\n",
       "</style>\n",
       "<table border=\"1\" class=\"dataframe\">\n",
       "  <thead>\n",
       "    <tr style=\"text-align: right;\">\n",
       "      <th></th>\n",
       "      <th>PatientID</th>\n",
       "      <th>SeriesInstanceUID</th>\n",
       "      <th>days_since_test</th>\n",
       "    </tr>\n",
       "  </thead>\n",
       "  <tbody>\n",
       "    <tr>\n",
       "      <th>2315</th>\n",
       "      <td>00438b59ef2f432c390cf99ac82e1244</td>\n",
       "      <td>40c289ef34d144a0213aeb2d218f50d4</td>\n",
       "      <td>-26</td>\n",
       "    </tr>\n",
       "    <tr>\n",
       "      <th>2316</th>\n",
       "      <td>00438b59ef2f432c390cf99ac82e1244</td>\n",
       "      <td>6b1323f178a4b9496cd1d6de43fd1104</td>\n",
       "      <td>-26</td>\n",
       "    </tr>\n",
       "    <tr>\n",
       "      <th>2317</th>\n",
       "      <td>00438b59ef2f432c390cf99ac82e1244</td>\n",
       "      <td>b85580fed5983dd1586297db51204c2c</td>\n",
       "      <td>-26</td>\n",
       "    </tr>\n",
       "    <tr>\n",
       "      <th>2318</th>\n",
       "      <td>00438b59ef2f432c390cf99ac82e1244</td>\n",
       "      <td>c5d7380d9b85bedeea81c2bcc58962d4</td>\n",
       "      <td>-26</td>\n",
       "    </tr>\n",
       "    <tr>\n",
       "      <th>0</th>\n",
       "      <td>03a79cb80a081f76dc8b8b358baf775e</td>\n",
       "      <td>315484a58e48568df73d92bd5035a712</td>\n",
       "      <td>-453</td>\n",
       "    </tr>\n",
       "    <tr>\n",
       "      <th>...</th>\n",
       "      <td>...</td>\n",
       "      <td>...</td>\n",
       "      <td>...</td>\n",
       "    </tr>\n",
       "    <tr>\n",
       "      <th>1036</th>\n",
       "      <td>fee7aed833af0d6785bccc337e933a23</td>\n",
       "      <td>d28716cddf4f064b6de31fede726515f</td>\n",
       "      <td>-168</td>\n",
       "    </tr>\n",
       "    <tr>\n",
       "      <th>1037</th>\n",
       "      <td>fee7aed833af0d6785bccc337e933a23</td>\n",
       "      <td>dd22a72a3177b089266b0a3552396374</td>\n",
       "      <td>-168</td>\n",
       "    </tr>\n",
       "    <tr>\n",
       "      <th>1038</th>\n",
       "      <td>fee7aed833af0d6785bccc337e933a23</td>\n",
       "      <td>e27af30cacc9a7a59cfa7109699fcccf</td>\n",
       "      <td>-168</td>\n",
       "    </tr>\n",
       "    <tr>\n",
       "      <th>1039</th>\n",
       "      <td>fee7aed833af0d6785bccc337e933a23</td>\n",
       "      <td>e2c33d11421231f06644fbfc063a76f9</td>\n",
       "      <td>-168</td>\n",
       "    </tr>\n",
       "    <tr>\n",
       "      <th>1041</th>\n",
       "      <td>fee7aed833af0d6785bccc337e933a23</td>\n",
       "      <td>f8072f68d119bd9516fd8559c277e174</td>\n",
       "      <td>-168</td>\n",
       "    </tr>\n",
       "  </tbody>\n",
       "</table>\n",
       "<p>4408 rows × 3 columns</p>\n",
       "</div>"
      ],
      "text/plain": [
       "                             PatientID                 SeriesInstanceUID  \\\n",
       "2315  00438b59ef2f432c390cf99ac82e1244  40c289ef34d144a0213aeb2d218f50d4   \n",
       "2316  00438b59ef2f432c390cf99ac82e1244  6b1323f178a4b9496cd1d6de43fd1104   \n",
       "2317  00438b59ef2f432c390cf99ac82e1244  b85580fed5983dd1586297db51204c2c   \n",
       "2318  00438b59ef2f432c390cf99ac82e1244  c5d7380d9b85bedeea81c2bcc58962d4   \n",
       "0     03a79cb80a081f76dc8b8b358baf775e  315484a58e48568df73d92bd5035a712   \n",
       "...                                ...                               ...   \n",
       "1036  fee7aed833af0d6785bccc337e933a23  d28716cddf4f064b6de31fede726515f   \n",
       "1037  fee7aed833af0d6785bccc337e933a23  dd22a72a3177b089266b0a3552396374   \n",
       "1038  fee7aed833af0d6785bccc337e933a23  e27af30cacc9a7a59cfa7109699fcccf   \n",
       "1039  fee7aed833af0d6785bccc337e933a23  e2c33d11421231f06644fbfc063a76f9   \n",
       "1041  fee7aed833af0d6785bccc337e933a23  f8072f68d119bd9516fd8559c277e174   \n",
       "\n",
       "      days_since_test  \n",
       "2315              -26  \n",
       "2316              -26  \n",
       "2317              -26  \n",
       "2318              -26  \n",
       "0                -453  \n",
       "...               ...  \n",
       "1036             -168  \n",
       "1037             -168  \n",
       "1038             -168  \n",
       "1039             -168  \n",
       "1041             -168  \n",
       "\n",
       "[4408 rows x 3 columns]"
      ]
     },
     "execution_count": 73,
     "metadata": {},
     "output_type": "execute_result"
    }
   ],
   "source": [
    "df_diff"
   ]
  },
  {
   "cell_type": "code",
   "execution_count": 82,
   "metadata": {},
   "outputs": [],
   "source": [
    "comparison_column = np.where(dst.reset_index(drop=True).days_since_test==dst_comp.reset_index(drop=True).days_since_test,\n",
    "    True, False)"
   ]
  },
  {
   "cell_type": "code",
   "execution_count": 101,
   "metadata": {},
   "outputs": [
    {
     "data": {
      "text/plain": [
       "array([ True,  True,  True, ...,  True,  True,  True])"
      ]
     },
     "execution_count": 101,
     "metadata": {},
     "output_type": "execute_result"
    }
   ],
   "source": [
    "comparison_column"
   ]
  },
  {
   "cell_type": "code",
   "execution_count": 94,
   "metadata": {},
   "outputs": [
    {
     "data": {
      "text/html": [
       "<div>\n",
       "<style scoped>\n",
       "    .dataframe tbody tr th:only-of-type {\n",
       "        vertical-align: middle;\n",
       "    }\n",
       "\n",
       "    .dataframe tbody tr th {\n",
       "        vertical-align: top;\n",
       "    }\n",
       "\n",
       "    .dataframe thead th {\n",
       "        text-align: right;\n",
       "    }\n",
       "</style>\n",
       "<table border=\"1\" class=\"dataframe\">\n",
       "  <thead>\n",
       "    <tr style=\"text-align: right;\">\n",
       "      <th></th>\n",
       "      <th>PatientID</th>\n",
       "      <th>SeriesInstanceUID</th>\n",
       "      <th>days_since_test</th>\n",
       "    </tr>\n",
       "  </thead>\n",
       "  <tbody>\n",
       "    <tr>\n",
       "      <th>5855</th>\n",
       "      <td>00438b59ef2f432c390cf99ac82e1244</td>\n",
       "      <td>40c289ef34d144a0213aeb2d218f50d4</td>\n",
       "      <td>38</td>\n",
       "    </tr>\n",
       "    <tr>\n",
       "      <th>5856</th>\n",
       "      <td>00438b59ef2f432c390cf99ac82e1244</td>\n",
       "      <td>6b1323f178a4b9496cd1d6de43fd1104</td>\n",
       "      <td>38</td>\n",
       "    </tr>\n",
       "    <tr>\n",
       "      <th>5858</th>\n",
       "      <td>00438b59ef2f432c390cf99ac82e1244</td>\n",
       "      <td>b85580fed5983dd1586297db51204c2c</td>\n",
       "      <td>38</td>\n",
       "    </tr>\n",
       "    <tr>\n",
       "      <th>5860</th>\n",
       "      <td>00438b59ef2f432c390cf99ac82e1244</td>\n",
       "      <td>c5d7380d9b85bedeea81c2bcc58962d4</td>\n",
       "      <td>38</td>\n",
       "    </tr>\n",
       "    <tr>\n",
       "      <th>455</th>\n",
       "      <td>03a79cb80a081f76dc8b8b358baf775e</td>\n",
       "      <td>315484a58e48568df73d92bd5035a712</td>\n",
       "      <td>-430</td>\n",
       "    </tr>\n",
       "    <tr>\n",
       "      <th>...</th>\n",
       "      <td>...</td>\n",
       "      <td>...</td>\n",
       "      <td>...</td>\n",
       "    </tr>\n",
       "    <tr>\n",
       "      <th>1036</th>\n",
       "      <td>fee7aed833af0d6785bccc337e933a23</td>\n",
       "      <td>d28716cddf4f064b6de31fede726515f</td>\n",
       "      <td>-168</td>\n",
       "    </tr>\n",
       "    <tr>\n",
       "      <th>1037</th>\n",
       "      <td>fee7aed833af0d6785bccc337e933a23</td>\n",
       "      <td>dd22a72a3177b089266b0a3552396374</td>\n",
       "      <td>-168</td>\n",
       "    </tr>\n",
       "    <tr>\n",
       "      <th>1038</th>\n",
       "      <td>fee7aed833af0d6785bccc337e933a23</td>\n",
       "      <td>e27af30cacc9a7a59cfa7109699fcccf</td>\n",
       "      <td>-168</td>\n",
       "    </tr>\n",
       "    <tr>\n",
       "      <th>1039</th>\n",
       "      <td>fee7aed833af0d6785bccc337e933a23</td>\n",
       "      <td>e2c33d11421231f06644fbfc063a76f9</td>\n",
       "      <td>-168</td>\n",
       "    </tr>\n",
       "    <tr>\n",
       "      <th>1041</th>\n",
       "      <td>fee7aed833af0d6785bccc337e933a23</td>\n",
       "      <td>f8072f68d119bd9516fd8559c277e174</td>\n",
       "      <td>-168</td>\n",
       "    </tr>\n",
       "  </tbody>\n",
       "</table>\n",
       "<p>2204 rows × 3 columns</p>\n",
       "</div>"
      ],
      "text/plain": [
       "                             PatientID                 SeriesInstanceUID  \\\n",
       "5855  00438b59ef2f432c390cf99ac82e1244  40c289ef34d144a0213aeb2d218f50d4   \n",
       "5856  00438b59ef2f432c390cf99ac82e1244  6b1323f178a4b9496cd1d6de43fd1104   \n",
       "5858  00438b59ef2f432c390cf99ac82e1244  b85580fed5983dd1586297db51204c2c   \n",
       "5860  00438b59ef2f432c390cf99ac82e1244  c5d7380d9b85bedeea81c2bcc58962d4   \n",
       "455   03a79cb80a081f76dc8b8b358baf775e  315484a58e48568df73d92bd5035a712   \n",
       "...                                ...                               ...   \n",
       "1036  fee7aed833af0d6785bccc337e933a23  d28716cddf4f064b6de31fede726515f   \n",
       "1037  fee7aed833af0d6785bccc337e933a23  dd22a72a3177b089266b0a3552396374   \n",
       "1038  fee7aed833af0d6785bccc337e933a23  e27af30cacc9a7a59cfa7109699fcccf   \n",
       "1039  fee7aed833af0d6785bccc337e933a23  e2c33d11421231f06644fbfc063a76f9   \n",
       "1041  fee7aed833af0d6785bccc337e933a23  f8072f68d119bd9516fd8559c277e174   \n",
       "\n",
       "      days_since_test  \n",
       "5855               38  \n",
       "5856               38  \n",
       "5858               38  \n",
       "5860               38  \n",
       "455              -430  \n",
       "...               ...  \n",
       "1036             -168  \n",
       "1037             -168  \n",
       "1038             -168  \n",
       "1039             -168  \n",
       "1041             -168  \n",
       "\n",
       "[2204 rows x 3 columns]"
      ]
     },
     "execution_count": 94,
     "metadata": {},
     "output_type": "execute_result"
    }
   ],
   "source": [
    "dst_comp[~comparison_column]"
   ]
  },
  {
   "cell_type": "code",
   "execution_count": 7,
   "metadata": {},
   "outputs": [
    {
     "name": "stderr",
     "output_type": "stream",
     "text": [
      "C:\\Users\\klein\\AppData\\Roaming\\Python\\Python37\\site-packages\\IPython\\core\\interactiveshell.py:3343: DtypeWarning: Columns (4,5,48) have mixed types.Specify dtype option on import or set low_memory=False.\n",
      "  exec(code_obj, self.user_global_ns, self.user_ns)\n"
     ]
    },
    {
     "name": "stdout",
     "output_type": "stream",
     "text": [
      "{'RowSpacing', 'ColumnSpacing', 'NumberOfSlices', 'days_since_test'}\n"
     ]
    },
    {
     "name": "stderr",
     "output_type": "stream",
     "text": [
      "C:\\Users\\klein\\AppData\\Roaming\\Python\\Python37\\site-packages\\IPython\\core\\interactiveshell.py:3343: DtypeWarning: Columns (5) have mixed types.Specify dtype option on import or set low_memory=False.\n",
      "  exec(code_obj, self.user_global_ns, self.user_ns)\n"
     ]
    }
   ],
   "source": [
    "df_keys = pd.read_csv(join(csv_folder, 'neg_pos.csv')).keys()\n",
    "dfc_keys = pd.read_csv(join(csv_folder, 'neg_pos_clean.csv')).keys()\n",
    "missing_keys = set(dfc_keys).difference(set(df_keys))\n",
    "print(missing_keys)"
   ]
  },
  {
   "cell_type": "markdown",
   "metadata": {},
   "source": [
    "# Merge all negatives"
   ]
  },
  {
   "cell_type": "code",
   "execution_count": 4,
   "metadata": {},
   "outputs": [
    {
     "name": "stderr",
     "output_type": "stream",
     "text": [
      "C:\\Users\\klein\\AppData\\Roaming\\Python\\Python37\\site-packages\\IPython\\core\\interactiveshell.py:3343: DtypeWarning: Columns (4,5) have mixed types.Specify dtype option on import or set low_memory=False.\n",
      "  exec(code_obj, self.user_global_ns, self.user_ns)\n"
     ]
    }
   ],
   "source": [
    "\n",
    "df_neg_all = pd.read_csv(join(csv_folder, 'neg_all.csv'))"
   ]
  },
  {
   "cell_type": "code",
   "execution_count": 8,
   "metadata": {},
   "outputs": [
    {
     "data": {
      "text/html": [
       "<div>\n",
       "<style scoped>\n",
       "    .dataframe tbody tr th:only-of-type {\n",
       "        vertical-align: middle;\n",
       "    }\n",
       "\n",
       "    .dataframe tbody tr th {\n",
       "        vertical-align: top;\n",
       "    }\n",
       "\n",
       "    .dataframe thead th {\n",
       "        text-align: right;\n",
       "    }\n",
       "</style>\n",
       "<table border=\"1\" class=\"dataframe\">\n",
       "  <thead>\n",
       "    <tr style=\"text-align: right;\">\n",
       "      <th></th>\n",
       "      <th>SeriesInstanceUID</th>\n",
       "      <th>StudyInstanceUID</th>\n",
       "      <th>PatientID</th>\n",
       "      <th>AngioFlag</th>\n",
       "      <th>AcquisitionMatrix</th>\n",
       "      <th>AcquisitionContrast</th>\n",
       "      <th>AcquisitionDuration</th>\n",
       "      <th>dBdt</th>\n",
       "      <th>EchoTime</th>\n",
       "      <th>EchoTrainLength</th>\n",
       "      <th>...</th>\n",
       "      <th>SequenceName</th>\n",
       "      <th>ScanOptions</th>\n",
       "      <th>SeriesDescription</th>\n",
       "      <th>SoftwareVersions</th>\n",
       "      <th>SliceThickness</th>\n",
       "      <th>StudyPriorityID</th>\n",
       "      <th>PatientPosition.1</th>\n",
       "      <th>SpacingBetweenSlices</th>\n",
       "      <th>SecondEcho</th>\n",
       "      <th>VariableFlipAngleFlag</th>\n",
       "    </tr>\n",
       "  </thead>\n",
       "  <tbody>\n",
       "    <tr>\n",
       "      <th>0</th>\n",
       "      <td>NaN</td>\n",
       "      <td>NaN</td>\n",
       "      <td>NaN</td>\n",
       "      <td>NaN</td>\n",
       "      <td>NaN</td>\n",
       "      <td>NaN</td>\n",
       "      <td>NaN</td>\n",
       "      <td>NaN</td>\n",
       "      <td>NaN</td>\n",
       "      <td>NaN</td>\n",
       "      <td>...</td>\n",
       "      <td>NaN</td>\n",
       "      <td>NaN</td>\n",
       "      <td>NaN</td>\n",
       "      <td>NaN</td>\n",
       "      <td>NaN</td>\n",
       "      <td>NaN</td>\n",
       "      <td>NaN</td>\n",
       "      <td>NaN</td>\n",
       "      <td>NaN</td>\n",
       "      <td>NaN</td>\n",
       "    </tr>\n",
       "    <tr>\n",
       "      <th>1</th>\n",
       "      <td>NaN</td>\n",
       "      <td>NaN</td>\n",
       "      <td>NaN</td>\n",
       "      <td>NaN</td>\n",
       "      <td>NaN</td>\n",
       "      <td>NaN</td>\n",
       "      <td>NaN</td>\n",
       "      <td>NaN</td>\n",
       "      <td>NaN</td>\n",
       "      <td>NaN</td>\n",
       "      <td>...</td>\n",
       "      <td>NaN</td>\n",
       "      <td>NaN</td>\n",
       "      <td>NaN</td>\n",
       "      <td>NaN</td>\n",
       "      <td>NaN</td>\n",
       "      <td>NaN</td>\n",
       "      <td>NaN</td>\n",
       "      <td>NaN</td>\n",
       "      <td>NaN</td>\n",
       "      <td>NaN</td>\n",
       "    </tr>\n",
       "    <tr>\n",
       "      <th>2</th>\n",
       "      <td>NaN</td>\n",
       "      <td>NaN</td>\n",
       "      <td>NaN</td>\n",
       "      <td>NaN</td>\n",
       "      <td>NaN</td>\n",
       "      <td>NaN</td>\n",
       "      <td>NaN</td>\n",
       "      <td>NaN</td>\n",
       "      <td>NaN</td>\n",
       "      <td>NaN</td>\n",
       "      <td>...</td>\n",
       "      <td>NaN</td>\n",
       "      <td>NaN</td>\n",
       "      <td>NaN</td>\n",
       "      <td>NaN</td>\n",
       "      <td>NaN</td>\n",
       "      <td>NaN</td>\n",
       "      <td>NaN</td>\n",
       "      <td>NaN</td>\n",
       "      <td>NaN</td>\n",
       "      <td>NaN</td>\n",
       "    </tr>\n",
       "    <tr>\n",
       "      <th>3</th>\n",
       "      <td>NaN</td>\n",
       "      <td>NaN</td>\n",
       "      <td>NaN</td>\n",
       "      <td>NaN</td>\n",
       "      <td>NaN</td>\n",
       "      <td>NaN</td>\n",
       "      <td>NaN</td>\n",
       "      <td>NaN</td>\n",
       "      <td>NaN</td>\n",
       "      <td>NaN</td>\n",
       "      <td>...</td>\n",
       "      <td>NaN</td>\n",
       "      <td>NaN</td>\n",
       "      <td>NaN</td>\n",
       "      <td>NaN</td>\n",
       "      <td>NaN</td>\n",
       "      <td>NaN</td>\n",
       "      <td>NaN</td>\n",
       "      <td>NaN</td>\n",
       "      <td>NaN</td>\n",
       "      <td>NaN</td>\n",
       "    </tr>\n",
       "    <tr>\n",
       "      <th>4</th>\n",
       "      <td>NaN</td>\n",
       "      <td>NaN</td>\n",
       "      <td>NaN</td>\n",
       "      <td>NaN</td>\n",
       "      <td>NaN</td>\n",
       "      <td>NaN</td>\n",
       "      <td>NaN</td>\n",
       "      <td>NaN</td>\n",
       "      <td>NaN</td>\n",
       "      <td>NaN</td>\n",
       "      <td>...</td>\n",
       "      <td>NaN</td>\n",
       "      <td>NaN</td>\n",
       "      <td>NaN</td>\n",
       "      <td>NaN</td>\n",
       "      <td>NaN</td>\n",
       "      <td>NaN</td>\n",
       "      <td>NaN</td>\n",
       "      <td>NaN</td>\n",
       "      <td>NaN</td>\n",
       "      <td>NaN</td>\n",
       "    </tr>\n",
       "    <tr>\n",
       "      <th>...</th>\n",
       "      <td>...</td>\n",
       "      <td>...</td>\n",
       "      <td>...</td>\n",
       "      <td>...</td>\n",
       "      <td>...</td>\n",
       "      <td>...</td>\n",
       "      <td>...</td>\n",
       "      <td>...</td>\n",
       "      <td>...</td>\n",
       "      <td>...</td>\n",
       "      <td>...</td>\n",
       "      <td>...</td>\n",
       "      <td>...</td>\n",
       "      <td>...</td>\n",
       "      <td>...</td>\n",
       "      <td>...</td>\n",
       "      <td>...</td>\n",
       "      <td>...</td>\n",
       "      <td>...</td>\n",
       "      <td>...</td>\n",
       "      <td>...</td>\n",
       "    </tr>\n",
       "    <tr>\n",
       "      <th>315925</th>\n",
       "      <td>745dd7d98c52d643b6fd250fb3c8ca8b</td>\n",
       "      <td>450207a76fc81c60418f0cc94edc123f</td>\n",
       "      <td>fffe1330607e4941c51438ab0c0971b4</td>\n",
       "      <td>N</td>\n",
       "      <td>[0, 256, 250, 0]</td>\n",
       "      <td>NaN</td>\n",
       "      <td>NaN</td>\n",
       "      <td>0.0</td>\n",
       "      <td>333.00</td>\n",
       "      <td>137.0</td>\n",
       "      <td>...</td>\n",
       "      <td>*spcir3d1_274ns</td>\n",
       "      <td>['IR', 'PFP', 'SAT1']</td>\n",
       "      <td>FLAIR cor</td>\n",
       "      <td>syngo MR B19</td>\n",
       "      <td>1.0</td>\n",
       "      <td>LOW</td>\n",
       "      <td>HFS</td>\n",
       "      <td>NaN</td>\n",
       "      <td>NaN</td>\n",
       "      <td>Y</td>\n",
       "    </tr>\n",
       "    <tr>\n",
       "      <th>315928</th>\n",
       "      <td>aa5f07e706901e9868311b62cbb76d38</td>\n",
       "      <td>450207a76fc81c60418f0cc94edc123f</td>\n",
       "      <td>fffe1330607e4941c51438ab0c0971b4</td>\n",
       "      <td>N</td>\n",
       "      <td>[0, 256, 256, 0]</td>\n",
       "      <td>NaN</td>\n",
       "      <td>NaN</td>\n",
       "      <td>0.0</td>\n",
       "      <td>2.92</td>\n",
       "      <td>1.0</td>\n",
       "      <td>...</td>\n",
       "      <td>*tfl3d1_ns</td>\n",
       "      <td>IR</td>\n",
       "      <td>MPR tra</td>\n",
       "      <td>syngo MR B19</td>\n",
       "      <td>1.0</td>\n",
       "      <td>LOW</td>\n",
       "      <td>HFS</td>\n",
       "      <td>NaN</td>\n",
       "      <td>NaN</td>\n",
       "      <td>N</td>\n",
       "    </tr>\n",
       "    <tr>\n",
       "      <th>315930</th>\n",
       "      <td>b6b0117a50349a9510472a4c183624a8</td>\n",
       "      <td>450207a76fc81c60418f0cc94edc123f</td>\n",
       "      <td>fffe1330607e4941c51438ab0c0971b4</td>\n",
       "      <td>N</td>\n",
       "      <td>[0, 256, 256, 0]</td>\n",
       "      <td>NaN</td>\n",
       "      <td>NaN</td>\n",
       "      <td>0.0</td>\n",
       "      <td>2.92</td>\n",
       "      <td>1.0</td>\n",
       "      <td>...</td>\n",
       "      <td>*tfl3d1_ns</td>\n",
       "      <td>IR</td>\n",
       "      <td>MPR cor +Gd</td>\n",
       "      <td>syngo MR B19</td>\n",
       "      <td>1.0</td>\n",
       "      <td>LOW</td>\n",
       "      <td>HFS</td>\n",
       "      <td>NaN</td>\n",
       "      <td>NaN</td>\n",
       "      <td>N</td>\n",
       "    </tr>\n",
       "    <tr>\n",
       "      <th>315932</th>\n",
       "      <td>d558cb734128ac0c344e017d211c4baa</td>\n",
       "      <td>450207a76fc81c60418f0cc94edc123f</td>\n",
       "      <td>fffe1330607e4941c51438ab0c0971b4</td>\n",
       "      <td>N</td>\n",
       "      <td>[0, 256, 256, 0]</td>\n",
       "      <td>NaN</td>\n",
       "      <td>NaN</td>\n",
       "      <td>0.0</td>\n",
       "      <td>2.92</td>\n",
       "      <td>1.0</td>\n",
       "      <td>...</td>\n",
       "      <td>*tfl3d1_ns</td>\n",
       "      <td>IR</td>\n",
       "      <td>MPR cor</td>\n",
       "      <td>syngo MR B19</td>\n",
       "      <td>1.0</td>\n",
       "      <td>LOW</td>\n",
       "      <td>HFS</td>\n",
       "      <td>NaN</td>\n",
       "      <td>NaN</td>\n",
       "      <td>N</td>\n",
       "    </tr>\n",
       "    <tr>\n",
       "      <th>315933</th>\n",
       "      <td>e41abe1785ce8f99f3ef0081177079b7</td>\n",
       "      <td>450207a76fc81c60418f0cc94edc123f</td>\n",
       "      <td>fffe1330607e4941c51438ab0c0971b4</td>\n",
       "      <td>N</td>\n",
       "      <td>[0, 256, 256, 0]</td>\n",
       "      <td>NaN</td>\n",
       "      <td>NaN</td>\n",
       "      <td>0.0</td>\n",
       "      <td>2.92</td>\n",
       "      <td>1.0</td>\n",
       "      <td>...</td>\n",
       "      <td>*tfl3d1_ns</td>\n",
       "      <td>IR</td>\n",
       "      <td>MPR tra +Gd</td>\n",
       "      <td>syngo MR B19</td>\n",
       "      <td>1.0</td>\n",
       "      <td>LOW</td>\n",
       "      <td>HFS</td>\n",
       "      <td>NaN</td>\n",
       "      <td>NaN</td>\n",
       "      <td>N</td>\n",
       "    </tr>\n",
       "  </tbody>\n",
       "</table>\n",
       "<p>52444 rows × 48 columns</p>\n",
       "</div>"
      ],
      "text/plain": [
       "                       SeriesInstanceUID                  StudyInstanceUID  \\\n",
       "0                                    NaN                               NaN   \n",
       "1                                    NaN                               NaN   \n",
       "2                                    NaN                               NaN   \n",
       "3                                    NaN                               NaN   \n",
       "4                                    NaN                               NaN   \n",
       "...                                  ...                               ...   \n",
       "315925  745dd7d98c52d643b6fd250fb3c8ca8b  450207a76fc81c60418f0cc94edc123f   \n",
       "315928  aa5f07e706901e9868311b62cbb76d38  450207a76fc81c60418f0cc94edc123f   \n",
       "315930  b6b0117a50349a9510472a4c183624a8  450207a76fc81c60418f0cc94edc123f   \n",
       "315932  d558cb734128ac0c344e017d211c4baa  450207a76fc81c60418f0cc94edc123f   \n",
       "315933  e41abe1785ce8f99f3ef0081177079b7  450207a76fc81c60418f0cc94edc123f   \n",
       "\n",
       "                               PatientID AngioFlag AcquisitionMatrix  \\\n",
       "0                                    NaN       NaN               NaN   \n",
       "1                                    NaN       NaN               NaN   \n",
       "2                                    NaN       NaN               NaN   \n",
       "3                                    NaN       NaN               NaN   \n",
       "4                                    NaN       NaN               NaN   \n",
       "...                                  ...       ...               ...   \n",
       "315925  fffe1330607e4941c51438ab0c0971b4         N  [0, 256, 250, 0]   \n",
       "315928  fffe1330607e4941c51438ab0c0971b4         N  [0, 256, 256, 0]   \n",
       "315930  fffe1330607e4941c51438ab0c0971b4         N  [0, 256, 256, 0]   \n",
       "315932  fffe1330607e4941c51438ab0c0971b4         N  [0, 256, 256, 0]   \n",
       "315933  fffe1330607e4941c51438ab0c0971b4         N  [0, 256, 256, 0]   \n",
       "\n",
       "       AcquisitionContrast  AcquisitionDuration  dBdt  EchoTime  \\\n",
       "0                      NaN                  NaN   NaN       NaN   \n",
       "1                      NaN                  NaN   NaN       NaN   \n",
       "2                      NaN                  NaN   NaN       NaN   \n",
       "3                      NaN                  NaN   NaN       NaN   \n",
       "4                      NaN                  NaN   NaN       NaN   \n",
       "...                    ...                  ...   ...       ...   \n",
       "315925                 NaN                  NaN   0.0    333.00   \n",
       "315928                 NaN                  NaN   0.0      2.92   \n",
       "315930                 NaN                  NaN   0.0      2.92   \n",
       "315932                 NaN                  NaN   0.0      2.92   \n",
       "315933                 NaN                  NaN   0.0      2.92   \n",
       "\n",
       "        EchoTrainLength  ...     SequenceName            ScanOptions  \\\n",
       "0                   NaN  ...              NaN                    NaN   \n",
       "1                   NaN  ...              NaN                    NaN   \n",
       "2                   NaN  ...              NaN                    NaN   \n",
       "3                   NaN  ...              NaN                    NaN   \n",
       "4                   NaN  ...              NaN                    NaN   \n",
       "...                 ...  ...              ...                    ...   \n",
       "315925            137.0  ...  *spcir3d1_274ns  ['IR', 'PFP', 'SAT1']   \n",
       "315928              1.0  ...       *tfl3d1_ns                     IR   \n",
       "315930              1.0  ...       *tfl3d1_ns                     IR   \n",
       "315932              1.0  ...       *tfl3d1_ns                     IR   \n",
       "315933              1.0  ...       *tfl3d1_ns                     IR   \n",
       "\n",
       "       SeriesDescription  SoftwareVersions  SliceThickness StudyPriorityID  \\\n",
       "0                    NaN               NaN             NaN             NaN   \n",
       "1                    NaN               NaN             NaN             NaN   \n",
       "2                    NaN               NaN             NaN             NaN   \n",
       "3                    NaN               NaN             NaN             NaN   \n",
       "4                    NaN               NaN             NaN             NaN   \n",
       "...                  ...               ...             ...             ...   \n",
       "315925         FLAIR cor      syngo MR B19             1.0             LOW   \n",
       "315928           MPR tra      syngo MR B19             1.0             LOW   \n",
       "315930       MPR cor +Gd      syngo MR B19             1.0             LOW   \n",
       "315932           MPR cor      syngo MR B19             1.0             LOW   \n",
       "315933       MPR tra +Gd      syngo MR B19             1.0             LOW   \n",
       "\n",
       "       PatientPosition.1  SpacingBetweenSlices  SecondEcho  \\\n",
       "0                    NaN                   NaN         NaN   \n",
       "1                    NaN                   NaN         NaN   \n",
       "2                    NaN                   NaN         NaN   \n",
       "3                    NaN                   NaN         NaN   \n",
       "4                    NaN                   NaN         NaN   \n",
       "...                  ...                   ...         ...   \n",
       "315925               HFS                   NaN         NaN   \n",
       "315928               HFS                   NaN         NaN   \n",
       "315930               HFS                   NaN         NaN   \n",
       "315932               HFS                   NaN         NaN   \n",
       "315933               HFS                   NaN         NaN   \n",
       "\n",
       "       VariableFlipAngleFlag  \n",
       "0                        NaN  \n",
       "1                        NaN  \n",
       "2                        NaN  \n",
       "3                        NaN  \n",
       "4                        NaN  \n",
       "...                      ...  \n",
       "315925                     Y  \n",
       "315928                     N  \n",
       "315930                     N  \n",
       "315932                     N  \n",
       "315933                     N  \n",
       "\n",
       "[52444 rows x 48 columns]"
      ]
     },
     "execution_count": 8,
     "metadata": {},
     "output_type": "execute_result"
    }
   ],
   "source": [
    "df_neg_all[df_neg_all.InstanceCreationDate.isnull()]"
   ]
  },
  {
   "cell_type": "code",
   "execution_count": 3,
   "metadata": {},
   "outputs": [
    {
     "name": "stderr",
     "output_type": "stream",
     "text": [
      "ipykernel_launcher:7: DtypeWarning: Columns (5) have mixed types.Specify dtype option on import or set low_memory=False.\n"
     ]
    }
   ],
   "source": [
    "df_neg_list = [pd.read_csv(csv_path, encoding= 'unicode_escape') for csv_path in\n",
    "               neg_tab_dirs]\n",
    "df_all_neg_2019 = pd.concat(df_neg_list, axis=0, join=\"outer\")\n",
    "# In[Write it to a csv]\n",
    "df_all_neg_2019.to_csv(f\"{csv_folder}/neg_all.csv\", index=False,\n",
    " header=True)"
   ]
  },
  {
   "cell_type": "markdown",
   "metadata": {},
   "source": [
    "# Merge negatives and positives"
   ]
  },
  {
   "cell_type": "code",
   "execution_count": 9,
   "metadata": {},
   "outputs": [],
   "source": [
    "df_pos = utils.load_scan_csv(join(csv_folder, 'pos.csv'))"
   ]
  },
  {
   "cell_type": "code",
   "execution_count": 12,
   "metadata": {},
   "outputs": [],
   "source": [
    "df_all = pd.concat([df_all_neg_2019, df_pos], axis=0, join=\"outer\")\n",
    "df_all.to_csv(f\"{csv_folder}/neg_pos.csv\", index=False,\n",
    " header=True)"
   ]
  },
  {
   "cell_type": "code",
   "execution_count": 13,
   "metadata": {},
   "outputs": [
    {
     "data": {
      "text/plain": [
       "Index(['SeriesInstanceUID', 'StudyInstanceUID', 'PatientID', 'AngioFlag',\n",
       "       'AcquisitionMatrix', 'AcquisitionContrast', 'AcquisitionDuration',\n",
       "       'dBdt', 'EchoTime', 'EchoTrainLength', 'EchoNumbers', 'FlipAngle',\n",
       "       'FrameOfReferenceUID', 'ImagingFrequency', 'ImagedNuclues',\n",
       "       'InstanceCreationDate', 'InstanceCreationTime', 'InversionTime',\n",
       "       'ImagesInAcquisition', 'ImageType', 'MagneticFieldStrength',\n",
       "       'Manufacturer', 'ManufacturerModelName', 'MRAcquisitionType',\n",
       "       'NumberofAverages', 'NumberOfEchoes', 'NumberofPhaseEncodingSteps',\n",
       "       'PatientPosition', 'PixelBandwith', 'PixelPresentation', 'PixelSpacing',\n",
       "       'PhotometricInterpretation', 'PulseSequenceName', 'RepetitionTime',\n",
       "       'Rows', 'Columns', 'ScanningSequence', 'SequenceVariant',\n",
       "       'SequenceName', 'ScanOptions', 'SeriesDescription', 'SoftwareVersions',\n",
       "       'SliceThickness', 'StudyPriorityID', 'PatientPosition.1',\n",
       "       'SpacingBetweenSlices', 'SecondEcho', 'VariableFlipAngleFlag',\n",
       "       'DateTime'],\n",
       "      dtype='object')"
      ]
     },
     "execution_count": 13,
     "metadata": {},
     "output_type": "execute_result"
    }
   ],
   "source": [
    "df_all.keys()"
   ]
  },
  {
   "cell_type": "code",
   "execution_count": 14,
   "metadata": {},
   "outputs": [],
   "source": [
    "df_pred = pd.read_csv(f\"{csv_folder}/pred_seq.csv\")"
   ]
  },
  {
   "cell_type": "markdown",
   "metadata": {},
   "source": [
    "# Add Sequence Prediction"
   ]
  },
  {
   "cell_type": "code",
   "execution_count": 17,
   "metadata": {},
   "outputs": [],
   "source": [
    "df_all = df_all.merge(df_pred.drop(labels=['PatientID', 'InstanceCreationDate'], axis=1), on='SeriesInstanceUID', how='inner')"
   ]
  },
  {
   "cell_type": "code",
   "execution_count": 20,
   "metadata": {},
   "outputs": [
    {
     "data": {
      "text/plain": [
       "Index(['SeriesInstanceUID', 'StudyInstanceUID', 'PatientID', 'AngioFlag',\n",
       "       'AcquisitionMatrix', 'AcquisitionContrast', 'AcquisitionDuration',\n",
       "       'dBdt', 'EchoTime', 'EchoTrainLength', 'EchoNumbers', 'FlipAngle',\n",
       "       'FrameOfReferenceUID', 'ImagingFrequency', 'ImagedNuclues',\n",
       "       'InstanceCreationDate', 'InstanceCreationTime', 'InversionTime',\n",
       "       'ImagesInAcquisition', 'ImageType', 'MagneticFieldStrength',\n",
       "       'Manufacturer', 'ManufacturerModelName', 'MRAcquisitionType',\n",
       "       'NumberofAverages', 'NumberOfEchoes', 'NumberofPhaseEncodingSteps',\n",
       "       'PatientPosition', 'PixelBandwith', 'PixelPresentation', 'PixelSpacing',\n",
       "       'PhotometricInterpretation', 'PulseSequenceName', 'RepetitionTime',\n",
       "       'Rows', 'Columns', 'ScanningSequence', 'SequenceVariant',\n",
       "       'SequenceName', 'ScanOptions', 'SeriesDescription', 'SoftwareVersions',\n",
       "       'SliceThickness', 'StudyPriorityID', 'PatientPosition.1',\n",
       "       'SpacingBetweenSlices', 'SecondEcho', 'VariableFlipAngleFlag',\n",
       "       'DateTime', 'Sequence', 'TrueSequenceType', 'Directory'],\n",
       "      dtype='object')"
      ]
     },
     "execution_count": 20,
     "metadata": {},
     "output_type": "execute_result"
    }
   ],
   "source": [
    "df_directory = pd.read_csv(f\"{csv_folder}/series_directories_sif.csv\")\n",
    "df_all_final = df_all.merge(df_directory, on='SeriesInstanceUID', how='inner')\n",
    "df_all_final.keys()"
   ]
  },
  {
   "cell_type": "code",
   "execution_count": 21,
   "metadata": {},
   "outputs": [],
   "source": [
    "df_all_final = df_all_final.rename(columns={'Directory': 'DirectorySIF'})"
   ]
  },
  {
   "cell_type": "code",
   "execution_count": null,
   "metadata": {},
   "outputs": [],
   "source": [
    "def pixelspacing_convert(x, axis): \n",
    "    try:\n",
    "        return x[axis]\n",
    "    except:\n",
    "        None\n",
    "df_all['xPixelSpacing'] = df_all.PixelSpacing.map(lambda x: pixelspacing_convert(x, 0))\n",
    "df_all['yPixelSpacing'] = df_all.PixelSpacing.map(lambda x: pixelspacing_convert(x, 1))"
   ]
  },
  {
   "cell_type": "markdown",
   "metadata": {},
   "source": [
    "## Remember to add Positive column and DateTime"
   ]
  },
  {
   "cell_type": "code",
   "execution_count": 22,
   "metadata": {},
   "outputs": [],
   "source": [
    "df_all.to_csv(f\"{csv_folder}/neg_pos.csv\", index=False, header=True)"
   ]
  },
  {
   "cell_type": "markdown",
   "metadata": {},
   "source": [
    "## Clean"
   ]
  },
  {
   "cell_type": "code",
   "execution_count": 26,
   "metadata": {},
   "outputs": [
    {
     "name": "stdout",
     "output_type": "stream",
     "text": [
      "after removing other sequences there are 207027 volumes\n"
     ]
    }
   ],
   "source": [
    "df_clean = df_all[~(df_all.Sequence=='other')]\n",
    "print(f\"after removing other sequences there are {len(df_clean)} volumes\")"
   ]
  },
  {
   "cell_type": "code",
   "execution_count": 27,
   "metadata": {},
   "outputs": [
    {
     "name": "stdout",
     "output_type": "stream",
     "text": [
      "after removing sequences with no date there are 178578 volumes\n"
     ]
    }
   ],
   "source": [
    "df_cclean = df_clean[~df_clean.InstanceCreationDate.isnull()]\n",
    "print(f\"after removing sequences with no date there are {len(df_cclean)} volumes\")"
   ]
  },
  {
   "cell_type": "code",
   "execution_count": 28,
   "metadata": {},
   "outputs": [],
   "source": [
    "df_cclean.to_csv(f\"{csv_folder}/neg_pos_clean.csv\", index=False, header=True)"
   ]
  }
 ],
 "metadata": {
  "interpreter": {
   "hash": "fd64557248a61079a8b01b27957eac8e3bd9d72e2f60908e3e6321fba2096ec7"
  },
  "kernelspec": {
   "display_name": "Python 3.7.11 64-bit ('cobra': conda)",
   "name": "python3"
  },
  "language_info": {
   "codemirror_mode": {
    "name": "ipython",
    "version": 3
   },
   "file_extension": ".py",
   "mimetype": "text/x-python",
   "name": "python",
   "nbconvert_exporter": "python",
   "pygments_lexer": "ipython3",
   "version": "3.7.11"
  },
  "orig_nbformat": 4
 },
 "nbformat": 4,
 "nbformat_minor": 2
}
