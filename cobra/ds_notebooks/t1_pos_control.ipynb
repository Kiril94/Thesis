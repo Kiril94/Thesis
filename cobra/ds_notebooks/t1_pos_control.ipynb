{
 "cells": [
  {
   "cell_type": "code",
   "execution_count": 1,
   "metadata": {},
   "outputs": [
    {
     "data": {
      "text/plain": [
       "<module 'utilities.utils' from 'D:/Thesis/Cobra/cobra\\\\utilities\\\\utils.py'>"
      ]
     },
     "execution_count": 1,
     "metadata": {},
     "output_type": "execute_result"
    }
   ],
   "source": [
    "import sys\n",
    "base_dir = \"D:/Thesis/Cobra/cobra/\"\n",
    "if base_dir not in sys.path:\n",
    "    sys.path.append(base_dir)\n",
    "from os.path import join\n",
    "import pandas as pd\n",
    "import seaborn as sns\n",
    "from utilities import basic, utils, mri_stats, stats\n",
    "from stats_tools import vis as svis\n",
    "import numpy as np\n",
    "import seaborn as sns\n",
    "from access_sif_data import load_data_tools as ld\n",
    "import matplotlib.pyplot as plt\n",
    "from datetime import datetime as dt\n",
    "%matplotlib inline\n",
    "plt.rcParams[\"figure.dpi\"] = 40\n",
    "plt.style.use('ggplot')\n",
    "import importlib\n",
    "importlib.reload(utils)"
   ]
  },
  {
   "cell_type": "code",
   "execution_count": 20,
   "metadata": {},
   "outputs": [],
   "source": [
    "def up(df): return df.PatientID.nunique()"
   ]
  },
  {
   "cell_type": "code",
   "execution_count": 29,
   "metadata": {},
   "outputs": [
    {
     "name": "stderr",
     "output_type": "stream",
     "text": [
      "C:\\Users\\klein\\AppData\\Roaming\\Python\\Python37\\site-packages\\ipykernel_launcher.py:3: DtypeWarning: Columns (5) have mixed types.Specify dtype option on import or set low_memory=False.\n",
      "  This is separate from the ipykernel package so we can avoid doing imports until\n"
     ]
    }
   ],
   "source": [
    "fig_dir = join(base_dir, 'figs')\n",
    "table_dir = join(base_dir, 'data/tables')\n",
    "dfc = utils.load_scan_csv(join(table_dir, 'neg_pos_clean.csv'))"
   ]
  },
  {
   "cell_type": "code",
   "execution_count": 31,
   "metadata": {},
   "outputs": [],
   "source": [
    "df_nos = dfc.dropna(subset=['NumberOfSlices'])\n",
    "df_nos.to_csv(join(table_dir, 'neg_pos_clean_nos.csv'), \n",
    "    columns=['PatientID','SeriesInstanceUID','NumberOfSlices'],\n",
    "    index=False)"
   ]
  },
  {
   "cell_type": "code",
   "execution_count": 24,
   "metadata": {},
   "outputs": [
    {
     "name": "stderr",
     "output_type": "stream",
     "text": [
      "C:\\Users\\klein\\AppData\\Roaming\\Python\\Python37\\site-packages\\ipykernel_launcher.py:1: DtypeWarning: Columns (5) have mixed types.Specify dtype option on import or set low_memory=False.\n",
      "  \"\"\"Entry point for launching an IPython kernel.\n"
     ]
    }
   ],
   "source": [
    "df = utils.load_scan_csv(join(table_dir, 'neg_pos.csv'))"
   ]
  },
  {
   "cell_type": "code",
   "execution_count": 141,
   "metadata": {},
   "outputs": [
    {
     "data": {
      "text/plain": [
       "786"
      ]
     },
     "execution_count": 141,
     "metadata": {},
     "output_type": "execute_result"
    }
   ],
   "source": [
    "dfc[dfc.Positive==1].PatientID.nunique()"
   ]
  },
  {
   "cell_type": "code",
   "execution_count": 3,
   "metadata": {},
   "outputs": [],
   "source": [
    "df_volume_dir = pd.read_csv(join(table_dir, 'series_directories.csv'))\n",
    "volume_dir_dic = pd.Series(\n",
    "    df_volume_dir.Directory.values, index=df_volume_dir.SeriesInstanceUID)\\\n",
    "        .to_dict()"
   ]
  },
  {
   "cell_type": "code",
   "execution_count": 60,
   "metadata": {},
   "outputs": [],
   "source": [
    "df_3d = dfc[dfc.MRAcquisitionType=='3D']\n",
    "df_2d = dfc[dfc.MRAcquisitionType=='2D']\n",
    "df_3d[['SeriesDescription', 'PatientID', 'SeriesInstanceUID']].to_csv(join(base_dir,'data','temp','3d.csv'), index=False)\n",
    "from scipy import stats\n",
    "x = df_3d.NumberOfSlices\n",
    "df_3d_rm_outliers = df_3d[x.between(x.quantile(.5), x.quantile(.95))]\n",
    "nos_3d_min = df_3d_rm_outliers.NumberOfSlices.min()"
   ]
  },
  {
   "cell_type": "code",
   "execution_count": 64,
   "metadata": {},
   "outputs": [
    {
     "data": {
      "text/plain": [
       "(<Figure size 400x400 with 1 Axes>, <AxesSubplot:>)"
      ]
     },
     "execution_count": 64,
     "metadata": {},
     "output_type": "execute_result"
    },
    {
     "data": {
      "image/png": "[encoded data removed]",
      "text/plain": [
       "<Figure size 400x400 with 1 Axes>"
      ]
     },
     "metadata": {},
     "output_type": "display_data"
    }
   ],
   "source": [
    "svis.create_boxplot(np.array(df_2d.NumberOfSlices), data_labels=['s'])"
   ]
  },
  {
   "cell_type": "code",
   "execution_count": 4,
   "metadata": {},
   "outputs": [],
   "source": [
    "# Lists of relevant patients\n",
    "ls_t1_pp = np.loadtxt(\"D:\\Thesis\\Cobra\\cobra\\data\\patient_groups\\\\t1_pre_post.txt\", dtype=str)\n",
    "ls_t1_post = np.loadtxt(\"D:\\Thesis\\Cobra\\cobra\\data\\patient_groups\\\\t1_post.txt\", dtype=str)\n",
    "#ls_t1_pos = np.loadtxt(\"D:\\Thesis\\Cobra\\cobra\\data\\patient_groups\\\\t1_pos.txt\", dtype=str)\n",
    "ls_t1_neg = np.loadtxt(\"D:\\Thesis\\Cobra\\cobra\\data\\patient_groups\\\\t1_neg.txt\", dtype=str)\n",
    "ls_t1_ppp = list(set(ls_t1_pp).union(set(ls_t1_post)))"
   ]
  },
  {
   "cell_type": "code",
   "execution_count": 17,
   "metadata": {},
   "outputs": [],
   "source": [
    "df_t1_all = dfc[dfc.Sequence=='t1']\n",
    "df_pp = dfc[(dfc.PatientID.isin(ls_t1_pp)) & (dfc.Sequence=='t1')]\n",
    "df_pp_3d = dfc[(dfc.PatientID.isin(ls_t1_pp)) & (dfc.Sequence=='t1') \\\n",
    "    & (dfc.MRbAcquisitionType=='3D') & (dfc.NumberOfSlices>50)]\n",
    "df_post = dfc[(dfc.PatientID.isin(ls_t1_post)) & (dfc.Sequence=='t1')]"
   ]
  },
  {
   "cell_type": "code",
   "execution_count": 27,
   "metadata": {},
   "outputs": [],
   "source": [
    "df_pp_all = df[df.PatientID.isin(ls_t1_pp)]"
   ]
  },
  {
   "cell_type": "code",
   "execution_count": 28,
   "metadata": {},
   "outputs": [
    {
     "data": {
      "text/plain": [
       "34"
      ]
     },
     "execution_count": 28,
     "metadata": {},
     "output_type": "execute_result"
    }
   ],
   "source": [
    "up(df_pp_all)"
   ]
  },
  {
   "cell_type": "code",
   "execution_count": 21,
   "metadata": {},
   "outputs": [
    {
     "data": {
      "text/plain": [
       "25"
      ]
     },
     "execution_count": 21,
     "metadata": {},
     "output_type": "execute_result"
    }
   ],
   "source": [
    "up(df_pp[df_pp.days_since_test>-3])"
   ]
  },
  {
   "cell_type": "code",
   "execution_count": 19,
   "metadata": {},
   "outputs": [
    {
     "data": {
      "text/plain": [
       "33"
      ]
     },
     "execution_count": 19,
     "metadata": {},
     "output_type": "execute_result"
    }
   ],
   "source": [
    "df_pp_3d.PatientID.nunique()"
   ]
  },
  {
   "cell_type": "markdown",
   "metadata": {},
   "source": [
    "# Merge number of slices df with dfc and save"
   ]
  },
  {
   "cell_type": "code",
   "execution_count": 16,
   "metadata": {},
   "outputs": [],
   "source": [
    "#present_ids = dfc[~dfc.NumberOfSlices.isna()].SeriesInstanceUID.unique()\n",
    "#df_flair_missing = df_flair_all[~df_flair_all.SeriesInstanceUID.isin(present_ids)]"
   ]
  },
  {
   "cell_type": "code",
   "execution_count": 17,
   "metadata": {},
   "outputs": [],
   "source": [
    "#utils.save_nscans_to_txt(df_flair_missing, \n",
    "#        f\"{base_dir}/data/temp/flair_n_slices.txt\", 'Y:', 'G:\\\\')"
   ]
  },
  {
   "cell_type": "code",
   "execution_count": 18,
   "metadata": {},
   "outputs": [],
   "source": [
    "#df_flair_nos = pd.read_csv(f\"{base_dir}/data/temp/flair_n_slices.txt\", header=None, \n",
    "#    names=['SeriesInstanceUID','NumberOfSlices'])"
   ]
  },
  {
   "cell_type": "code",
   "execution_count": 19,
   "metadata": {},
   "outputs": [],
   "source": [
    "#df_all = pd.read_csv(join(table_dir, 't1','all.csv'), index_col=0)\n",
    "#dfc = pd.merge(dfc, df_all[['SeriesInstanceUID', 'NumberOfSlices']], on='SeriesInstanceUID', how='left')\n",
    "#dfc = dfc.rename(columns={'xPixelSpacing':'RowSpacing','yPixelSpacing':'ColumnSpacing'})\n",
    "#dfc.loc[dfc.NumberOfSlices.isna(), 'NumberOfSlices'] = dfc.merge(\n",
    "#    df_flair_nos, how='left', on='SeriesInstanceUID')['NumberOfSlices_y']\n",
    "#dfc.to_csv(f\"{table_dir}/neg_pos_clean.csv\", index=False, header=True)"
   ]
  },
  {
   "cell_type": "markdown",
   "metadata": {},
   "source": [
    "# Create Box plots"
   ]
  },
  {
   "cell_type": "markdown",
   "metadata": {},
   "source": [
    "## FLAIR"
   ]
  },
  {
   "cell_type": "code",
   "execution_count": 27,
   "metadata": {},
   "outputs": [
    {
     "data": {
      "image/png": "[encoded data removed]",
      "text/plain": [
       "<Figure size 880x320 with 2 Axes>"
      ]
     },
     "metadata": {},
     "output_type": "display_data"
    }
   ],
   "source": [
    "fig, ax = plt.subplots(1,2, figsize=(22,8))\n",
    "df_flair_all = dfc[dfc.Sequence=='flair']\n",
    "fig, _ = svis.create_boxplot(df_flair_all[['Rows', 'Columns', 'NumberOfSlices', ]], \n",
    "    data_labels=[\"Height\", \"Width\", \"Depth\", ], \n",
    "    kwargs={'xlabel':'',},\n",
    "    fig=fig, ax=ax[0])\n",
    "svis.create_boxplot(df_flair_all[['RowSpacing', 'ColumnSpacing', 'SpacingBetweenSlices','SliceThickness' ]], \n",
    "    data_labels=[\"Pixel \\nSpacing x\", \"Pixel \\nSpacing y\", \n",
    "                \"Slices\\nSpacing\",\"Slice\\nThickness\" ], \n",
    "    kwargs={'xlabel':'','ylabel':'mm', 'yrange':(0,7)},\n",
    "    fig=fig, ax=ax[1])\n",
    "fig.suptitle(\"FLAIR\", fontsize=25)\n",
    "fig.tight_layout()\n",
    "fig.savefig(join(fig_dir, 'flair', 'dimension_box_plot_flair_all.png'))"
   ]
  },
  {
   "cell_type": "code",
   "execution_count": 28,
   "metadata": {},
   "outputs": [
    {
     "data": {
      "image/png": "[encoded data removed]",
      "text/plain": [
       "<Figure size 880x320 with 2 Axes>"
      ]
     },
     "metadata": {},
     "output_type": "display_data"
    }
   ],
   "source": [
    "fig, ax = plt.subplots(1,2, figsize=(22,8))\n",
    "fig, _ = svis.create_boxplot(df_t1_all[['Rows', 'Columns', 'NumberOfSlices', ]], \n",
    "    data_labels=[\"Height\", \"Width\", \"Depth\", ], \n",
    "    kwargs={'xlabel':'','yrange':(0,2500), 'ylabel_fs':50,},\n",
    "    fig=fig, ax=ax[0])\n",
    "svis.create_boxplot(df_t1_all[['RowSpacing', 'ColumnSpacing', 'SpacingBetweenSlices','SliceThickness' ]], \n",
    "    data_labels=[\"Pixel \\nSpacing x\", \"Pixel \\nSpacing y\", \n",
    "                \"Slices\\nSpacing\",\"Slice\\nThickness\" ], \n",
    "    kwargs={'xlabel':'','ylabel':'mm', 'yrange':(0,8)},\n",
    "    fig=fig, ax=ax[1])\n",
    "fig.suptitle(\"T1\", fontsize=25)\n",
    "fig.tight_layout()\n",
    "fig.savefig(join(fig_dir, 't1', 'dimension_box_plot_t1all.png'))"
   ]
  },
  {
   "cell_type": "markdown",
   "metadata": {},
   "source": [
    "## Number of patients with right slice distances (3d volumes)"
   ]
  },
  {
   "cell_type": "code",
   "execution_count": 88,
   "metadata": {},
   "outputs": [
    {
     "data": {
      "text/plain": [
       "<AxesSubplot:>"
      ]
     },
     "execution_count": 88,
     "metadata": {},
     "output_type": "execute_result"
    },
    {
     "data": {
      "image/png": "[encoded data removed]",
      "text/plain": [
       "<Figure size 240x160 with 1 Axes>"
      ]
     },
     "metadata": {},
     "output_type": "display_data"
    }
   ],
   "source": [
    "df_t1_pp_2d = df_t1_pp[df_t1_pp.MRAcquisitionType=='2D']"
   ]
  },
  {
   "cell_type": "code",
   "execution_count": 103,
   "metadata": {},
   "outputs": [],
   "source": [
    "df_unknown_ssp =  df_t1_pp[df_t1_pp.SpacingBetweenSlices.isna()]\n",
    "df_t1_pp_3d_temp = df_t1_pp[(df_t1_pp.MRAcquisitionType=='3D') | (df_t1_pp.NumberOfSlices>=50)]"
   ]
  },
  {
   "cell_type": "markdown",
   "metadata": {},
   "source": [
    "### How many of those have now scans before and after"
   ]
  },
  {
   "cell_type": "code",
   "execution_count": 131,
   "metadata": {},
   "outputs": [],
   "source": [
    "df_pos_3dt1 = dfc[(dfc.days_since_test>=-3) & (dfc.Sequence=='t1') & (dfc.MRAcquisitionType=='3D')]"
   ]
  },
  {
   "cell_type": "code",
   "execution_count": 137,
   "metadata": {},
   "outputs": [],
   "source": [
    "df_pos_3dt1.sort_values(\n",
    "    by=['NumberOfSlices','PatientID','SeriesInstanceUID'])[\n",
    "        ['NumberOfSlices','PatientID','SeriesInstanceUID']].to_csv(join(base_dir,'data','temp','pos_3dt1.csv'))"
   ]
  },
  {
   "cell_type": "code",
   "execution_count": 135,
   "metadata": {},
   "outputs": [
    {
     "data": {
      "text/plain": [
       "'positive\\\\0272922a8e1331758757be7a7460571f\\\\a213ff3897205841639b4717961d1d96\\\\MR\\\\0c9e5d439bd82096a07cf44cf7a0cf4a'"
      ]
     },
     "execution_count": 135,
     "metadata": {},
     "output_type": "execute_result"
    }
   ],
   "source": [
    "volume_dir_dic['0c9e5d439bd82096a07cf44cf7a0cf4a'] "
   ]
  },
  {
   "cell_type": "code",
   "execution_count": 129,
   "metadata": {},
   "outputs": [
    {
     "data": {
      "text/plain": [
       "165"
      ]
     },
     "execution_count": 129,
     "metadata": {},
     "output_type": "execute_result"
    }
   ],
   "source": [
    "df_pos_3dt1.PatientID.nunique()"
   ]
  },
  {
   "cell_type": "code",
   "execution_count": 139,
   "metadata": {},
   "outputs": [
    {
     "data": {
      "image/png": "[encoded data removed]",
      "text/plain": [
       "<Figure size 880x320 with 3 Axes>"
      ]
     },
     "metadata": {},
     "output_type": "display_data"
    }
   ],
   "source": [
    "fig, ax = plt.subplots(1,3, figsize=(22,8),gridspec_kw={'width_ratios': [2, 1,4]})\n",
    "df_pos_3dt1_m = df_pos_3dt1[~(df_pos_3dt1.NumberOfSlices==0)]\n",
    "fig, _ = svis.create_boxplot(df_pos_3dt1_m[['Rows', 'Columns',]], \n",
    "    data_labels=[\"Height\", \"Width\", ], \n",
    "    kwargs={'xlabel':'',},\n",
    "    fig=fig, ax=ax[0])\n",
    "svis.create_boxplot(df_pos_3dt1_m[['NumberOfSlices', ]], \n",
    "    data_labels=[\"Depth\", ], \n",
    "    kwargs={'xlabel':'',},\n",
    "    fig=fig, ax=ax[1])\n",
    "svis.create_boxplot(df_pos_3dt1_m[['RowSpacing', 'ColumnSpacing', 'SpacingBetweenSlices','SliceThickness' ]], \n",
    "    data_labels=[\"Pixel \\nSpacing x\", \"Pixel \\nSpacing y\",\n",
    "                 \"Slices\\nSpacing\",\"Slice\\nThickness\" ], \n",
    "    kwargs={'xlabel':'','ylabel':'mm'},\n",
    "    fig=fig, ax=ax[2])\n",
    "fig.suptitle(\"3D T1 pos. (N=164)\", fontsize=25)\n",
    "fig.tight_layout()\n",
    "fig.savefig(join(fig_dir, 't1', 'box_plot_3dt1_pos.png'))"
   ]
  },
  {
   "cell_type": "code",
   "execution_count": 104,
   "metadata": {},
   "outputs": [
    {
     "name": "stdout",
     "output_type": "stream",
     "text": [
      "28\n",
      "21\n"
     ]
    }
   ],
   "source": [
    "ls_pat_pre = df_t1_pp_3d_temp[df_t1_pp_3d_temp.days_since_test<=-30].PatientID.unique()\n",
    "print(len(ls_pat_pre))\n",
    "df_t1_pre_3d = df_t1_pp_3d_temp[df_t1_pp_3d_temp.PatientID.isin(ls_pat_pre)]\n",
    "df_t1_pp_3d = df_t1_pre_3d[df_t1_pre_3d.days_since_test>=-3]\n",
    "print(df_t1_pp_3d.PatientID.nunique())"
   ]
  },
  {
   "cell_type": "code",
   "execution_count": 125,
   "metadata": {},
   "outputs": [
    {
     "data": {
      "image/png": "[encoded data removed]",
      "text/plain": [
       "<Figure size 880x320 with 3 Axes>"
      ]
     },
     "metadata": {},
     "output_type": "display_data"
    }
   ],
   "source": [
    "fig, ax = plt.subplots(1,3, figsize=(22,8),gridspec_kw={'width_ratios': [2, 1,4]})\n",
    "fig, _ = svis.create_boxplot(df_t1_pp_3d[['Rows', 'Columns',]], \n",
    "    data_labels=[\"Height\", \"Width\", ], \n",
    "    kwargs={'xlabel':'',},\n",
    "    fig=fig, ax=ax[0])\n",
    "svis.create_boxplot(df_t1_pp_3d[['NumberOfSlices', ]], \n",
    "    data_labels=[\"Depth\", ], \n",
    "    kwargs={'xlabel':'',},\n",
    "    fig=fig, ax=ax[1])\n",
    "svis.create_boxplot(df_t1_pp_3d[['RowSpacing', 'ColumnSpacing', 'SpacingBetweenSlices','SliceThickness' ]], \n",
    "    data_labels=[\"Pixel \\nSpacing x\", \"Pixel \\nSpacing y\",\n",
    "                 \"Slices\\nSpacing\",\"Slice\\nThickness\" ], \n",
    "    kwargs={'xlabel':'','ylabel':'mm'},\n",
    "    fig=fig, ax=ax[2])\n",
    "fig.suptitle(\"3D T1 pos. with control (N=21)\", fontsize=25)\n",
    "fig.tight_layout()\n",
    "fig.savefig(join(fig_dir, 't1', 'dimension_box_plot_3dt1pp.png'))"
   ]
  },
  {
   "cell_type": "code",
   "execution_count": 46,
   "metadata": {},
   "outputs": [
    {
     "data": {
      "text/plain": [
       "'positive\\\\2b4e626448a4fe7dc2d75cc496c916c7\\\\f7bd8b6f492506a5dd9dc1261e6a08aa\\\\MR\\\\471e2785ea4f2fe0904310ab16a0cc85'"
      ]
     },
     "execution_count": 46,
     "metadata": {},
     "output_type": "execute_result"
    }
   ],
   "source": [
    "volume_dir_dic['471e2785ea4f2fe0904310ab16a0cc85']"
   ]
  },
  {
   "cell_type": "code",
   "execution_count": 45,
   "metadata": {},
   "outputs": [],
   "source": [
    "df_unknown_ssp = df_unknown_ssp[df_unknown_ssp.NumberOfSlices>=nos_3d_min]\n",
    "df_unknown_ssp_2d = df_unknown_ssp[~(df_unknown_ssp.SeriesDescription.str.contains('3D') | df_unknown_ssp.SeriesDescription.str.contains('3d'))]\n",
    "df_unknown_ssp_2d[['PatientID','SeriesInstanceUID']].sort_values(\n",
    "    by=['PatientID','SeriesInstanceUID']).to_csv(join(base_dir,'data','temp','t1_unknown_sd.csv'))"
   ]
  },
  {
   "cell_type": "markdown",
   "metadata": {},
   "source": [
    "# Identify tumor patients"
   ]
  },
  {
   "cell_type": "code",
   "execution_count": 7,
   "metadata": {},
   "outputs": [],
   "source": [
    "tumor_patient_tag = ['82f44e', '06c4453', '244a7d', '85b117f',\n",
    "                        ]\n",
    "tumor_patient_list = []\n",
    "for tag in tumor_patient_tag:\n",
    "    tumor_patient_list.append(\n",
    "        dfc[dfc.PatientID.str.startswith(tag)].PatientID.unique()[0])"
   ]
  },
  {
   "cell_type": "code",
   "execution_count": 9,
   "metadata": {},
   "outputs": [],
   "source": [
    "df_t1_pc = dfc[dfc.PatientID.isin(tumor_patient_list)]"
   ]
  },
  {
   "cell_type": "code",
   "execution_count": 13,
   "metadata": {},
   "outputs": [],
   "source": [
    "df_t1_pc[df_t1_pc.Sequence=='t1'][['SeriesInstanceUID', 'PatientID']].to_csv(\n",
    "    'D:\\Thesis\\Cobra\\cobra\\\\figs\\sp\\T1\\cancer.csv')"
   ]
  },
  {
   "cell_type": "markdown",
   "metadata": {},
   "source": [
    "# Get list of t1 pos/control scans"
   ]
  },
  {
   "cell_type": "code",
   "execution_count": 189,
   "metadata": {},
   "outputs": [],
   "source": [
    "arr_t1_neg = dfc[(dfc.Sequence=='t1') & (dfc.Positive==0)].PatientID.unique()\n",
    "np.savetxt(\"D:\\Thesis\\Cobra\\cobra\\data\\patient_groups\\\\t1_neg.txt\", arr_t1_neg,\n",
    "        delimiter=\" \", fmt=\"%s\")"
   ]
  },
  {
   "cell_type": "code",
   "execution_count": 190,
   "metadata": {},
   "outputs": [],
   "source": [
    "arr_t1_all = dfc[dfc.Sequence=='t1'].PatientID.unique()\n",
    "np.savetxt(\"D:\\Thesis\\Cobra\\cobra\\data\\patient_groups\\\\t1_all.txt\", arr_t1_all,\n",
    "        delimiter=\" \", fmt=\"%s\")"
   ]
  },
  {
   "cell_type": "code",
   "execution_count": 10,
   "metadata": {},
   "outputs": [],
   "source": [
    "ls_t1_pos = dfc[(dfc.Sequence=='t1') & (dfc.Positive==1)].PatientID.unique()\n",
    "ls_t1_pos_rest = list((set(ls_t1_pos)-set(ls_t1_post))-set(ls_t1_pp))\n",
    "np.savetxt(\"D:\\Thesis\\Cobra\\cobra\\data\\patient_groups\\\\t1_pos_rest.txt\", np.array(ls_t1_pos_rest),\n",
    "    delimiter=\" \", fmt=\"%s\")"
   ]
  },
  {
   "cell_type": "code",
   "execution_count": 16,
   "metadata": {},
   "outputs": [],
   "source": [
    "arr_t1_pos_rest_suid = np.array(dfc[(dfc.Sequence=='t1') & (dfc.PatientID.isin(ls_t1_pos_rest))].SeriesInstanceUID.unique())\n",
    "np.savetxt(\"D:\\Thesis\\Cobra\\cobra\\data\\patient_groups\\\\t1_pos_rest_suid.txt\", arr_t1_pos_rest_suid,\n",
    "    delimiter=\" \", fmt=\"%s\")"
   ]
  }
 ],
 "metadata": {
  "interpreter": {
   "hash": "fd64557248a61079a8b01b27957eac8e3bd9d72e2f60908e3e6321fba2096ec7"
  },
  "kernelspec": {
   "display_name": "Python 3.7.11 64-bit ('cobra': conda)",
   "language": "python",
   "name": "python3"
  },
  "language_info": {
   "codemirror_mode": {
    "name": "ipython",
    "version": 3
   },
   "file_extension": ".py",
   "mimetype": "text/x-python",
   "name": "python",
   "nbconvert_exporter": "python",
   "pygments_lexer": "ipython3",
   "version": "3.7.11"
  },
  "orig_nbformat": 4
 },
 "nbformat": 4,
 "nbformat_minor": 2
}
